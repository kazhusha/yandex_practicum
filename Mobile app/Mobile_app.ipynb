{
  "cells": [
    {
      "cell_type": "markdown",
      "metadata": {
        "id": "JuoKEPlOmt9Z"
      },
      "source": [
        "# Исследование данных мобильного приложения\n",
        "\n",
        "**Описание проекта**\n",
        "\n",
        "Стартап продаёт продукты питания. Нужно разобраться, как ведут себя пользователи мобильного приложения.\n",
        "\n",
        "Нужно изучить воронку продаж и исследовать результаты A/A/B-эксперимента. Дизайнеры захотели поменять шрифты во всём приложении, а менеджеры испугались, что пользователям будет непривычно. Договорились принять решение по результатам A/A/B-теста. Пользователей разбили на 3 группы: 2 контрольные со старыми шрифтами и одну экспериментальную — с новыми. Нужно выяснить, какой шрифт лучше.\n",
        "\n",
        "**Описание данных**\n",
        "\n",
        "Каждая запись в логе — это действие пользователя, или событие.\n",
        "\n",
        "* `EventName` — название события;\n",
        "* `DeviceIDHash` — уникальный идентификатор пользователя;\n",
        "* `EventTimestamp` — время события;\n",
        "* `ExpId` — номер эксперимента: 246 и 247 — контрольные группы, а 248 — экспериментальная.\n",
        "\n",
        "**Примерный план действий**\n",
        "\n",
        "1. Открыть файл с данными и изучить общую информацию\n",
        "2. Подготовить данные\n",
        "3. Изучить и проверить данные\n",
        "* Сколько всего событий в логе?\n",
        "* Сколько всего пользователей в логе?\n",
        "* Сколько в среднем событий приходится на пользователя?\n",
        "* Данными за какой период мы располагаем? Определить, с какого момента данные полные и отбросить более старые.\n",
        "* Много ли событий и пользователей мы потеряли, отбросив старые данные?\n",
        "* Проверить, что есть пользователи из всех трёх экспериментальных групп.\n",
        "4. Изучить воронку событий\n",
        "* Посмотреть, какие события есть в логах, как часто они встречаются.\n",
        "* Посчитать, сколько пользователей совершали каждое из этих событий.\n",
        "* Предположить, в каком порядке происходят события.\n",
        "* По воронке событий посчитать, какая доля пользователей проходит на следующий шаг воронки (от числа пользователей на предыдущем).\n",
        "* На каком шаге теряем больше всего пользователей?\n",
        "* Какая доля пользователей доходит от первого события до оплаты?\n",
        "5. Изучить результаты эксперимента\n",
        "* Сколько пользователей в каждой экспериментальной группе?\n",
        "* Проверить, находят ли статистические критерии разницу между 2 контрольными выборками.\n",
        "* Проверить, находят ли статистические критерии разницу между выборками контрольными и экспериментальной.\n",
        "* Какой уровень значимости выбрать при проверке статистических гипотез выше?"
      ]
    },
    {
      "cell_type": "markdown",
      "metadata": {
        "id": "6foXqXXQmt9a"
      },
      "source": [
        "## Открываем файл с данными и изучаем общую информацию"
      ]
    },
    {
      "cell_type": "markdown",
      "metadata": {
        "id": "d5yATjgEmt9a"
      },
      "source": [
        "Импортируем библиотеки."
      ]
    },
    {
      "cell_type": "code",
      "execution_count": 1,
      "metadata": {
        "id": "QIiN033smt9b"
      },
      "outputs": [],
      "source": [
        "import pandas as pd\n",
        "import seaborn\n",
        "from matplotlib import pyplot as plt\n",
        "import matplotlib\n",
        "import numpy as np\n",
        "from scipy import stats as st\n",
        "import math as mth"
      ]
    },
    {
      "cell_type": "markdown",
      "metadata": {
        "id": "EJJoqNUSmt9b"
      },
      "source": [
        "Загрузим данные из CSV-файла в переменную."
      ]
    },
    {
      "cell_type": "code",
      "execution_count": 2,
      "metadata": {
        "id": "TkN5Uo3Xmt9c"
      },
      "outputs": [],
      "source": [
        "logs = pd.read_csv('logs_exp.csv', sep='\\t')"
      ]
    },
    {
      "cell_type": "markdown",
      "metadata": {
        "id": "6wyNeq5umt9c"
      },
      "source": [
        "Изучим данные. Для начала выведем первые 20 строчек датафрейма на экран."
      ]
    },
    {
      "cell_type": "code",
      "execution_count": 3,
      "metadata": {
        "id": "E-2VCkyYmt9c",
        "colab": {
          "base_uri": "https://localhost:8080/",
          "height": 676
        },
        "outputId": "744d5812-9041-4439-997c-4d11846b153d"
      },
      "outputs": [
        {
          "output_type": "display_data",
          "data": {
            "text/plain": [
              "                  EventName         DeviceIDHash  EventTimestamp  ExpId\n",
              "0          MainScreenAppear  4575588528974610257      1564029816    246\n",
              "1          MainScreenAppear  7416695313311560658      1564053102    246\n",
              "2   PaymentScreenSuccessful  3518123091307005509      1564054127    248\n",
              "3          CartScreenAppear  3518123091307005509      1564054127    248\n",
              "4   PaymentScreenSuccessful  6217807653094995999      1564055322    248\n",
              "5          CartScreenAppear  6217807653094995999      1564055323    248\n",
              "6        OffersScreenAppear  8351860793733343758      1564066242    246\n",
              "7          MainScreenAppear  5682100281902512875      1564085677    246\n",
              "8          MainScreenAppear  1850981295691852772      1564086702    247\n",
              "9          MainScreenAppear  5407636962369102641      1564112112    246\n",
              "10         MainScreenAppear   948465712512390382      1564119214    247\n",
              "11         MainScreenAppear  2547684315586332355      1564123826    248\n",
              "12         MainScreenAppear  8885295911290764495      1564124085    248\n",
              "13         MainScreenAppear  2140904690380565988      1564125732    247\n",
              "14         MainScreenAppear  4444236400320272864      1564135560    246\n",
              "15         MainScreenAppear  8947220251154009657      1564140668    248\n",
              "16         MainScreenAppear  5839517684026830712      1564141421    247\n",
              "17         MainScreenAppear  7540130374989658208      1564144283    248\n",
              "18         CartScreenAppear  2575393697599976818      1564148945    247\n",
              "19         MainScreenAppear  4651149533106703820      1564149866    246"
            ],
            "text/html": [
              "\n",
              "  <div id=\"df-b72031a7-6e55-44bc-8437-b85f10c66610\" class=\"colab-df-container\">\n",
              "    <div>\n",
              "<style scoped>\n",
              "    .dataframe tbody tr th:only-of-type {\n",
              "        vertical-align: middle;\n",
              "    }\n",
              "\n",
              "    .dataframe tbody tr th {\n",
              "        vertical-align: top;\n",
              "    }\n",
              "\n",
              "    .dataframe thead th {\n",
              "        text-align: right;\n",
              "    }\n",
              "</style>\n",
              "<table border=\"1\" class=\"dataframe\">\n",
              "  <thead>\n",
              "    <tr style=\"text-align: right;\">\n",
              "      <th></th>\n",
              "      <th>EventName</th>\n",
              "      <th>DeviceIDHash</th>\n",
              "      <th>EventTimestamp</th>\n",
              "      <th>ExpId</th>\n",
              "    </tr>\n",
              "  </thead>\n",
              "  <tbody>\n",
              "    <tr>\n",
              "      <th>0</th>\n",
              "      <td>MainScreenAppear</td>\n",
              "      <td>4575588528974610257</td>\n",
              "      <td>1564029816</td>\n",
              "      <td>246</td>\n",
              "    </tr>\n",
              "    <tr>\n",
              "      <th>1</th>\n",
              "      <td>MainScreenAppear</td>\n",
              "      <td>7416695313311560658</td>\n",
              "      <td>1564053102</td>\n",
              "      <td>246</td>\n",
              "    </tr>\n",
              "    <tr>\n",
              "      <th>2</th>\n",
              "      <td>PaymentScreenSuccessful</td>\n",
              "      <td>3518123091307005509</td>\n",
              "      <td>1564054127</td>\n",
              "      <td>248</td>\n",
              "    </tr>\n",
              "    <tr>\n",
              "      <th>3</th>\n",
              "      <td>CartScreenAppear</td>\n",
              "      <td>3518123091307005509</td>\n",
              "      <td>1564054127</td>\n",
              "      <td>248</td>\n",
              "    </tr>\n",
              "    <tr>\n",
              "      <th>4</th>\n",
              "      <td>PaymentScreenSuccessful</td>\n",
              "      <td>6217807653094995999</td>\n",
              "      <td>1564055322</td>\n",
              "      <td>248</td>\n",
              "    </tr>\n",
              "    <tr>\n",
              "      <th>5</th>\n",
              "      <td>CartScreenAppear</td>\n",
              "      <td>6217807653094995999</td>\n",
              "      <td>1564055323</td>\n",
              "      <td>248</td>\n",
              "    </tr>\n",
              "    <tr>\n",
              "      <th>6</th>\n",
              "      <td>OffersScreenAppear</td>\n",
              "      <td>8351860793733343758</td>\n",
              "      <td>1564066242</td>\n",
              "      <td>246</td>\n",
              "    </tr>\n",
              "    <tr>\n",
              "      <th>7</th>\n",
              "      <td>MainScreenAppear</td>\n",
              "      <td>5682100281902512875</td>\n",
              "      <td>1564085677</td>\n",
              "      <td>246</td>\n",
              "    </tr>\n",
              "    <tr>\n",
              "      <th>8</th>\n",
              "      <td>MainScreenAppear</td>\n",
              "      <td>1850981295691852772</td>\n",
              "      <td>1564086702</td>\n",
              "      <td>247</td>\n",
              "    </tr>\n",
              "    <tr>\n",
              "      <th>9</th>\n",
              "      <td>MainScreenAppear</td>\n",
              "      <td>5407636962369102641</td>\n",
              "      <td>1564112112</td>\n",
              "      <td>246</td>\n",
              "    </tr>\n",
              "    <tr>\n",
              "      <th>10</th>\n",
              "      <td>MainScreenAppear</td>\n",
              "      <td>948465712512390382</td>\n",
              "      <td>1564119214</td>\n",
              "      <td>247</td>\n",
              "    </tr>\n",
              "    <tr>\n",
              "      <th>11</th>\n",
              "      <td>MainScreenAppear</td>\n",
              "      <td>2547684315586332355</td>\n",
              "      <td>1564123826</td>\n",
              "      <td>248</td>\n",
              "    </tr>\n",
              "    <tr>\n",
              "      <th>12</th>\n",
              "      <td>MainScreenAppear</td>\n",
              "      <td>8885295911290764495</td>\n",
              "      <td>1564124085</td>\n",
              "      <td>248</td>\n",
              "    </tr>\n",
              "    <tr>\n",
              "      <th>13</th>\n",
              "      <td>MainScreenAppear</td>\n",
              "      <td>2140904690380565988</td>\n",
              "      <td>1564125732</td>\n",
              "      <td>247</td>\n",
              "    </tr>\n",
              "    <tr>\n",
              "      <th>14</th>\n",
              "      <td>MainScreenAppear</td>\n",
              "      <td>4444236400320272864</td>\n",
              "      <td>1564135560</td>\n",
              "      <td>246</td>\n",
              "    </tr>\n",
              "    <tr>\n",
              "      <th>15</th>\n",
              "      <td>MainScreenAppear</td>\n",
              "      <td>8947220251154009657</td>\n",
              "      <td>1564140668</td>\n",
              "      <td>248</td>\n",
              "    </tr>\n",
              "    <tr>\n",
              "      <th>16</th>\n",
              "      <td>MainScreenAppear</td>\n",
              "      <td>5839517684026830712</td>\n",
              "      <td>1564141421</td>\n",
              "      <td>247</td>\n",
              "    </tr>\n",
              "    <tr>\n",
              "      <th>17</th>\n",
              "      <td>MainScreenAppear</td>\n",
              "      <td>7540130374989658208</td>\n",
              "      <td>1564144283</td>\n",
              "      <td>248</td>\n",
              "    </tr>\n",
              "    <tr>\n",
              "      <th>18</th>\n",
              "      <td>CartScreenAppear</td>\n",
              "      <td>2575393697599976818</td>\n",
              "      <td>1564148945</td>\n",
              "      <td>247</td>\n",
              "    </tr>\n",
              "    <tr>\n",
              "      <th>19</th>\n",
              "      <td>MainScreenAppear</td>\n",
              "      <td>4651149533106703820</td>\n",
              "      <td>1564149866</td>\n",
              "      <td>246</td>\n",
              "    </tr>\n",
              "  </tbody>\n",
              "</table>\n",
              "</div>\n",
              "    <div class=\"colab-df-buttons\">\n",
              "\n",
              "  <div class=\"colab-df-container\">\n",
              "    <button class=\"colab-df-convert\" onclick=\"convertToInteractive('df-b72031a7-6e55-44bc-8437-b85f10c66610')\"\n",
              "            title=\"Convert this dataframe to an interactive table.\"\n",
              "            style=\"display:none;\">\n",
              "\n",
              "  <svg xmlns=\"http://www.w3.org/2000/svg\" height=\"24px\" viewBox=\"0 -960 960 960\">\n",
              "    <path d=\"M120-120v-720h720v720H120Zm60-500h600v-160H180v160Zm220 220h160v-160H400v160Zm0 220h160v-160H400v160ZM180-400h160v-160H180v160Zm440 0h160v-160H620v160ZM180-180h160v-160H180v160Zm440 0h160v-160H620v160Z\"/>\n",
              "  </svg>\n",
              "    </button>\n",
              "\n",
              "  <style>\n",
              "    .colab-df-container {\n",
              "      display:flex;\n",
              "      gap: 12px;\n",
              "    }\n",
              "\n",
              "    .colab-df-convert {\n",
              "      background-color: #E8F0FE;\n",
              "      border: none;\n",
              "      border-radius: 50%;\n",
              "      cursor: pointer;\n",
              "      display: none;\n",
              "      fill: #1967D2;\n",
              "      height: 32px;\n",
              "      padding: 0 0 0 0;\n",
              "      width: 32px;\n",
              "    }\n",
              "\n",
              "    .colab-df-convert:hover {\n",
              "      background-color: #E2EBFA;\n",
              "      box-shadow: 0px 1px 2px rgba(60, 64, 67, 0.3), 0px 1px 3px 1px rgba(60, 64, 67, 0.15);\n",
              "      fill: #174EA6;\n",
              "    }\n",
              "\n",
              "    .colab-df-buttons div {\n",
              "      margin-bottom: 4px;\n",
              "    }\n",
              "\n",
              "    [theme=dark] .colab-df-convert {\n",
              "      background-color: #3B4455;\n",
              "      fill: #D2E3FC;\n",
              "    }\n",
              "\n",
              "    [theme=dark] .colab-df-convert:hover {\n",
              "      background-color: #434B5C;\n",
              "      box-shadow: 0px 1px 3px 1px rgba(0, 0, 0, 0.15);\n",
              "      filter: drop-shadow(0px 1px 2px rgba(0, 0, 0, 0.3));\n",
              "      fill: #FFFFFF;\n",
              "    }\n",
              "  </style>\n",
              "\n",
              "    <script>\n",
              "      const buttonEl =\n",
              "        document.querySelector('#df-b72031a7-6e55-44bc-8437-b85f10c66610 button.colab-df-convert');\n",
              "      buttonEl.style.display =\n",
              "        google.colab.kernel.accessAllowed ? 'block' : 'none';\n",
              "\n",
              "      async function convertToInteractive(key) {\n",
              "        const element = document.querySelector('#df-b72031a7-6e55-44bc-8437-b85f10c66610');\n",
              "        const dataTable =\n",
              "          await google.colab.kernel.invokeFunction('convertToInteractive',\n",
              "                                                    [key], {});\n",
              "        if (!dataTable) return;\n",
              "\n",
              "        const docLinkHtml = 'Like what you see? Visit the ' +\n",
              "          '<a target=\"_blank\" href=https://colab.research.google.com/notebooks/data_table.ipynb>data table notebook</a>'\n",
              "          + ' to learn more about interactive tables.';\n",
              "        element.innerHTML = '';\n",
              "        dataTable['output_type'] = 'display_data';\n",
              "        await google.colab.output.renderOutput(dataTable, element);\n",
              "        const docLink = document.createElement('div');\n",
              "        docLink.innerHTML = docLinkHtml;\n",
              "        element.appendChild(docLink);\n",
              "      }\n",
              "    </script>\n",
              "  </div>\n",
              "\n",
              "\n",
              "<div id=\"df-91cc3dcf-9327-46c2-bb71-365c524fdd08\">\n",
              "  <button class=\"colab-df-quickchart\" onclick=\"quickchart('df-91cc3dcf-9327-46c2-bb71-365c524fdd08')\"\n",
              "            title=\"Suggest charts\"\n",
              "            style=\"display:none;\">\n",
              "\n",
              "<svg xmlns=\"http://www.w3.org/2000/svg\" height=\"24px\"viewBox=\"0 0 24 24\"\n",
              "     width=\"24px\">\n",
              "    <g>\n",
              "        <path d=\"M19 3H5c-1.1 0-2 .9-2 2v14c0 1.1.9 2 2 2h14c1.1 0 2-.9 2-2V5c0-1.1-.9-2-2-2zM9 17H7v-7h2v7zm4 0h-2V7h2v10zm4 0h-2v-4h2v4z\"/>\n",
              "    </g>\n",
              "</svg>\n",
              "  </button>\n",
              "\n",
              "<style>\n",
              "  .colab-df-quickchart {\n",
              "      --bg-color: #E8F0FE;\n",
              "      --fill-color: #1967D2;\n",
              "      --hover-bg-color: #E2EBFA;\n",
              "      --hover-fill-color: #174EA6;\n",
              "      --disabled-fill-color: #AAA;\n",
              "      --disabled-bg-color: #DDD;\n",
              "  }\n",
              "\n",
              "  [theme=dark] .colab-df-quickchart {\n",
              "      --bg-color: #3B4455;\n",
              "      --fill-color: #D2E3FC;\n",
              "      --hover-bg-color: #434B5C;\n",
              "      --hover-fill-color: #FFFFFF;\n",
              "      --disabled-bg-color: #3B4455;\n",
              "      --disabled-fill-color: #666;\n",
              "  }\n",
              "\n",
              "  .colab-df-quickchart {\n",
              "    background-color: var(--bg-color);\n",
              "    border: none;\n",
              "    border-radius: 50%;\n",
              "    cursor: pointer;\n",
              "    display: none;\n",
              "    fill: var(--fill-color);\n",
              "    height: 32px;\n",
              "    padding: 0;\n",
              "    width: 32px;\n",
              "  }\n",
              "\n",
              "  .colab-df-quickchart:hover {\n",
              "    background-color: var(--hover-bg-color);\n",
              "    box-shadow: 0 1px 2px rgba(60, 64, 67, 0.3), 0 1px 3px 1px rgba(60, 64, 67, 0.15);\n",
              "    fill: var(--button-hover-fill-color);\n",
              "  }\n",
              "\n",
              "  .colab-df-quickchart-complete:disabled,\n",
              "  .colab-df-quickchart-complete:disabled:hover {\n",
              "    background-color: var(--disabled-bg-color);\n",
              "    fill: var(--disabled-fill-color);\n",
              "    box-shadow: none;\n",
              "  }\n",
              "\n",
              "  .colab-df-spinner {\n",
              "    border: 2px solid var(--fill-color);\n",
              "    border-color: transparent;\n",
              "    border-bottom-color: var(--fill-color);\n",
              "    animation:\n",
              "      spin 1s steps(1) infinite;\n",
              "  }\n",
              "\n",
              "  @keyframes spin {\n",
              "    0% {\n",
              "      border-color: transparent;\n",
              "      border-bottom-color: var(--fill-color);\n",
              "      border-left-color: var(--fill-color);\n",
              "    }\n",
              "    20% {\n",
              "      border-color: transparent;\n",
              "      border-left-color: var(--fill-color);\n",
              "      border-top-color: var(--fill-color);\n",
              "    }\n",
              "    30% {\n",
              "      border-color: transparent;\n",
              "      border-left-color: var(--fill-color);\n",
              "      border-top-color: var(--fill-color);\n",
              "      border-right-color: var(--fill-color);\n",
              "    }\n",
              "    40% {\n",
              "      border-color: transparent;\n",
              "      border-right-color: var(--fill-color);\n",
              "      border-top-color: var(--fill-color);\n",
              "    }\n",
              "    60% {\n",
              "      border-color: transparent;\n",
              "      border-right-color: var(--fill-color);\n",
              "    }\n",
              "    80% {\n",
              "      border-color: transparent;\n",
              "      border-right-color: var(--fill-color);\n",
              "      border-bottom-color: var(--fill-color);\n",
              "    }\n",
              "    90% {\n",
              "      border-color: transparent;\n",
              "      border-bottom-color: var(--fill-color);\n",
              "    }\n",
              "  }\n",
              "</style>\n",
              "\n",
              "  <script>\n",
              "    async function quickchart(key) {\n",
              "      const quickchartButtonEl =\n",
              "        document.querySelector('#' + key + ' button');\n",
              "      quickchartButtonEl.disabled = true;  // To prevent multiple clicks.\n",
              "      quickchartButtonEl.classList.add('colab-df-spinner');\n",
              "      try {\n",
              "        const charts = await google.colab.kernel.invokeFunction(\n",
              "            'suggestCharts', [key], {});\n",
              "      } catch (error) {\n",
              "        console.error('Error during call to suggestCharts:', error);\n",
              "      }\n",
              "      quickchartButtonEl.classList.remove('colab-df-spinner');\n",
              "      quickchartButtonEl.classList.add('colab-df-quickchart-complete');\n",
              "    }\n",
              "    (() => {\n",
              "      let quickchartButtonEl =\n",
              "        document.querySelector('#df-91cc3dcf-9327-46c2-bb71-365c524fdd08 button');\n",
              "      quickchartButtonEl.style.display =\n",
              "        google.colab.kernel.accessAllowed ? 'block' : 'none';\n",
              "    })();\n",
              "  </script>\n",
              "</div>\n",
              "    </div>\n",
              "  </div>\n"
            ]
          },
          "metadata": {}
        }
      ],
      "source": [
        "display(logs.head(20))"
      ]
    },
    {
      "cell_type": "markdown",
      "metadata": {
        "id": "utZxfzL1mt9c"
      },
      "source": [
        "Выведем основную информацию о датафрейме."
      ]
    },
    {
      "cell_type": "code",
      "execution_count": 4,
      "metadata": {
        "id": "NY1nSnismt9d",
        "colab": {
          "base_uri": "https://localhost:8080/"
        },
        "outputId": "c6810c45-3779-427a-ad24-b0c370f7c61f"
      },
      "outputs": [
        {
          "output_type": "stream",
          "name": "stdout",
          "text": [
            "<class 'pandas.core.frame.DataFrame'>\n",
            "RangeIndex: 244126 entries, 0 to 244125\n",
            "Data columns (total 4 columns):\n",
            " #   Column          Non-Null Count   Dtype \n",
            "---  ------          --------------   ----- \n",
            " 0   EventName       244126 non-null  object\n",
            " 1   DeviceIDHash    244126 non-null  int64 \n",
            " 2   EventTimestamp  244126 non-null  int64 \n",
            " 3   ExpId           244126 non-null  int64 \n",
            "dtypes: int64(3), object(1)\n",
            "memory usage: 7.5+ MB\n"
          ]
        }
      ],
      "source": [
        "logs.info()"
      ]
    },
    {
      "cell_type": "markdown",
      "metadata": {
        "id": "wlMnkrrkmt9d"
      },
      "source": [
        "**Вывод**: нужно заменить названия столбцов. Пропусков нет. В столбце `EventTimestamp` нужно изменить числовой тип данных на тип времени."
      ]
    },
    {
      "cell_type": "markdown",
      "metadata": {
        "id": "CxN_thpGmt9d"
      },
      "source": [
        "## Подготовим данные"
      ]
    },
    {
      "cell_type": "markdown",
      "metadata": {
        "id": "7LBawWfKmt9d"
      },
      "source": [
        "* Заменим названия столбцов, чтобы они не содержали заглавных букв, а содержали нижние подчеркивания."
      ]
    },
    {
      "cell_type": "code",
      "execution_count": 5,
      "metadata": {
        "id": "SjtDIkfbmt9d"
      },
      "outputs": [],
      "source": [
        "logs = logs.rename(columns={'EventName':'event_name', 'DeviceIDHash': 'device_id_hash', 'EventTimestamp': 'event_timestamp', 'ExpId': 'exp_id'})"
      ]
    },
    {
      "cell_type": "markdown",
      "metadata": {
        "id": "uwXWnKoRmt9d"
      },
      "source": [
        "* Изменим тип данных в столбце `event_timestamp` с числового на тип времени."
      ]
    },
    {
      "cell_type": "code",
      "execution_count": 6,
      "metadata": {
        "id": "z9z0Ico1mt9d"
      },
      "outputs": [],
      "source": [
        "logs['event_timestamp'] = pd.to_datetime(logs['event_timestamp'], unit='s')"
      ]
    },
    {
      "cell_type": "markdown",
      "metadata": {
        "id": "793bz6Hsmt9d"
      },
      "source": [
        "* Добавим отдельный столбец дат."
      ]
    },
    {
      "cell_type": "code",
      "execution_count": 7,
      "metadata": {
        "id": "XjYWSyvEmt9e"
      },
      "outputs": [],
      "source": [
        "logs['date'] = pd.DatetimeIndex(logs['event_timestamp']).date"
      ]
    },
    {
      "cell_type": "markdown",
      "metadata": {
        "id": "vtOZmtqhmt9e"
      },
      "source": [
        "Проверим наличие дубликатов."
      ]
    },
    {
      "cell_type": "code",
      "execution_count": 8,
      "metadata": {
        "id": "4iw35VIimt9e",
        "colab": {
          "base_uri": "https://localhost:8080/"
        },
        "outputId": "ed247e18-a355-4d02-a07c-c6c9c6ff160f"
      },
      "outputs": [
        {
          "output_type": "execute_result",
          "data": {
            "text/plain": [
              "413"
            ]
          },
          "metadata": {},
          "execution_count": 8
        }
      ],
      "source": [
        "logs.duplicated().sum()"
      ]
    },
    {
      "cell_type": "markdown",
      "metadata": {
        "id": "0Wzu59Uumt9e"
      },
      "source": [
        "Есть полные дубликаты строк, посмотрим на них."
      ]
    },
    {
      "cell_type": "code",
      "execution_count": 9,
      "metadata": {
        "id": "420uocIsmt9e",
        "colab": {
          "base_uri": "https://localhost:8080/",
          "height": 423
        },
        "outputId": "90c3a4ef-03ae-4fc5-d0d9-e98af5f98195"
      },
      "outputs": [
        {
          "output_type": "execute_result",
          "data": {
            "text/plain": [
              "                     event_name       device_id_hash     event_timestamp  \\\n",
              "453            MainScreenAppear  5613408041324010552 2019-07-30 08:19:44   \n",
              "2350           CartScreenAppear  1694940645335807244 2019-07-31 21:51:39   \n",
              "3573           MainScreenAppear   434103746454591587 2019-08-01 02:59:37   \n",
              "4076           MainScreenAppear  3761373764179762633 2019-08-01 03:47:46   \n",
              "4803           MainScreenAppear  2835328739789306622 2019-08-01 04:44:01   \n",
              "...                         ...                  ...                 ...   \n",
              "242329         MainScreenAppear  8870358373313968633 2019-08-07 19:26:44   \n",
              "242332  PaymentScreenSuccessful  4718002964983105693 2019-08-07 19:26:45   \n",
              "242362         CartScreenAppear  2382591782303281935 2019-08-07 19:27:29   \n",
              "242360  PaymentScreenSuccessful  2382591782303281935 2019-08-07 19:27:29   \n",
              "242635         MainScreenAppear  4097782667445790512 2019-08-07 19:36:58   \n",
              "\n",
              "        exp_id        date  \n",
              "453        248  2019-07-30  \n",
              "2350       248  2019-07-31  \n",
              "3573       248  2019-08-01  \n",
              "4076       247  2019-08-01  \n",
              "4803       248  2019-08-01  \n",
              "...        ...         ...  \n",
              "242329     247  2019-08-07  \n",
              "242332     247  2019-08-07  \n",
              "242362     246  2019-08-07  \n",
              "242360     246  2019-08-07  \n",
              "242635     246  2019-08-07  \n",
              "\n",
              "[413 rows x 5 columns]"
            ],
            "text/html": [
              "\n",
              "  <div id=\"df-658135a5-ac00-4a55-b287-a90fbec8a630\" class=\"colab-df-container\">\n",
              "    <div>\n",
              "<style scoped>\n",
              "    .dataframe tbody tr th:only-of-type {\n",
              "        vertical-align: middle;\n",
              "    }\n",
              "\n",
              "    .dataframe tbody tr th {\n",
              "        vertical-align: top;\n",
              "    }\n",
              "\n",
              "    .dataframe thead th {\n",
              "        text-align: right;\n",
              "    }\n",
              "</style>\n",
              "<table border=\"1\" class=\"dataframe\">\n",
              "  <thead>\n",
              "    <tr style=\"text-align: right;\">\n",
              "      <th></th>\n",
              "      <th>event_name</th>\n",
              "      <th>device_id_hash</th>\n",
              "      <th>event_timestamp</th>\n",
              "      <th>exp_id</th>\n",
              "      <th>date</th>\n",
              "    </tr>\n",
              "  </thead>\n",
              "  <tbody>\n",
              "    <tr>\n",
              "      <th>453</th>\n",
              "      <td>MainScreenAppear</td>\n",
              "      <td>5613408041324010552</td>\n",
              "      <td>2019-07-30 08:19:44</td>\n",
              "      <td>248</td>\n",
              "      <td>2019-07-30</td>\n",
              "    </tr>\n",
              "    <tr>\n",
              "      <th>2350</th>\n",
              "      <td>CartScreenAppear</td>\n",
              "      <td>1694940645335807244</td>\n",
              "      <td>2019-07-31 21:51:39</td>\n",
              "      <td>248</td>\n",
              "      <td>2019-07-31</td>\n",
              "    </tr>\n",
              "    <tr>\n",
              "      <th>3573</th>\n",
              "      <td>MainScreenAppear</td>\n",
              "      <td>434103746454591587</td>\n",
              "      <td>2019-08-01 02:59:37</td>\n",
              "      <td>248</td>\n",
              "      <td>2019-08-01</td>\n",
              "    </tr>\n",
              "    <tr>\n",
              "      <th>4076</th>\n",
              "      <td>MainScreenAppear</td>\n",
              "      <td>3761373764179762633</td>\n",
              "      <td>2019-08-01 03:47:46</td>\n",
              "      <td>247</td>\n",
              "      <td>2019-08-01</td>\n",
              "    </tr>\n",
              "    <tr>\n",
              "      <th>4803</th>\n",
              "      <td>MainScreenAppear</td>\n",
              "      <td>2835328739789306622</td>\n",
              "      <td>2019-08-01 04:44:01</td>\n",
              "      <td>248</td>\n",
              "      <td>2019-08-01</td>\n",
              "    </tr>\n",
              "    <tr>\n",
              "      <th>...</th>\n",
              "      <td>...</td>\n",
              "      <td>...</td>\n",
              "      <td>...</td>\n",
              "      <td>...</td>\n",
              "      <td>...</td>\n",
              "    </tr>\n",
              "    <tr>\n",
              "      <th>242329</th>\n",
              "      <td>MainScreenAppear</td>\n",
              "      <td>8870358373313968633</td>\n",
              "      <td>2019-08-07 19:26:44</td>\n",
              "      <td>247</td>\n",
              "      <td>2019-08-07</td>\n",
              "    </tr>\n",
              "    <tr>\n",
              "      <th>242332</th>\n",
              "      <td>PaymentScreenSuccessful</td>\n",
              "      <td>4718002964983105693</td>\n",
              "      <td>2019-08-07 19:26:45</td>\n",
              "      <td>247</td>\n",
              "      <td>2019-08-07</td>\n",
              "    </tr>\n",
              "    <tr>\n",
              "      <th>242362</th>\n",
              "      <td>CartScreenAppear</td>\n",
              "      <td>2382591782303281935</td>\n",
              "      <td>2019-08-07 19:27:29</td>\n",
              "      <td>246</td>\n",
              "      <td>2019-08-07</td>\n",
              "    </tr>\n",
              "    <tr>\n",
              "      <th>242360</th>\n",
              "      <td>PaymentScreenSuccessful</td>\n",
              "      <td>2382591782303281935</td>\n",
              "      <td>2019-08-07 19:27:29</td>\n",
              "      <td>246</td>\n",
              "      <td>2019-08-07</td>\n",
              "    </tr>\n",
              "    <tr>\n",
              "      <th>242635</th>\n",
              "      <td>MainScreenAppear</td>\n",
              "      <td>4097782667445790512</td>\n",
              "      <td>2019-08-07 19:36:58</td>\n",
              "      <td>246</td>\n",
              "      <td>2019-08-07</td>\n",
              "    </tr>\n",
              "  </tbody>\n",
              "</table>\n",
              "<p>413 rows × 5 columns</p>\n",
              "</div>\n",
              "    <div class=\"colab-df-buttons\">\n",
              "\n",
              "  <div class=\"colab-df-container\">\n",
              "    <button class=\"colab-df-convert\" onclick=\"convertToInteractive('df-658135a5-ac00-4a55-b287-a90fbec8a630')\"\n",
              "            title=\"Convert this dataframe to an interactive table.\"\n",
              "            style=\"display:none;\">\n",
              "\n",
              "  <svg xmlns=\"http://www.w3.org/2000/svg\" height=\"24px\" viewBox=\"0 -960 960 960\">\n",
              "    <path d=\"M120-120v-720h720v720H120Zm60-500h600v-160H180v160Zm220 220h160v-160H400v160Zm0 220h160v-160H400v160ZM180-400h160v-160H180v160Zm440 0h160v-160H620v160ZM180-180h160v-160H180v160Zm440 0h160v-160H620v160Z\"/>\n",
              "  </svg>\n",
              "    </button>\n",
              "\n",
              "  <style>\n",
              "    .colab-df-container {\n",
              "      display:flex;\n",
              "      gap: 12px;\n",
              "    }\n",
              "\n",
              "    .colab-df-convert {\n",
              "      background-color: #E8F0FE;\n",
              "      border: none;\n",
              "      border-radius: 50%;\n",
              "      cursor: pointer;\n",
              "      display: none;\n",
              "      fill: #1967D2;\n",
              "      height: 32px;\n",
              "      padding: 0 0 0 0;\n",
              "      width: 32px;\n",
              "    }\n",
              "\n",
              "    .colab-df-convert:hover {\n",
              "      background-color: #E2EBFA;\n",
              "      box-shadow: 0px 1px 2px rgba(60, 64, 67, 0.3), 0px 1px 3px 1px rgba(60, 64, 67, 0.15);\n",
              "      fill: #174EA6;\n",
              "    }\n",
              "\n",
              "    .colab-df-buttons div {\n",
              "      margin-bottom: 4px;\n",
              "    }\n",
              "\n",
              "    [theme=dark] .colab-df-convert {\n",
              "      background-color: #3B4455;\n",
              "      fill: #D2E3FC;\n",
              "    }\n",
              "\n",
              "    [theme=dark] .colab-df-convert:hover {\n",
              "      background-color: #434B5C;\n",
              "      box-shadow: 0px 1px 3px 1px rgba(0, 0, 0, 0.15);\n",
              "      filter: drop-shadow(0px 1px 2px rgba(0, 0, 0, 0.3));\n",
              "      fill: #FFFFFF;\n",
              "    }\n",
              "  </style>\n",
              "\n",
              "    <script>\n",
              "      const buttonEl =\n",
              "        document.querySelector('#df-658135a5-ac00-4a55-b287-a90fbec8a630 button.colab-df-convert');\n",
              "      buttonEl.style.display =\n",
              "        google.colab.kernel.accessAllowed ? 'block' : 'none';\n",
              "\n",
              "      async function convertToInteractive(key) {\n",
              "        const element = document.querySelector('#df-658135a5-ac00-4a55-b287-a90fbec8a630');\n",
              "        const dataTable =\n",
              "          await google.colab.kernel.invokeFunction('convertToInteractive',\n",
              "                                                    [key], {});\n",
              "        if (!dataTable) return;\n",
              "\n",
              "        const docLinkHtml = 'Like what you see? Visit the ' +\n",
              "          '<a target=\"_blank\" href=https://colab.research.google.com/notebooks/data_table.ipynb>data table notebook</a>'\n",
              "          + ' to learn more about interactive tables.';\n",
              "        element.innerHTML = '';\n",
              "        dataTable['output_type'] = 'display_data';\n",
              "        await google.colab.output.renderOutput(dataTable, element);\n",
              "        const docLink = document.createElement('div');\n",
              "        docLink.innerHTML = docLinkHtml;\n",
              "        element.appendChild(docLink);\n",
              "      }\n",
              "    </script>\n",
              "  </div>\n",
              "\n",
              "\n",
              "<div id=\"df-da4154e6-c9a6-409d-8e23-8265c4e206ec\">\n",
              "  <button class=\"colab-df-quickchart\" onclick=\"quickchart('df-da4154e6-c9a6-409d-8e23-8265c4e206ec')\"\n",
              "            title=\"Suggest charts\"\n",
              "            style=\"display:none;\">\n",
              "\n",
              "<svg xmlns=\"http://www.w3.org/2000/svg\" height=\"24px\"viewBox=\"0 0 24 24\"\n",
              "     width=\"24px\">\n",
              "    <g>\n",
              "        <path d=\"M19 3H5c-1.1 0-2 .9-2 2v14c0 1.1.9 2 2 2h14c1.1 0 2-.9 2-2V5c0-1.1-.9-2-2-2zM9 17H7v-7h2v7zm4 0h-2V7h2v10zm4 0h-2v-4h2v4z\"/>\n",
              "    </g>\n",
              "</svg>\n",
              "  </button>\n",
              "\n",
              "<style>\n",
              "  .colab-df-quickchart {\n",
              "      --bg-color: #E8F0FE;\n",
              "      --fill-color: #1967D2;\n",
              "      --hover-bg-color: #E2EBFA;\n",
              "      --hover-fill-color: #174EA6;\n",
              "      --disabled-fill-color: #AAA;\n",
              "      --disabled-bg-color: #DDD;\n",
              "  }\n",
              "\n",
              "  [theme=dark] .colab-df-quickchart {\n",
              "      --bg-color: #3B4455;\n",
              "      --fill-color: #D2E3FC;\n",
              "      --hover-bg-color: #434B5C;\n",
              "      --hover-fill-color: #FFFFFF;\n",
              "      --disabled-bg-color: #3B4455;\n",
              "      --disabled-fill-color: #666;\n",
              "  }\n",
              "\n",
              "  .colab-df-quickchart {\n",
              "    background-color: var(--bg-color);\n",
              "    border: none;\n",
              "    border-radius: 50%;\n",
              "    cursor: pointer;\n",
              "    display: none;\n",
              "    fill: var(--fill-color);\n",
              "    height: 32px;\n",
              "    padding: 0;\n",
              "    width: 32px;\n",
              "  }\n",
              "\n",
              "  .colab-df-quickchart:hover {\n",
              "    background-color: var(--hover-bg-color);\n",
              "    box-shadow: 0 1px 2px rgba(60, 64, 67, 0.3), 0 1px 3px 1px rgba(60, 64, 67, 0.15);\n",
              "    fill: var(--button-hover-fill-color);\n",
              "  }\n",
              "\n",
              "  .colab-df-quickchart-complete:disabled,\n",
              "  .colab-df-quickchart-complete:disabled:hover {\n",
              "    background-color: var(--disabled-bg-color);\n",
              "    fill: var(--disabled-fill-color);\n",
              "    box-shadow: none;\n",
              "  }\n",
              "\n",
              "  .colab-df-spinner {\n",
              "    border: 2px solid var(--fill-color);\n",
              "    border-color: transparent;\n",
              "    border-bottom-color: var(--fill-color);\n",
              "    animation:\n",
              "      spin 1s steps(1) infinite;\n",
              "  }\n",
              "\n",
              "  @keyframes spin {\n",
              "    0% {\n",
              "      border-color: transparent;\n",
              "      border-bottom-color: var(--fill-color);\n",
              "      border-left-color: var(--fill-color);\n",
              "    }\n",
              "    20% {\n",
              "      border-color: transparent;\n",
              "      border-left-color: var(--fill-color);\n",
              "      border-top-color: var(--fill-color);\n",
              "    }\n",
              "    30% {\n",
              "      border-color: transparent;\n",
              "      border-left-color: var(--fill-color);\n",
              "      border-top-color: var(--fill-color);\n",
              "      border-right-color: var(--fill-color);\n",
              "    }\n",
              "    40% {\n",
              "      border-color: transparent;\n",
              "      border-right-color: var(--fill-color);\n",
              "      border-top-color: var(--fill-color);\n",
              "    }\n",
              "    60% {\n",
              "      border-color: transparent;\n",
              "      border-right-color: var(--fill-color);\n",
              "    }\n",
              "    80% {\n",
              "      border-color: transparent;\n",
              "      border-right-color: var(--fill-color);\n",
              "      border-bottom-color: var(--fill-color);\n",
              "    }\n",
              "    90% {\n",
              "      border-color: transparent;\n",
              "      border-bottom-color: var(--fill-color);\n",
              "    }\n",
              "  }\n",
              "</style>\n",
              "\n",
              "  <script>\n",
              "    async function quickchart(key) {\n",
              "      const quickchartButtonEl =\n",
              "        document.querySelector('#' + key + ' button');\n",
              "      quickchartButtonEl.disabled = true;  // To prevent multiple clicks.\n",
              "      quickchartButtonEl.classList.add('colab-df-spinner');\n",
              "      try {\n",
              "        const charts = await google.colab.kernel.invokeFunction(\n",
              "            'suggestCharts', [key], {});\n",
              "      } catch (error) {\n",
              "        console.error('Error during call to suggestCharts:', error);\n",
              "      }\n",
              "      quickchartButtonEl.classList.remove('colab-df-spinner');\n",
              "      quickchartButtonEl.classList.add('colab-df-quickchart-complete');\n",
              "    }\n",
              "    (() => {\n",
              "      let quickchartButtonEl =\n",
              "        document.querySelector('#df-da4154e6-c9a6-409d-8e23-8265c4e206ec button');\n",
              "      quickchartButtonEl.style.display =\n",
              "        google.colab.kernel.accessAllowed ? 'block' : 'none';\n",
              "    })();\n",
              "  </script>\n",
              "</div>\n",
              "    </div>\n",
              "  </div>\n"
            ]
          },
          "metadata": {},
          "execution_count": 9
        }
      ],
      "source": [
        "logs.loc[logs.duplicated()].sort_values('event_timestamp')"
      ]
    },
    {
      "cell_type": "markdown",
      "metadata": {
        "id": "YsgCvEgQmt9e"
      },
      "source": [
        "Похоже произошли ошибки при логировании данных. Удалим дубликаты."
      ]
    },
    {
      "cell_type": "code",
      "execution_count": 10,
      "metadata": {
        "id": "HT8q2pGrmt9e"
      },
      "outputs": [],
      "source": [
        "logs = logs.drop_duplicates().reset_index()"
      ]
    },
    {
      "cell_type": "markdown",
      "metadata": {
        "id": "MHjZnnRHmt9e"
      },
      "source": [
        "Проверим данные на неполные дубликаты. Посмотрим, есть ли строки в датафрейме с одинаковыми названием события, идентификатором пользователя и временем события."
      ]
    },
    {
      "cell_type": "code",
      "execution_count": 11,
      "metadata": {
        "id": "4CgZWBusmt9e",
        "colab": {
          "base_uri": "https://localhost:8080/"
        },
        "outputId": "456369f6-1745-4fba-e2ac-ad5ed98a73bb"
      },
      "outputs": [
        {
          "output_type": "execute_result",
          "data": {
            "text/plain": [
              "0"
            ]
          },
          "metadata": {},
          "execution_count": 11
        }
      ],
      "source": [
        "logs.duplicated(subset=['event_name', 'device_id_hash', 'event_timestamp']).sum()"
      ]
    },
    {
      "cell_type": "markdown",
      "metadata": {
        "id": "fa4c0KeNmt9f"
      },
      "source": [
        "Таких дубликатов нет."
      ]
    },
    {
      "cell_type": "markdown",
      "metadata": {
        "id": "SW0lsfFbmt9f"
      },
      "source": [
        "Проверим, нет ли попадания пользователей сразу в несколько групп."
      ]
    },
    {
      "cell_type": "code",
      "execution_count": 12,
      "metadata": {
        "id": "Ts6DZqsqmt9f",
        "colab": {
          "base_uri": "https://localhost:8080/"
        },
        "outputId": "208156aa-7a39-4441-d47f-cc00f242caa6"
      },
      "outputs": [
        {
          "output_type": "execute_result",
          "data": {
            "text/plain": [
              "exp_id    0\n",
              "dtype: int64"
            ]
          },
          "metadata": {},
          "execution_count": 12
        }
      ],
      "source": [
        "users_groups = logs.groupby('device_id_hash').agg({'exp_id': 'nunique'})\n",
        "users_groups.loc[users_groups['exp_id'] != 1].count()"
      ]
    },
    {
      "cell_type": "markdown",
      "metadata": {
        "id": "XILckmB2mt9f"
      },
      "source": [
        "Таких пользователей нет."
      ]
    },
    {
      "cell_type": "markdown",
      "metadata": {
        "id": "kwVoaPyamt9f"
      },
      "source": [
        "**Вывод**: данные готовы для исследований."
      ]
    },
    {
      "cell_type": "markdown",
      "metadata": {
        "id": "CQRRyb1qmt9n"
      },
      "source": [
        "## Изучим и проверим данные"
      ]
    },
    {
      "cell_type": "markdown",
      "metadata": {
        "id": "PLCRVQoQmt9n"
      },
      "source": [
        "* Определим, сколько всего событий в логе."
      ]
    },
    {
      "cell_type": "code",
      "execution_count": 13,
      "metadata": {
        "id": "CxKG8Mq2mt9n",
        "colab": {
          "base_uri": "https://localhost:8080/"
        },
        "outputId": "5874eab8-e87c-41d0-e421-28dea11cb2fb"
      },
      "outputs": [
        {
          "output_type": "execute_result",
          "data": {
            "text/plain": [
              "243713"
            ]
          },
          "metadata": {},
          "execution_count": 13
        }
      ],
      "source": [
        "events = logs['event_name'].count()\n",
        "events"
      ]
    },
    {
      "cell_type": "code",
      "execution_count": 14,
      "metadata": {
        "id": "E9FboLngmt9n",
        "colab": {
          "base_uri": "https://localhost:8080/"
        },
        "outputId": "3a08ae87-7181-453d-f507-8adaa4e0633a"
      },
      "outputs": [
        {
          "output_type": "execute_result",
          "data": {
            "text/plain": [
              "MainScreenAppear           119101\n",
              "OffersScreenAppear          46808\n",
              "CartScreenAppear            42668\n",
              "PaymentScreenSuccessful     34118\n",
              "Tutorial                     1018\n",
              "Name: event_name, dtype: int64"
            ]
          },
          "metadata": {},
          "execution_count": 14
        }
      ],
      "source": [
        "logs['event_name'].value_counts()"
      ]
    },
    {
      "cell_type": "markdown",
      "metadata": {
        "id": "KYzMrNrymt9n"
      },
      "source": [
        "**Вывод**: всего в логе около 244 тыс. событий 5 типов."
      ]
    },
    {
      "cell_type": "markdown",
      "metadata": {
        "id": "ojx_bW8Qmt9n"
      },
      "source": [
        "* Определим, сколько всего пользователей в логе."
      ]
    },
    {
      "cell_type": "code",
      "execution_count": 15,
      "metadata": {
        "id": "7mwTlCO1mt9n",
        "colab": {
          "base_uri": "https://localhost:8080/"
        },
        "outputId": "fa515668-0276-4820-b889-8432694c1ab7"
      },
      "outputs": [
        {
          "output_type": "execute_result",
          "data": {
            "text/plain": [
              "7551"
            ]
          },
          "metadata": {},
          "execution_count": 15
        }
      ],
      "source": [
        "users = len(logs['device_id_hash'].unique())\n",
        "users"
      ]
    },
    {
      "cell_type": "markdown",
      "metadata": {
        "id": "5WsqzrK-mt9o"
      },
      "source": [
        "**Вывод**: в логе 7,5 тыс. пользователей."
      ]
    },
    {
      "cell_type": "markdown",
      "metadata": {
        "id": "nNGKM0Owmt9o"
      },
      "source": [
        "* Определим, сколько в среднем событий приходится на пользователя."
      ]
    },
    {
      "cell_type": "code",
      "execution_count": 16,
      "metadata": {
        "id": "o-jeh2J0mt9o",
        "colab": {
          "base_uri": "https://localhost:8080/"
        },
        "outputId": "c4c5c212-6423-4366-d859-98e234858a0d"
      },
      "outputs": [
        {
          "output_type": "execute_result",
          "data": {
            "text/plain": [
              "32.27559263673685"
            ]
          },
          "metadata": {},
          "execution_count": 16
        }
      ],
      "source": [
        "logs.groupby('device_id_hash')['event_name'].count().mean()"
      ]
    },
    {
      "cell_type": "markdown",
      "source": [
        "Изучим распределение кол-ва событий на пользователей."
      ],
      "metadata": {
        "id": "VFENWgoAsZof"
      }
    },
    {
      "cell_type": "code",
      "source": [
        "logs.groupby('device_id_hash')['event_name'].count().hist(range=(0, 250), bins=50)\n",
        "plt.title('Распределение кол-ва событий на пользователей')\n",
        "plt.xlabel('кол-во событий')\n",
        "plt.ylabel('кол-во пользователей')\n",
        "plt.show()"
      ],
      "metadata": {
        "id": "pVtr4qaZsiIy",
        "colab": {
          "base_uri": "https://localhost:8080/",
          "height": 472
        },
        "outputId": "b4bce63e-fffa-4b96-e71b-49cdf82b5717"
      },
      "execution_count": 17,
      "outputs": [
        {
          "output_type": "display_data",
          "data": {
            "text/plain": [
              "<Figure size 640x480 with 1 Axes>"
            ],
            "image/png": "[encoded data removed]"
          },
          "metadata": {}
        }
      ]
    },
    {
      "cell_type": "markdown",
      "metadata": {
        "id": "2_sJFB78mt9o"
      },
      "source": [
        "**Вывод**: на каждого пользователя в среднем приходится 32 события. По гистограмме наблюдаем пик около 5-10 событий. Очень мало значений после 150."
      ]
    },
    {
      "cell_type": "markdown",
      "metadata": {
        "id": "Tdh-2ADKmt9o"
      },
      "source": [
        "* Определим, данными за какой период мы располагаем."
      ]
    },
    {
      "cell_type": "code",
      "execution_count": 18,
      "metadata": {
        "id": "lte4UPDemt9o",
        "colab": {
          "base_uri": "https://localhost:8080/"
        },
        "outputId": "ebac6846-8020-4396-e35d-f83d78e4e654"
      },
      "outputs": [
        {
          "output_type": "stream",
          "name": "stdout",
          "text": [
            "Максимальная дата -  2019-08-07\n",
            "Минимальная дата -  2019-07-25\n"
          ]
        }
      ],
      "source": [
        "print('Максимальная дата - ', logs['date'].max())\n",
        "print('Минимальная дата - ', logs['date'].min())"
      ]
    },
    {
      "cell_type": "markdown",
      "metadata": {
        "id": "sKmF0Cdhmt9p"
      },
      "source": [
        "Соответственно располагаем данными за 2 недели. Изучим, как меняется количество данных во времени."
      ]
    },
    {
      "cell_type": "code",
      "execution_count": 19,
      "metadata": {
        "id": "geS2ORTSmt9p",
        "colab": {
          "base_uri": "https://localhost:8080/",
          "height": 581
        },
        "outputId": "c83a9ed1-6073-4cfa-cb27-3f9ebe8e4997"
      },
      "outputs": [
        {
          "output_type": "display_data",
          "data": {
            "text/plain": [
              "<Figure size 1900x700 with 1 Axes>"
            ],
            "image/png": "[encoded data removed]"
          },
          "metadata": {}
        }
      ],
      "source": [
        "matplotlib.rcParams['figure.figsize'] = [19,7]\n",
        "logs_date = logs.groupby('date')['event_name'].count()\n",
        "seaborn.barplot(x=logs_date.index, y=logs_date)\n",
        "plt.title('Количество событий в зависимости от времени')\n",
        "plt.xlabel('дата')\n",
        "plt.ylabel('кол-во событий')\n",
        "plt.show()"
      ]
    },
    {
      "cell_type": "markdown",
      "metadata": {
        "id": "-SlR5q2tmt9p"
      },
      "source": [
        "Видим, что у нас данные неодинаково полные за весь период. С 1 августа данные полные, оставим их, а остальные отбросим."
      ]
    },
    {
      "cell_type": "code",
      "execution_count": 20,
      "metadata": {
        "id": "wRVKmleHmt9p",
        "colab": {
          "base_uri": "https://localhost:8080/"
        },
        "outputId": "3ac34463-1298-4323-bb2c-2ead642dc685"
      },
      "outputs": [
        {
          "output_type": "stream",
          "name": "stderr",
          "text": [
            "<ipython-input-20-d29b3aff348d>:1: FutureWarning: Comparison of Timestamp with datetime.date is deprecated in order to match the standard library behavior. In a future version these will be considered non-comparable. Use 'ts == pd.Timestamp(date)' or 'ts.date() == date' instead.\n",
            "  logs = logs.loc[logs['date'] >= pd.to_datetime('2019-08-01')]\n"
          ]
        }
      ],
      "source": [
        "logs = logs.loc[logs['date'] >= pd.to_datetime('2019-08-01')]"
      ]
    },
    {
      "cell_type": "markdown",
      "metadata": {
        "id": "YEAwMztomt9p"
      },
      "source": [
        "**Вывод**: на самом деле мы располагаем данными за 1 неделю."
      ]
    },
    {
      "cell_type": "markdown",
      "metadata": {
        "id": "sG2GUrrJmt9p"
      },
      "source": [
        "* Проверим, сколько событий и пользователей мы потеряли, отбросив старые данные."
      ]
    },
    {
      "cell_type": "code",
      "execution_count": 21,
      "metadata": {
        "id": "INQCsGI4mt9p",
        "colab": {
          "base_uri": "https://localhost:8080/"
        },
        "outputId": "d1a5a230-8c49-4d3a-9921-81af310d085a"
      },
      "outputs": [
        {
          "output_type": "stream",
          "name": "stdout",
          "text": [
            "Потеряли 2826 событий, что составляет 0.01 от первоначального количества.\n"
          ]
        }
      ],
      "source": [
        "print('Потеряли', events - logs['event_name'].count(), 'событий, что составляет', round((events - logs['event_name'].count())/events, 2), 'от первоначального количества.')"
      ]
    },
    {
      "cell_type": "code",
      "execution_count": 22,
      "metadata": {
        "scrolled": true,
        "id": "73l_p9mcmt9p",
        "colab": {
          "base_uri": "https://localhost:8080/"
        },
        "outputId": "3fb50849-3adb-434a-fc43-d4f4e048adc3"
      },
      "outputs": [
        {
          "output_type": "stream",
          "name": "stdout",
          "text": [
            "Потеряли 17 пользователей, что составляет 0.002 от первоначального количества.\n"
          ]
        }
      ],
      "source": [
        "users2 = len(logs['device_id_hash'].unique())\n",
        "print('Потеряли', users - users2, 'пользователей, что составляет', round((users - users2)/users, 3), 'от первоначального количества.')"
      ]
    },
    {
      "cell_type": "markdown",
      "metadata": {
        "id": "sJUoqGUkmt9q"
      },
      "source": [
        "**Вывод**: мы потеряли около 1% событий и менее 1% пользователей. Соответственно, потери совсем незначительны."
      ]
    },
    {
      "cell_type": "markdown",
      "metadata": {
        "id": "3fjyzHCPmt9q"
      },
      "source": [
        "* Проверим, что у нас есть пользователи из всех трех экспериментальных групп."
      ]
    },
    {
      "cell_type": "code",
      "execution_count": 23,
      "metadata": {
        "id": "dQs80evHmt9q",
        "colab": {
          "base_uri": "https://localhost:8080/"
        },
        "outputId": "8e8728dc-df23-45fb-d0d8-5128d5a8f7da"
      },
      "outputs": [
        {
          "output_type": "execute_result",
          "data": {
            "text/plain": [
              "248    84563\n",
              "246    79302\n",
              "247    77022\n",
              "Name: exp_id, dtype: int64"
            ]
          },
          "metadata": {},
          "execution_count": 23
        }
      ],
      "source": [
        "logs['exp_id'].value_counts()"
      ]
    },
    {
      "cell_type": "markdown",
      "metadata": {
        "id": "XUnK4Wjnmt9q"
      },
      "source": [
        "**Вывод**: у нас есть пользователи из всех трех экспериментальных групп."
      ]
    },
    {
      "cell_type": "markdown",
      "metadata": {
        "id": "IDLrcaGTmt9q"
      },
      "source": [
        "## Изучим воронку событий"
      ]
    },
    {
      "cell_type": "markdown",
      "metadata": {
        "id": "lAvdorZimt9q"
      },
      "source": [
        "* Посмотрим, какие события есть в логах и как часто они встречаются."
      ]
    },
    {
      "cell_type": "code",
      "execution_count": 24,
      "metadata": {
        "id": "MRDbu-P2mt9r",
        "colab": {
          "base_uri": "https://localhost:8080/"
        },
        "outputId": "c31833ce-e21f-4827-8523-a5c6d947c659"
      },
      "outputs": [
        {
          "output_type": "execute_result",
          "data": {
            "text/plain": [
              "MainScreenAppear           117328\n",
              "OffersScreenAppear          46333\n",
              "CartScreenAppear            42303\n",
              "PaymentScreenSuccessful     33918\n",
              "Tutorial                     1005\n",
              "Name: event_name, dtype: int64"
            ]
          },
          "metadata": {},
          "execution_count": 24
        }
      ],
      "source": [
        "events_count = logs['event_name'].value_counts()\n",
        "events_count"
      ]
    },
    {
      "cell_type": "code",
      "execution_count": 25,
      "metadata": {
        "id": "_DmHzHubmt9r",
        "colab": {
          "base_uri": "https://localhost:8080/",
          "height": 487
        },
        "outputId": "bcb2fba4-e946-4d4f-9155-31b02da96d42"
      },
      "outputs": [
        {
          "output_type": "display_data",
          "data": {
            "text/plain": [
              "<Figure size 1100x500 with 1 Axes>"
            ],
            "image/png": "[encoded data removed]"
          },
          "metadata": {}
        }
      ],
      "source": [
        "matplotlib.rcParams['figure.figsize'] = [11,5]\n",
        "seaborn.barplot(x=events_count.index, y=events_count)\n",
        "plt.title('Частота событий')\n",
        "plt.xlabel('событие')\n",
        "plt.ylabel('частота')\n",
        "plt.show()"
      ]
    },
    {
      "cell_type": "markdown",
      "metadata": {
        "id": "iKiP57Lwmt9r"
      },
      "source": [
        "**Вывод**: в логах имеем следующие события: появление главного экрана, появление экрана предложений, появление экрана корзины, успешное прохождение оплаты и руководство. Наибольшую частоту имеет событие \"появление главного экрана\", а наименьшую частоту - \"руководство\"."
      ]
    },
    {
      "cell_type": "markdown",
      "metadata": {
        "id": "YaAxu9Wwmt9r"
      },
      "source": [
        "* Посчитаем, сколько пользователей совершали каждое из этих событий и долю пользователей, которые хоть раз совершали событие."
      ]
    },
    {
      "cell_type": "code",
      "execution_count": 26,
      "metadata": {
        "id": "u6KNTL9nmt9r",
        "colab": {
          "base_uri": "https://localhost:8080/",
          "height": 237
        },
        "outputId": "7f9b314f-9aad-4904-fe4a-3d2187af5ac6"
      },
      "outputs": [
        {
          "output_type": "execute_result",
          "data": {
            "text/plain": [
              "                         device_id_hash  share\n",
              "event_name                                    \n",
              "MainScreenAppear                   7419   0.98\n",
              "OffersScreenAppear                 4593   0.61\n",
              "CartScreenAppear                   3734   0.50\n",
              "PaymentScreenSuccessful            3539   0.47\n",
              "Tutorial                            840   0.11"
            ],
            "text/html": [
              "\n",
              "  <div id=\"df-7dce1f55-aad8-47d2-8901-76787bc05823\" class=\"colab-df-container\">\n",
              "    <div>\n",
              "<style scoped>\n",
              "    .dataframe tbody tr th:only-of-type {\n",
              "        vertical-align: middle;\n",
              "    }\n",
              "\n",
              "    .dataframe tbody tr th {\n",
              "        vertical-align: top;\n",
              "    }\n",
              "\n",
              "    .dataframe thead th {\n",
              "        text-align: right;\n",
              "    }\n",
              "</style>\n",
              "<table border=\"1\" class=\"dataframe\">\n",
              "  <thead>\n",
              "    <tr style=\"text-align: right;\">\n",
              "      <th></th>\n",
              "      <th>device_id_hash</th>\n",
              "      <th>share</th>\n",
              "    </tr>\n",
              "    <tr>\n",
              "      <th>event_name</th>\n",
              "      <th></th>\n",
              "      <th></th>\n",
              "    </tr>\n",
              "  </thead>\n",
              "  <tbody>\n",
              "    <tr>\n",
              "      <th>MainScreenAppear</th>\n",
              "      <td>7419</td>\n",
              "      <td>0.98</td>\n",
              "    </tr>\n",
              "    <tr>\n",
              "      <th>OffersScreenAppear</th>\n",
              "      <td>4593</td>\n",
              "      <td>0.61</td>\n",
              "    </tr>\n",
              "    <tr>\n",
              "      <th>CartScreenAppear</th>\n",
              "      <td>3734</td>\n",
              "      <td>0.50</td>\n",
              "    </tr>\n",
              "    <tr>\n",
              "      <th>PaymentScreenSuccessful</th>\n",
              "      <td>3539</td>\n",
              "      <td>0.47</td>\n",
              "    </tr>\n",
              "    <tr>\n",
              "      <th>Tutorial</th>\n",
              "      <td>840</td>\n",
              "      <td>0.11</td>\n",
              "    </tr>\n",
              "  </tbody>\n",
              "</table>\n",
              "</div>\n",
              "    <div class=\"colab-df-buttons\">\n",
              "\n",
              "  <div class=\"colab-df-container\">\n",
              "    <button class=\"colab-df-convert\" onclick=\"convertToInteractive('df-7dce1f55-aad8-47d2-8901-76787bc05823')\"\n",
              "            title=\"Convert this dataframe to an interactive table.\"\n",
              "            style=\"display:none;\">\n",
              "\n",
              "  <svg xmlns=\"http://www.w3.org/2000/svg\" height=\"24px\" viewBox=\"0 -960 960 960\">\n",
              "    <path d=\"M120-120v-720h720v720H120Zm60-500h600v-160H180v160Zm220 220h160v-160H400v160Zm0 220h160v-160H400v160ZM180-400h160v-160H180v160Zm440 0h160v-160H620v160ZM180-180h160v-160H180v160Zm440 0h160v-160H620v160Z\"/>\n",
              "  </svg>\n",
              "    </button>\n",
              "\n",
              "  <style>\n",
              "    .colab-df-container {\n",
              "      display:flex;\n",
              "      gap: 12px;\n",
              "    }\n",
              "\n",
              "    .colab-df-convert {\n",
              "      background-color: #E8F0FE;\n",
              "      border: none;\n",
              "      border-radius: 50%;\n",
              "      cursor: pointer;\n",
              "      display: none;\n",
              "      fill: #1967D2;\n",
              "      height: 32px;\n",
              "      padding: 0 0 0 0;\n",
              "      width: 32px;\n",
              "    }\n",
              "\n",
              "    .colab-df-convert:hover {\n",
              "      background-color: #E2EBFA;\n",
              "      box-shadow: 0px 1px 2px rgba(60, 64, 67, 0.3), 0px 1px 3px 1px rgba(60, 64, 67, 0.15);\n",
              "      fill: #174EA6;\n",
              "    }\n",
              "\n",
              "    .colab-df-buttons div {\n",
              "      margin-bottom: 4px;\n",
              "    }\n",
              "\n",
              "    [theme=dark] .colab-df-convert {\n",
              "      background-color: #3B4455;\n",
              "      fill: #D2E3FC;\n",
              "    }\n",
              "\n",
              "    [theme=dark] .colab-df-convert:hover {\n",
              "      background-color: #434B5C;\n",
              "      box-shadow: 0px 1px 3px 1px rgba(0, 0, 0, 0.15);\n",
              "      filter: drop-shadow(0px 1px 2px rgba(0, 0, 0, 0.3));\n",
              "      fill: #FFFFFF;\n",
              "    }\n",
              "  </style>\n",
              "\n",
              "    <script>\n",
              "      const buttonEl =\n",
              "        document.querySelector('#df-7dce1f55-aad8-47d2-8901-76787bc05823 button.colab-df-convert');\n",
              "      buttonEl.style.display =\n",
              "        google.colab.kernel.accessAllowed ? 'block' : 'none';\n",
              "\n",
              "      async function convertToInteractive(key) {\n",
              "        const element = document.querySelector('#df-7dce1f55-aad8-47d2-8901-76787bc05823');\n",
              "        const dataTable =\n",
              "          await google.colab.kernel.invokeFunction('convertToInteractive',\n",
              "                                                    [key], {});\n",
              "        if (!dataTable) return;\n",
              "\n",
              "        const docLinkHtml = 'Like what you see? Visit the ' +\n",
              "          '<a target=\"_blank\" href=https://colab.research.google.com/notebooks/data_table.ipynb>data table notebook</a>'\n",
              "          + ' to learn more about interactive tables.';\n",
              "        element.innerHTML = '';\n",
              "        dataTable['output_type'] = 'display_data';\n",
              "        await google.colab.output.renderOutput(dataTable, element);\n",
              "        const docLink = document.createElement('div');\n",
              "        docLink.innerHTML = docLinkHtml;\n",
              "        element.appendChild(docLink);\n",
              "      }\n",
              "    </script>\n",
              "  </div>\n",
              "\n",
              "\n",
              "<div id=\"df-565ff6bf-a4dc-43fc-b2f4-72c4010e1307\">\n",
              "  <button class=\"colab-df-quickchart\" onclick=\"quickchart('df-565ff6bf-a4dc-43fc-b2f4-72c4010e1307')\"\n",
              "            title=\"Suggest charts\"\n",
              "            style=\"display:none;\">\n",
              "\n",
              "<svg xmlns=\"http://www.w3.org/2000/svg\" height=\"24px\"viewBox=\"0 0 24 24\"\n",
              "     width=\"24px\">\n",
              "    <g>\n",
              "        <path d=\"M19 3H5c-1.1 0-2 .9-2 2v14c0 1.1.9 2 2 2h14c1.1 0 2-.9 2-2V5c0-1.1-.9-2-2-2zM9 17H7v-7h2v7zm4 0h-2V7h2v10zm4 0h-2v-4h2v4z\"/>\n",
              "    </g>\n",
              "</svg>\n",
              "  </button>\n",
              "\n",
              "<style>\n",
              "  .colab-df-quickchart {\n",
              "      --bg-color: #E8F0FE;\n",
              "      --fill-color: #1967D2;\n",
              "      --hover-bg-color: #E2EBFA;\n",
              "      --hover-fill-color: #174EA6;\n",
              "      --disabled-fill-color: #AAA;\n",
              "      --disabled-bg-color: #DDD;\n",
              "  }\n",
              "\n",
              "  [theme=dark] .colab-df-quickchart {\n",
              "      --bg-color: #3B4455;\n",
              "      --fill-color: #D2E3FC;\n",
              "      --hover-bg-color: #434B5C;\n",
              "      --hover-fill-color: #FFFFFF;\n",
              "      --disabled-bg-color: #3B4455;\n",
              "      --disabled-fill-color: #666;\n",
              "  }\n",
              "\n",
              "  .colab-df-quickchart {\n",
              "    background-color: var(--bg-color);\n",
              "    border: none;\n",
              "    border-radius: 50%;\n",
              "    cursor: pointer;\n",
              "    display: none;\n",
              "    fill: var(--fill-color);\n",
              "    height: 32px;\n",
              "    padding: 0;\n",
              "    width: 32px;\n",
              "  }\n",
              "\n",
              "  .colab-df-quickchart:hover {\n",
              "    background-color: var(--hover-bg-color);\n",
              "    box-shadow: 0 1px 2px rgba(60, 64, 67, 0.3), 0 1px 3px 1px rgba(60, 64, 67, 0.15);\n",
              "    fill: var(--button-hover-fill-color);\n",
              "  }\n",
              "\n",
              "  .colab-df-quickchart-complete:disabled,\n",
              "  .colab-df-quickchart-complete:disabled:hover {\n",
              "    background-color: var(--disabled-bg-color);\n",
              "    fill: var(--disabled-fill-color);\n",
              "    box-shadow: none;\n",
              "  }\n",
              "\n",
              "  .colab-df-spinner {\n",
              "    border: 2px solid var(--fill-color);\n",
              "    border-color: transparent;\n",
              "    border-bottom-color: var(--fill-color);\n",
              "    animation:\n",
              "      spin 1s steps(1) infinite;\n",
              "  }\n",
              "\n",
              "  @keyframes spin {\n",
              "    0% {\n",
              "      border-color: transparent;\n",
              "      border-bottom-color: var(--fill-color);\n",
              "      border-left-color: var(--fill-color);\n",
              "    }\n",
              "    20% {\n",
              "      border-color: transparent;\n",
              "      border-left-color: var(--fill-color);\n",
              "      border-top-color: var(--fill-color);\n",
              "    }\n",
              "    30% {\n",
              "      border-color: transparent;\n",
              "      border-left-color: var(--fill-color);\n",
              "      border-top-color: var(--fill-color);\n",
              "      border-right-color: var(--fill-color);\n",
              "    }\n",
              "    40% {\n",
              "      border-color: transparent;\n",
              "      border-right-color: var(--fill-color);\n",
              "      border-top-color: var(--fill-color);\n",
              "    }\n",
              "    60% {\n",
              "      border-color: transparent;\n",
              "      border-right-color: var(--fill-color);\n",
              "    }\n",
              "    80% {\n",
              "      border-color: transparent;\n",
              "      border-right-color: var(--fill-color);\n",
              "      border-bottom-color: var(--fill-color);\n",
              "    }\n",
              "    90% {\n",
              "      border-color: transparent;\n",
              "      border-bottom-color: var(--fill-color);\n",
              "    }\n",
              "  }\n",
              "</style>\n",
              "\n",
              "  <script>\n",
              "    async function quickchart(key) {\n",
              "      const quickchartButtonEl =\n",
              "        document.querySelector('#' + key + ' button');\n",
              "      quickchartButtonEl.disabled = true;  // To prevent multiple clicks.\n",
              "      quickchartButtonEl.classList.add('colab-df-spinner');\n",
              "      try {\n",
              "        const charts = await google.colab.kernel.invokeFunction(\n",
              "            'suggestCharts', [key], {});\n",
              "      } catch (error) {\n",
              "        console.error('Error during call to suggestCharts:', error);\n",
              "      }\n",
              "      quickchartButtonEl.classList.remove('colab-df-spinner');\n",
              "      quickchartButtonEl.classList.add('colab-df-quickchart-complete');\n",
              "    }\n",
              "    (() => {\n",
              "      let quickchartButtonEl =\n",
              "        document.querySelector('#df-565ff6bf-a4dc-43fc-b2f4-72c4010e1307 button');\n",
              "      quickchartButtonEl.style.display =\n",
              "        google.colab.kernel.accessAllowed ? 'block' : 'none';\n",
              "    })();\n",
              "  </script>\n",
              "</div>\n",
              "    </div>\n",
              "  </div>\n"
            ]
          },
          "metadata": {},
          "execution_count": 26
        }
      ],
      "source": [
        "events_users = logs.groupby('event_name').agg({'device_id_hash': 'nunique'}).sort_values(by='device_id_hash', ascending=False)\n",
        "events_users['share'] = round(events_users['device_id_hash'] / users2, 2)\n",
        "events_users"
      ]
    },
    {
      "cell_type": "markdown",
      "metadata": {
        "id": "-JHub4P6mt9r"
      },
      "source": [
        "**Вывод**: видим, что событие \"появление главного экрана\" совершали почти все пользователи, а до события \"успешное прохождение оплаты\" доходит меньше половины пользователей. Интересно, что около 2% пользователей миновали главный экран. Очевидно, перед главным экраном может появиться другой экран. По данным предполагаем, что это руководство, которое можно пройти по желанию и на любом этапе. То есть руководство появляется перед главным экраном, и 2% пользователей заканчивают на нем свое взаимодействие с приложением, не переходя к главному экрану."
      ]
    },
    {
      "cell_type": "markdown",
      "metadata": {
        "id": "S2IM_KRNmt9r"
      },
      "source": [
        "* Можно предположить, что события происходят в следующем порядке:\n",
        "1. появление главного экрана\n",
        "2. появление экрана предложений\n",
        "3. появление экрана корзины\n",
        "4. успешное прохождение оплаты\n",
        "\n",
        "Только событие \"руководство\" не встраивается в последовательную цепочку. Не будем его учитывать при расчете воронки."
      ]
    },
    {
      "cell_type": "markdown",
      "metadata": {
        "id": "_SDvvt50mt9s"
      },
      "source": [
        "* По воронке событий посчитаем, какая доля пользователей проходит на следующий шаг воронки."
      ]
    },
    {
      "cell_type": "code",
      "source": [
        "events_users['conversion'] =  round(events_users['device_id_hash'].pct_change() + 1, 2)\n",
        "events_users"
      ],
      "metadata": {
        "colab": {
          "base_uri": "https://localhost:8080/",
          "height": 237
        },
        "id": "idevDc3-hoz4",
        "outputId": "dd06fff4-5157-432c-b579-41d549570513"
      },
      "execution_count": 27,
      "outputs": [
        {
          "output_type": "execute_result",
          "data": {
            "text/plain": [
              "                         device_id_hash  share  conversion\n",
              "event_name                                                \n",
              "MainScreenAppear                   7419   0.98         NaN\n",
              "OffersScreenAppear                 4593   0.61        0.62\n",
              "CartScreenAppear                   3734   0.50        0.81\n",
              "PaymentScreenSuccessful            3539   0.47        0.95\n",
              "Tutorial                            840   0.11        0.24"
            ],
            "text/html": [
              "\n",
              "  <div id=\"df-99cc16e5-fd3b-488a-b544-128826001791\" class=\"colab-df-container\">\n",
              "    <div>\n",
              "<style scoped>\n",
              "    .dataframe tbody tr th:only-of-type {\n",
              "        vertical-align: middle;\n",
              "    }\n",
              "\n",
              "    .dataframe tbody tr th {\n",
              "        vertical-align: top;\n",
              "    }\n",
              "\n",
              "    .dataframe thead th {\n",
              "        text-align: right;\n",
              "    }\n",
              "</style>\n",
              "<table border=\"1\" class=\"dataframe\">\n",
              "  <thead>\n",
              "    <tr style=\"text-align: right;\">\n",
              "      <th></th>\n",
              "      <th>device_id_hash</th>\n",
              "      <th>share</th>\n",
              "      <th>conversion</th>\n",
              "    </tr>\n",
              "    <tr>\n",
              "      <th>event_name</th>\n",
              "      <th></th>\n",
              "      <th></th>\n",
              "      <th></th>\n",
              "    </tr>\n",
              "  </thead>\n",
              "  <tbody>\n",
              "    <tr>\n",
              "      <th>MainScreenAppear</th>\n",
              "      <td>7419</td>\n",
              "      <td>0.98</td>\n",
              "      <td>NaN</td>\n",
              "    </tr>\n",
              "    <tr>\n",
              "      <th>OffersScreenAppear</th>\n",
              "      <td>4593</td>\n",
              "      <td>0.61</td>\n",
              "      <td>0.62</td>\n",
              "    </tr>\n",
              "    <tr>\n",
              "      <th>CartScreenAppear</th>\n",
              "      <td>3734</td>\n",
              "      <td>0.50</td>\n",
              "      <td>0.81</td>\n",
              "    </tr>\n",
              "    <tr>\n",
              "      <th>PaymentScreenSuccessful</th>\n",
              "      <td>3539</td>\n",
              "      <td>0.47</td>\n",
              "      <td>0.95</td>\n",
              "    </tr>\n",
              "    <tr>\n",
              "      <th>Tutorial</th>\n",
              "      <td>840</td>\n",
              "      <td>0.11</td>\n",
              "      <td>0.24</td>\n",
              "    </tr>\n",
              "  </tbody>\n",
              "</table>\n",
              "</div>\n",
              "    <div class=\"colab-df-buttons\">\n",
              "\n",
              "  <div class=\"colab-df-container\">\n",
              "    <button class=\"colab-df-convert\" onclick=\"convertToInteractive('df-99cc16e5-fd3b-488a-b544-128826001791')\"\n",
              "            title=\"Convert this dataframe to an interactive table.\"\n",
              "            style=\"display:none;\">\n",
              "\n",
              "  <svg xmlns=\"http://www.w3.org/2000/svg\" height=\"24px\" viewBox=\"0 -960 960 960\">\n",
              "    <path d=\"M120-120v-720h720v720H120Zm60-500h600v-160H180v160Zm220 220h160v-160H400v160Zm0 220h160v-160H400v160ZM180-400h160v-160H180v160Zm440 0h160v-160H620v160ZM180-180h160v-160H180v160Zm440 0h160v-160H620v160Z\"/>\n",
              "  </svg>\n",
              "    </button>\n",
              "\n",
              "  <style>\n",
              "    .colab-df-container {\n",
              "      display:flex;\n",
              "      gap: 12px;\n",
              "    }\n",
              "\n",
              "    .colab-df-convert {\n",
              "      background-color: #E8F0FE;\n",
              "      border: none;\n",
              "      border-radius: 50%;\n",
              "      cursor: pointer;\n",
              "      display: none;\n",
              "      fill: #1967D2;\n",
              "      height: 32px;\n",
              "      padding: 0 0 0 0;\n",
              "      width: 32px;\n",
              "    }\n",
              "\n",
              "    .colab-df-convert:hover {\n",
              "      background-color: #E2EBFA;\n",
              "      box-shadow: 0px 1px 2px rgba(60, 64, 67, 0.3), 0px 1px 3px 1px rgba(60, 64, 67, 0.15);\n",
              "      fill: #174EA6;\n",
              "    }\n",
              "\n",
              "    .colab-df-buttons div {\n",
              "      margin-bottom: 4px;\n",
              "    }\n",
              "\n",
              "    [theme=dark] .colab-df-convert {\n",
              "      background-color: #3B4455;\n",
              "      fill: #D2E3FC;\n",
              "    }\n",
              "\n",
              "    [theme=dark] .colab-df-convert:hover {\n",
              "      background-color: #434B5C;\n",
              "      box-shadow: 0px 1px 3px 1px rgba(0, 0, 0, 0.15);\n",
              "      filter: drop-shadow(0px 1px 2px rgba(0, 0, 0, 0.3));\n",
              "      fill: #FFFFFF;\n",
              "    }\n",
              "  </style>\n",
              "\n",
              "    <script>\n",
              "      const buttonEl =\n",
              "        document.querySelector('#df-99cc16e5-fd3b-488a-b544-128826001791 button.colab-df-convert');\n",
              "      buttonEl.style.display =\n",
              "        google.colab.kernel.accessAllowed ? 'block' : 'none';\n",
              "\n",
              "      async function convertToInteractive(key) {\n",
              "        const element = document.querySelector('#df-99cc16e5-fd3b-488a-b544-128826001791');\n",
              "        const dataTable =\n",
              "          await google.colab.kernel.invokeFunction('convertToInteractive',\n",
              "                                                    [key], {});\n",
              "        if (!dataTable) return;\n",
              "\n",
              "        const docLinkHtml = 'Like what you see? Visit the ' +\n",
              "          '<a target=\"_blank\" href=https://colab.research.google.com/notebooks/data_table.ipynb>data table notebook</a>'\n",
              "          + ' to learn more about interactive tables.';\n",
              "        element.innerHTML = '';\n",
              "        dataTable['output_type'] = 'display_data';\n",
              "        await google.colab.output.renderOutput(dataTable, element);\n",
              "        const docLink = document.createElement('div');\n",
              "        docLink.innerHTML = docLinkHtml;\n",
              "        element.appendChild(docLink);\n",
              "      }\n",
              "    </script>\n",
              "  </div>\n",
              "\n",
              "\n",
              "<div id=\"df-c3339e44-25af-4230-b7b2-ab3f65263788\">\n",
              "  <button class=\"colab-df-quickchart\" onclick=\"quickchart('df-c3339e44-25af-4230-b7b2-ab3f65263788')\"\n",
              "            title=\"Suggest charts\"\n",
              "            style=\"display:none;\">\n",
              "\n",
              "<svg xmlns=\"http://www.w3.org/2000/svg\" height=\"24px\"viewBox=\"0 0 24 24\"\n",
              "     width=\"24px\">\n",
              "    <g>\n",
              "        <path d=\"M19 3H5c-1.1 0-2 .9-2 2v14c0 1.1.9 2 2 2h14c1.1 0 2-.9 2-2V5c0-1.1-.9-2-2-2zM9 17H7v-7h2v7zm4 0h-2V7h2v10zm4 0h-2v-4h2v4z\"/>\n",
              "    </g>\n",
              "</svg>\n",
              "  </button>\n",
              "\n",
              "<style>\n",
              "  .colab-df-quickchart {\n",
              "      --bg-color: #E8F0FE;\n",
              "      --fill-color: #1967D2;\n",
              "      --hover-bg-color: #E2EBFA;\n",
              "      --hover-fill-color: #174EA6;\n",
              "      --disabled-fill-color: #AAA;\n",
              "      --disabled-bg-color: #DDD;\n",
              "  }\n",
              "\n",
              "  [theme=dark] .colab-df-quickchart {\n",
              "      --bg-color: #3B4455;\n",
              "      --fill-color: #D2E3FC;\n",
              "      --hover-bg-color: #434B5C;\n",
              "      --hover-fill-color: #FFFFFF;\n",
              "      --disabled-bg-color: #3B4455;\n",
              "      --disabled-fill-color: #666;\n",
              "  }\n",
              "\n",
              "  .colab-df-quickchart {\n",
              "    background-color: var(--bg-color);\n",
              "    border: none;\n",
              "    border-radius: 50%;\n",
              "    cursor: pointer;\n",
              "    display: none;\n",
              "    fill: var(--fill-color);\n",
              "    height: 32px;\n",
              "    padding: 0;\n",
              "    width: 32px;\n",
              "  }\n",
              "\n",
              "  .colab-df-quickchart:hover {\n",
              "    background-color: var(--hover-bg-color);\n",
              "    box-shadow: 0 1px 2px rgba(60, 64, 67, 0.3), 0 1px 3px 1px rgba(60, 64, 67, 0.15);\n",
              "    fill: var(--button-hover-fill-color);\n",
              "  }\n",
              "\n",
              "  .colab-df-quickchart-complete:disabled,\n",
              "  .colab-df-quickchart-complete:disabled:hover {\n",
              "    background-color: var(--disabled-bg-color);\n",
              "    fill: var(--disabled-fill-color);\n",
              "    box-shadow: none;\n",
              "  }\n",
              "\n",
              "  .colab-df-spinner {\n",
              "    border: 2px solid var(--fill-color);\n",
              "    border-color: transparent;\n",
              "    border-bottom-color: var(--fill-color);\n",
              "    animation:\n",
              "      spin 1s steps(1) infinite;\n",
              "  }\n",
              "\n",
              "  @keyframes spin {\n",
              "    0% {\n",
              "      border-color: transparent;\n",
              "      border-bottom-color: var(--fill-color);\n",
              "      border-left-color: var(--fill-color);\n",
              "    }\n",
              "    20% {\n",
              "      border-color: transparent;\n",
              "      border-left-color: var(--fill-color);\n",
              "      border-top-color: var(--fill-color);\n",
              "    }\n",
              "    30% {\n",
              "      border-color: transparent;\n",
              "      border-left-color: var(--fill-color);\n",
              "      border-top-color: var(--fill-color);\n",
              "      border-right-color: var(--fill-color);\n",
              "    }\n",
              "    40% {\n",
              "      border-color: transparent;\n",
              "      border-right-color: var(--fill-color);\n",
              "      border-top-color: var(--fill-color);\n",
              "    }\n",
              "    60% {\n",
              "      border-color: transparent;\n",
              "      border-right-color: var(--fill-color);\n",
              "    }\n",
              "    80% {\n",
              "      border-color: transparent;\n",
              "      border-right-color: var(--fill-color);\n",
              "      border-bottom-color: var(--fill-color);\n",
              "    }\n",
              "    90% {\n",
              "      border-color: transparent;\n",
              "      border-bottom-color: var(--fill-color);\n",
              "    }\n",
              "  }\n",
              "</style>\n",
              "\n",
              "  <script>\n",
              "    async function quickchart(key) {\n",
              "      const quickchartButtonEl =\n",
              "        document.querySelector('#' + key + ' button');\n",
              "      quickchartButtonEl.disabled = true;  // To prevent multiple clicks.\n",
              "      quickchartButtonEl.classList.add('colab-df-spinner');\n",
              "      try {\n",
              "        const charts = await google.colab.kernel.invokeFunction(\n",
              "            'suggestCharts', [key], {});\n",
              "      } catch (error) {\n",
              "        console.error('Error during call to suggestCharts:', error);\n",
              "      }\n",
              "      quickchartButtonEl.classList.remove('colab-df-spinner');\n",
              "      quickchartButtonEl.classList.add('colab-df-quickchart-complete');\n",
              "    }\n",
              "    (() => {\n",
              "      let quickchartButtonEl =\n",
              "        document.querySelector('#df-c3339e44-25af-4230-b7b2-ab3f65263788 button');\n",
              "      quickchartButtonEl.style.display =\n",
              "        google.colab.kernel.accessAllowed ? 'block' : 'none';\n",
              "    })();\n",
              "  </script>\n",
              "</div>\n",
              "    </div>\n",
              "  </div>\n"
            ]
          },
          "metadata": {},
          "execution_count": 27
        }
      ]
    },
    {
      "cell_type": "markdown",
      "metadata": {
        "id": "UpM89iuumt9s"
      },
      "source": [
        "* Видим, что больше всего пользователей теряем на шаге между появлением главного экрана и появлением экрана предложений."
      ]
    },
    {
      "cell_type": "markdown",
      "metadata": {
        "id": "CeUT9czFmt9s"
      },
      "source": [
        "* Посчитаем, какая доля пользователей доходит от первого события до оплаты."
      ]
    },
    {
      "cell_type": "code",
      "execution_count": 28,
      "metadata": {
        "colab": {
          "base_uri": "https://localhost:8080/"
        },
        "id": "OwiN94eHmt9s",
        "outputId": "03294d99-dfbd-428c-9aff-bb05fc117da1"
      },
      "outputs": [
        {
          "output_type": "stream",
          "name": "stdout",
          "text": [
            "Доля пользователей, которая доходит от первого события до оплаты =  0.48\n"
          ]
        }
      ],
      "source": [
        "print('Доля пользователей, которая доходит от первого события до оплаты = ', round(events_users.loc['PaymentScreenSuccessful', 'device_id_hash'] / events_users.loc['MainScreenAppear', 'device_id_hash'], 2))"
      ]
    },
    {
      "cell_type": "markdown",
      "metadata": {
        "id": "dD-QXikymt9s"
      },
      "source": [
        "**Вывод**: от первого события до оплаты доходит меньше половины пользователей."
      ]
    },
    {
      "cell_type": "markdown",
      "source": [
        "**Общий вывод**: пользователи доходят до покупки по пути: гланый экран -> экран предложений -> корзина -> оплата. До покупки доходит 48% пользователей. 37% пользователей застревает на шаге \"появление главного экрана\", 11% - на шаге \"появление экрана предложений\", 3% - на шаге \"появление экрана корзины\"."
      ],
      "metadata": {
        "id": "JRBsLU87jO_1"
      }
    },
    {
      "cell_type": "markdown",
      "metadata": {
        "id": "rrkgjF4dmt9t"
      },
      "source": [
        "## Изучим результаты эксперимента"
      ]
    },
    {
      "cell_type": "markdown",
      "metadata": {
        "id": "Pb4AXxlamt9t"
      },
      "source": [
        "* Посчитаем, сколько пользователей в каждой экспериментальной группе."
      ]
    },
    {
      "cell_type": "code",
      "execution_count": 29,
      "metadata": {
        "id": "H6m7Bh-amt9t",
        "colab": {
          "base_uri": "https://localhost:8080/",
          "height": 175
        },
        "outputId": "fb62a6e2-7427-47eb-f7ab-e09f972ec4a5"
      },
      "outputs": [
        {
          "output_type": "execute_result",
          "data": {
            "text/plain": [
              "        device_id_hash\n",
              "exp_id                \n",
              "246               2484\n",
              "247               2513\n",
              "248               2537"
            ],
            "text/html": [
              "\n",
              "  <div id=\"df-9094009d-d0e5-4c58-9304-6bb2183b3d7a\" class=\"colab-df-container\">\n",
              "    <div>\n",
              "<style scoped>\n",
              "    .dataframe tbody tr th:only-of-type {\n",
              "        vertical-align: middle;\n",
              "    }\n",
              "\n",
              "    .dataframe tbody tr th {\n",
              "        vertical-align: top;\n",
              "    }\n",
              "\n",
              "    .dataframe thead th {\n",
              "        text-align: right;\n",
              "    }\n",
              "</style>\n",
              "<table border=\"1\" class=\"dataframe\">\n",
              "  <thead>\n",
              "    <tr style=\"text-align: right;\">\n",
              "      <th></th>\n",
              "      <th>device_id_hash</th>\n",
              "    </tr>\n",
              "    <tr>\n",
              "      <th>exp_id</th>\n",
              "      <th></th>\n",
              "    </tr>\n",
              "  </thead>\n",
              "  <tbody>\n",
              "    <tr>\n",
              "      <th>246</th>\n",
              "      <td>2484</td>\n",
              "    </tr>\n",
              "    <tr>\n",
              "      <th>247</th>\n",
              "      <td>2513</td>\n",
              "    </tr>\n",
              "    <tr>\n",
              "      <th>248</th>\n",
              "      <td>2537</td>\n",
              "    </tr>\n",
              "  </tbody>\n",
              "</table>\n",
              "</div>\n",
              "    <div class=\"colab-df-buttons\">\n",
              "\n",
              "  <div class=\"colab-df-container\">\n",
              "    <button class=\"colab-df-convert\" onclick=\"convertToInteractive('df-9094009d-d0e5-4c58-9304-6bb2183b3d7a')\"\n",
              "            title=\"Convert this dataframe to an interactive table.\"\n",
              "            style=\"display:none;\">\n",
              "\n",
              "  <svg xmlns=\"http://www.w3.org/2000/svg\" height=\"24px\" viewBox=\"0 -960 960 960\">\n",
              "    <path d=\"M120-120v-720h720v720H120Zm60-500h600v-160H180v160Zm220 220h160v-160H400v160Zm0 220h160v-160H400v160ZM180-400h160v-160H180v160Zm440 0h160v-160H620v160ZM180-180h160v-160H180v160Zm440 0h160v-160H620v160Z\"/>\n",
              "  </svg>\n",
              "    </button>\n",
              "\n",
              "  <style>\n",
              "    .colab-df-container {\n",
              "      display:flex;\n",
              "      gap: 12px;\n",
              "    }\n",
              "\n",
              "    .colab-df-convert {\n",
              "      background-color: #E8F0FE;\n",
              "      border: none;\n",
              "      border-radius: 50%;\n",
              "      cursor: pointer;\n",
              "      display: none;\n",
              "      fill: #1967D2;\n",
              "      height: 32px;\n",
              "      padding: 0 0 0 0;\n",
              "      width: 32px;\n",
              "    }\n",
              "\n",
              "    .colab-df-convert:hover {\n",
              "      background-color: #E2EBFA;\n",
              "      box-shadow: 0px 1px 2px rgba(60, 64, 67, 0.3), 0px 1px 3px 1px rgba(60, 64, 67, 0.15);\n",
              "      fill: #174EA6;\n",
              "    }\n",
              "\n",
              "    .colab-df-buttons div {\n",
              "      margin-bottom: 4px;\n",
              "    }\n",
              "\n",
              "    [theme=dark] .colab-df-convert {\n",
              "      background-color: #3B4455;\n",
              "      fill: #D2E3FC;\n",
              "    }\n",
              "\n",
              "    [theme=dark] .colab-df-convert:hover {\n",
              "      background-color: #434B5C;\n",
              "      box-shadow: 0px 1px 3px 1px rgba(0, 0, 0, 0.15);\n",
              "      filter: drop-shadow(0px 1px 2px rgba(0, 0, 0, 0.3));\n",
              "      fill: #FFFFFF;\n",
              "    }\n",
              "  </style>\n",
              "\n",
              "    <script>\n",
              "      const buttonEl =\n",
              "        document.querySelector('#df-9094009d-d0e5-4c58-9304-6bb2183b3d7a button.colab-df-convert');\n",
              "      buttonEl.style.display =\n",
              "        google.colab.kernel.accessAllowed ? 'block' : 'none';\n",
              "\n",
              "      async function convertToInteractive(key) {\n",
              "        const element = document.querySelector('#df-9094009d-d0e5-4c58-9304-6bb2183b3d7a');\n",
              "        const dataTable =\n",
              "          await google.colab.kernel.invokeFunction('convertToInteractive',\n",
              "                                                    [key], {});\n",
              "        if (!dataTable) return;\n",
              "\n",
              "        const docLinkHtml = 'Like what you see? Visit the ' +\n",
              "          '<a target=\"_blank\" href=https://colab.research.google.com/notebooks/data_table.ipynb>data table notebook</a>'\n",
              "          + ' to learn more about interactive tables.';\n",
              "        element.innerHTML = '';\n",
              "        dataTable['output_type'] = 'display_data';\n",
              "        await google.colab.output.renderOutput(dataTable, element);\n",
              "        const docLink = document.createElement('div');\n",
              "        docLink.innerHTML = docLinkHtml;\n",
              "        element.appendChild(docLink);\n",
              "      }\n",
              "    </script>\n",
              "  </div>\n",
              "\n",
              "\n",
              "<div id=\"df-c5537c6d-dec4-4fb1-97e6-7ae474d74732\">\n",
              "  <button class=\"colab-df-quickchart\" onclick=\"quickchart('df-c5537c6d-dec4-4fb1-97e6-7ae474d74732')\"\n",
              "            title=\"Suggest charts\"\n",
              "            style=\"display:none;\">\n",
              "\n",
              "<svg xmlns=\"http://www.w3.org/2000/svg\" height=\"24px\"viewBox=\"0 0 24 24\"\n",
              "     width=\"24px\">\n",
              "    <g>\n",
              "        <path d=\"M19 3H5c-1.1 0-2 .9-2 2v14c0 1.1.9 2 2 2h14c1.1 0 2-.9 2-2V5c0-1.1-.9-2-2-2zM9 17H7v-7h2v7zm4 0h-2V7h2v10zm4 0h-2v-4h2v4z\"/>\n",
              "    </g>\n",
              "</svg>\n",
              "  </button>\n",
              "\n",
              "<style>\n",
              "  .colab-df-quickchart {\n",
              "      --bg-color: #E8F0FE;\n",
              "      --fill-color: #1967D2;\n",
              "      --hover-bg-color: #E2EBFA;\n",
              "      --hover-fill-color: #174EA6;\n",
              "      --disabled-fill-color: #AAA;\n",
              "      --disabled-bg-color: #DDD;\n",
              "  }\n",
              "\n",
              "  [theme=dark] .colab-df-quickchart {\n",
              "      --bg-color: #3B4455;\n",
              "      --fill-color: #D2E3FC;\n",
              "      --hover-bg-color: #434B5C;\n",
              "      --hover-fill-color: #FFFFFF;\n",
              "      --disabled-bg-color: #3B4455;\n",
              "      --disabled-fill-color: #666;\n",
              "  }\n",
              "\n",
              "  .colab-df-quickchart {\n",
              "    background-color: var(--bg-color);\n",
              "    border: none;\n",
              "    border-radius: 50%;\n",
              "    cursor: pointer;\n",
              "    display: none;\n",
              "    fill: var(--fill-color);\n",
              "    height: 32px;\n",
              "    padding: 0;\n",
              "    width: 32px;\n",
              "  }\n",
              "\n",
              "  .colab-df-quickchart:hover {\n",
              "    background-color: var(--hover-bg-color);\n",
              "    box-shadow: 0 1px 2px rgba(60, 64, 67, 0.3), 0 1px 3px 1px rgba(60, 64, 67, 0.15);\n",
              "    fill: var(--button-hover-fill-color);\n",
              "  }\n",
              "\n",
              "  .colab-df-quickchart-complete:disabled,\n",
              "  .colab-df-quickchart-complete:disabled:hover {\n",
              "    background-color: var(--disabled-bg-color);\n",
              "    fill: var(--disabled-fill-color);\n",
              "    box-shadow: none;\n",
              "  }\n",
              "\n",
              "  .colab-df-spinner {\n",
              "    border: 2px solid var(--fill-color);\n",
              "    border-color: transparent;\n",
              "    border-bottom-color: var(--fill-color);\n",
              "    animation:\n",
              "      spin 1s steps(1) infinite;\n",
              "  }\n",
              "\n",
              "  @keyframes spin {\n",
              "    0% {\n",
              "      border-color: transparent;\n",
              "      border-bottom-color: var(--fill-color);\n",
              "      border-left-color: var(--fill-color);\n",
              "    }\n",
              "    20% {\n",
              "      border-color: transparent;\n",
              "      border-left-color: var(--fill-color);\n",
              "      border-top-color: var(--fill-color);\n",
              "    }\n",
              "    30% {\n",
              "      border-color: transparent;\n",
              "      border-left-color: var(--fill-color);\n",
              "      border-top-color: var(--fill-color);\n",
              "      border-right-color: var(--fill-color);\n",
              "    }\n",
              "    40% {\n",
              "      border-color: transparent;\n",
              "      border-right-color: var(--fill-color);\n",
              "      border-top-color: var(--fill-color);\n",
              "    }\n",
              "    60% {\n",
              "      border-color: transparent;\n",
              "      border-right-color: var(--fill-color);\n",
              "    }\n",
              "    80% {\n",
              "      border-color: transparent;\n",
              "      border-right-color: var(--fill-color);\n",
              "      border-bottom-color: var(--fill-color);\n",
              "    }\n",
              "    90% {\n",
              "      border-color: transparent;\n",
              "      border-bottom-color: var(--fill-color);\n",
              "    }\n",
              "  }\n",
              "</style>\n",
              "\n",
              "  <script>\n",
              "    async function quickchart(key) {\n",
              "      const quickchartButtonEl =\n",
              "        document.querySelector('#' + key + ' button');\n",
              "      quickchartButtonEl.disabled = true;  // To prevent multiple clicks.\n",
              "      quickchartButtonEl.classList.add('colab-df-spinner');\n",
              "      try {\n",
              "        const charts = await google.colab.kernel.invokeFunction(\n",
              "            'suggestCharts', [key], {});\n",
              "      } catch (error) {\n",
              "        console.error('Error during call to suggestCharts:', error);\n",
              "      }\n",
              "      quickchartButtonEl.classList.remove('colab-df-spinner');\n",
              "      quickchartButtonEl.classList.add('colab-df-quickchart-complete');\n",
              "    }\n",
              "    (() => {\n",
              "      let quickchartButtonEl =\n",
              "        document.querySelector('#df-c5537c6d-dec4-4fb1-97e6-7ae474d74732 button');\n",
              "      quickchartButtonEl.style.display =\n",
              "        google.colab.kernel.accessAllowed ? 'block' : 'none';\n",
              "    })();\n",
              "  </script>\n",
              "</div>\n",
              "    </div>\n",
              "  </div>\n"
            ]
          },
          "metadata": {},
          "execution_count": 29
        }
      ],
      "source": [
        "logs.groupby('exp_id').agg({'device_id_hash': 'nunique'})"
      ]
    },
    {
      "cell_type": "markdown",
      "metadata": {
        "id": "qfL0nHM-mt9t"
      },
      "source": [
        "**Вывод**: разница кол-ва пользователей в экспериментальных группах незначительна."
      ]
    },
    {
      "cell_type": "markdown",
      "metadata": {
        "id": "6GD8DoUomt9t"
      },
      "source": [
        "* Проверим, находят ли статистические критерии разницу между выборками 246 и 247. Напишем функцию для проверки отличия между группами на статистическую достоверность. Нулевая гипотеза: между долями есть значимая разница. Альтернативная гипотеза: между долями нет значимой разницы. Выбираем уровнем статистической значимости 0.05. Используем z-тест для долей."
      ]
    },
    {
      "cell_type": "code",
      "execution_count": 30,
      "metadata": {
        "id": "3xbxXZG0mt9t"
      },
      "outputs": [],
      "source": [
        "def check(event, group1, group2):\n",
        "\n",
        "    alpha = 0.05  # критический уровень статистической значимости\n",
        "\n",
        "    events = np.array([\n",
        "        logs.query('event_name == @event and exp_id == @group1')['device_id_hash'].nunique(),\n",
        "        logs.query('event_name == @event and exp_id == @group2')['device_id_hash'].nunique()\n",
        "    ])\n",
        "    visitors = np.array([\n",
        "        logs.query('exp_id == @group1')['device_id_hash'].nunique(),\n",
        "        logs.query('exp_id == @group2')['device_id_hash'].nunique()\n",
        "    ])\n",
        "\n",
        "    p1 = events[0]/visitors[0]\n",
        "\n",
        "    p2 = events[1]/visitors[1]\n",
        "\n",
        "    p_combined = (events[0] + events[1]) / (visitors[0] + visitors[1])\n",
        "\n",
        "    difference = p1 - p2\n",
        "\n",
        "    z_value = difference / mth.sqrt(p_combined * (1 - p_combined) * (1/visitors[0] + 1/visitors[1]))\n",
        "\n",
        "    distr = st.norm(0, 1)\n",
        "\n",
        "    p_value = (1 - distr.cdf(abs(z_value))) * 2\n",
        "\n",
        "    print('p-значение: ', p_value)\n",
        "\n",
        "    if p_value < alpha:\n",
        "        print('Отвергаем нулевую гипотезу: между долями по', event, 'в группах', group1, 'и', group2, 'есть значимая разница')\n",
        "    else:\n",
        "        print(\n",
        "            'Не получилось отвергнуть нулевую гипотезу, нет оснований считать доли по ', event, 'в группах', group1, 'и', group2, 'разными'\n",
        "        )"
      ]
    },
    {
      "cell_type": "markdown",
      "metadata": {
        "id": "tJPNn_n-mt9u"
      },
      "source": [
        "Применим функцию для всех событий."
      ]
    },
    {
      "cell_type": "code",
      "execution_count": 31,
      "metadata": {
        "id": "qPvPH172mt9u",
        "colab": {
          "base_uri": "https://localhost:8080/"
        },
        "outputId": "94f2d953-d0d2-40ad-e79b-8cbf0796dee6"
      },
      "outputs": [
        {
          "output_type": "stream",
          "name": "stdout",
          "text": [
            "p-значение:  0.7570597232046099\n",
            "Не получилось отвергнуть нулевую гипотезу, нет оснований считать доли по  MainScreenAppear в группах 246 и 247 разными\n"
          ]
        }
      ],
      "source": [
        "check('MainScreenAppear', 246, 247)"
      ]
    },
    {
      "cell_type": "code",
      "execution_count": 32,
      "metadata": {
        "id": "IBKJBfPemt9u",
        "colab": {
          "base_uri": "https://localhost:8080/"
        },
        "outputId": "900fe76e-1f40-47b2-faaa-4f662300b488"
      },
      "outputs": [
        {
          "output_type": "stream",
          "name": "stdout",
          "text": [
            "p-значение:  0.2480954578522181\n",
            "Не получилось отвергнуть нулевую гипотезу, нет оснований считать доли по  OffersScreenAppear в группах 246 и 247 разными\n"
          ]
        }
      ],
      "source": [
        "check('OffersScreenAppear', 246, 247)"
      ]
    },
    {
      "cell_type": "code",
      "execution_count": 33,
      "metadata": {
        "scrolled": true,
        "id": "ZNGLZQptmt9u",
        "colab": {
          "base_uri": "https://localhost:8080/"
        },
        "outputId": "0f6904b6-7485-496c-e8dc-38efc169c81a"
      },
      "outputs": [
        {
          "output_type": "stream",
          "name": "stdout",
          "text": [
            "p-значение:  0.22883372237997213\n",
            "Не получилось отвергнуть нулевую гипотезу, нет оснований считать доли по  CartScreenAppear в группах 246 и 247 разными\n"
          ]
        }
      ],
      "source": [
        "check('CartScreenAppear', 246, 247)"
      ]
    },
    {
      "cell_type": "code",
      "execution_count": 34,
      "metadata": {
        "id": "egRqm4dimt9u",
        "colab": {
          "base_uri": "https://localhost:8080/"
        },
        "outputId": "6fc5f7ca-0289-4735-95f1-dac5e9fce06a"
      },
      "outputs": [
        {
          "output_type": "stream",
          "name": "stdout",
          "text": [
            "p-значение:  0.11456679313141849\n",
            "Не получилось отвергнуть нулевую гипотезу, нет оснований считать доли по  PaymentScreenSuccessful в группах 246 и 247 разными\n"
          ]
        }
      ],
      "source": [
        "check('PaymentScreenSuccessful', 246, 247)"
      ]
    },
    {
      "cell_type": "markdown",
      "metadata": {
        "id": "r5H95T0smt9u"
      },
      "source": [
        "**Вывод**: можно сказать, что разбиение на группы работает корректно. Можно приступать к А/В тесту."
      ]
    },
    {
      "cell_type": "markdown",
      "metadata": {
        "id": "80wgLupxmt9u"
      },
      "source": [
        "* Сравним группу с измененным шрифтом с каждой из контрольных групп в отдельности по каждому событию."
      ]
    },
    {
      "cell_type": "code",
      "execution_count": 35,
      "metadata": {
        "id": "J93tENSTmt9v",
        "colab": {
          "base_uri": "https://localhost:8080/"
        },
        "outputId": "fbec9b59-bc0e-4ef8-cbad-66ea9cdfec0c"
      },
      "outputs": [
        {
          "output_type": "stream",
          "name": "stdout",
          "text": [
            "p-значение:  0.2949721933554552\n",
            "Не получилось отвергнуть нулевую гипотезу, нет оснований считать доли по  MainScreenAppear в группах 246 и 248 разными\n"
          ]
        }
      ],
      "source": [
        "check('MainScreenAppear', 246, 248)"
      ]
    },
    {
      "cell_type": "code",
      "execution_count": 36,
      "metadata": {
        "id": "uPTVXGNGmt9v",
        "colab": {
          "base_uri": "https://localhost:8080/"
        },
        "outputId": "5b8772e3-4a46-4264-be5e-b869af7271a2"
      },
      "outputs": [
        {
          "output_type": "stream",
          "name": "stdout",
          "text": [
            "p-значение:  0.20836205402738917\n",
            "Не получилось отвергнуть нулевую гипотезу, нет оснований считать доли по  OffersScreenAppear в группах 246 и 248 разными\n"
          ]
        }
      ],
      "source": [
        "check('OffersScreenAppear', 246, 248)"
      ]
    },
    {
      "cell_type": "code",
      "execution_count": 37,
      "metadata": {
        "id": "y_eqOpT6mt9v",
        "colab": {
          "base_uri": "https://localhost:8080/"
        },
        "outputId": "499f5f53-ecb4-4390-e4d5-2a8a0c32ea4e"
      },
      "outputs": [
        {
          "output_type": "stream",
          "name": "stdout",
          "text": [
            "p-значение:  0.07842923237520116\n",
            "Не получилось отвергнуть нулевую гипотезу, нет оснований считать доли по  CartScreenAppear в группах 246 и 248 разными\n"
          ]
        }
      ],
      "source": [
        "check('CartScreenAppear', 246, 248)"
      ]
    },
    {
      "cell_type": "code",
      "execution_count": 38,
      "metadata": {
        "id": "0NvG0PZxmt9v",
        "colab": {
          "base_uri": "https://localhost:8080/"
        },
        "outputId": "fd8b7e13-321c-4ddb-9ccd-ad72f4d6056f"
      },
      "outputs": [
        {
          "output_type": "stream",
          "name": "stdout",
          "text": [
            "p-значение:  0.2122553275697796\n",
            "Не получилось отвергнуть нулевую гипотезу, нет оснований считать доли по  PaymentScreenSuccessful в группах 246 и 248 разными\n"
          ]
        }
      ],
      "source": [
        "check('PaymentScreenSuccessful', 246, 248)"
      ]
    },
    {
      "cell_type": "code",
      "execution_count": 39,
      "metadata": {
        "id": "gA-1Bhuymt9v",
        "colab": {
          "base_uri": "https://localhost:8080/"
        },
        "outputId": "65a273fc-665e-4783-e0eb-d80c174886b9"
      },
      "outputs": [
        {
          "output_type": "stream",
          "name": "stdout",
          "text": [
            "p-значение:  0.4587053616621515\n",
            "Не получилось отвергнуть нулевую гипотезу, нет оснований считать доли по  MainScreenAppear в группах 247 и 248 разными\n"
          ]
        }
      ],
      "source": [
        "check('MainScreenAppear', 247, 248)"
      ]
    },
    {
      "cell_type": "code",
      "execution_count": 40,
      "metadata": {
        "id": "VP9IpyPKmt9v",
        "colab": {
          "base_uri": "https://localhost:8080/"
        },
        "outputId": "0d977958-271b-431c-f573-b7f149357eb1"
      },
      "outputs": [
        {
          "output_type": "stream",
          "name": "stdout",
          "text": [
            "p-значение:  0.9197817830592261\n",
            "Не получилось отвергнуть нулевую гипотезу, нет оснований считать доли по  OffersScreenAppear в группах 247 и 248 разными\n"
          ]
        }
      ],
      "source": [
        "check('OffersScreenAppear', 247, 248)"
      ]
    },
    {
      "cell_type": "code",
      "execution_count": 41,
      "metadata": {
        "id": "f2qJcoDumt9v",
        "colab": {
          "base_uri": "https://localhost:8080/"
        },
        "outputId": "16d9d2d4-1fdf-4d40-ba0a-2d9116142cc9"
      },
      "outputs": [
        {
          "output_type": "stream",
          "name": "stdout",
          "text": [
            "p-значение:  0.5786197879539783\n",
            "Не получилось отвергнуть нулевую гипотезу, нет оснований считать доли по  CartScreenAppear в группах 247 и 248 разными\n"
          ]
        }
      ],
      "source": [
        "check('CartScreenAppear', 247, 248)"
      ]
    },
    {
      "cell_type": "code",
      "execution_count": 42,
      "metadata": {
        "id": "bRq9FOWcmt9v",
        "colab": {
          "base_uri": "https://localhost:8080/"
        },
        "outputId": "f755ddc8-074e-4046-fe2e-50541bcff4e5"
      },
      "outputs": [
        {
          "output_type": "stream",
          "name": "stdout",
          "text": [
            "p-значение:  0.7373415053803964\n",
            "Не получилось отвергнуть нулевую гипотезу, нет оснований считать доли по  PaymentScreenSuccessful в группах 247 и 248 разными\n"
          ]
        }
      ],
      "source": [
        "check('PaymentScreenSuccessful', 247, 248)"
      ]
    },
    {
      "cell_type": "markdown",
      "metadata": {
        "id": "nqaKDZRtmt9w"
      },
      "source": [
        "Сравним результаты с объединённой контрольной группой. Создадим функцию check_pooled."
      ]
    },
    {
      "cell_type": "code",
      "execution_count": 43,
      "metadata": {
        "id": "d6FZzLZImt9w"
      },
      "outputs": [],
      "source": [
        "def check_pooled(event):\n",
        "\n",
        "    alpha = 0.05  # критический уровень статистической значимости\n",
        "\n",
        "    events = np.array([\n",
        "        logs.query('event_name == @event and exp_id != 248')['device_id_hash'].nunique(),\n",
        "        logs.query('event_name == @event and exp_id == 248')['device_id_hash'].nunique()\n",
        "    ])\n",
        "    visitors = np.array([\n",
        "        logs.query('exp_id != 248')['device_id_hash'].nunique(),\n",
        "        logs.query('exp_id == 248')['device_id_hash'].nunique()\n",
        "    ])\n",
        "\n",
        "    p1 = events[0]/visitors[0]\n",
        "\n",
        "    p2 = events[1]/visitors[1]\n",
        "\n",
        "    p_combined = (events[0] + events[1]) / (visitors[0] + visitors[1])\n",
        "\n",
        "    difference = p1 - p2\n",
        "\n",
        "    z_value = difference / mth.sqrt(p_combined * (1 - p_combined) * (1/visitors[0] + 1/visitors[1]))\n",
        "\n",
        "    distr = st.norm(0, 1)\n",
        "\n",
        "    p_value = (1 - distr.cdf(abs(z_value))) * 2\n",
        "\n",
        "    print('p-значение: ', p_value)\n",
        "\n",
        "    if p_value < alpha:\n",
        "        print('Отвергаем нулевую гипотезу: между долями по', event, 'в группах объединенной контрольной и экспериментальной есть значимая разница')\n",
        "    else:\n",
        "        print(\n",
        "            'Не получилось отвергнуть нулевую гипотезу, нет оснований считать доли по ', event, 'в группах объединенной контрольной и экспериментальной разными'\n",
        "        )"
      ]
    },
    {
      "cell_type": "code",
      "execution_count": 44,
      "metadata": {
        "id": "baDXaDEDmt9w",
        "colab": {
          "base_uri": "https://localhost:8080/"
        },
        "outputId": "cd4d67c2-b0dd-48d5-93d6-b3aab44de7b4"
      },
      "outputs": [
        {
          "output_type": "stream",
          "name": "stdout",
          "text": [
            "p-значение:  0.29424526837179577\n",
            "Не получилось отвергнуть нулевую гипотезу, нет оснований считать доли по  MainScreenAppear в группах объединенной контрольной и экспериментальной разными\n"
          ]
        }
      ],
      "source": [
        "check_pooled('MainScreenAppear')"
      ]
    },
    {
      "cell_type": "code",
      "execution_count": 45,
      "metadata": {
        "id": "f5SAPDV8mt9w",
        "colab": {
          "base_uri": "https://localhost:8080/"
        },
        "outputId": "9fc3e5d9-b4b5-4c2a-c5f2-877ef2618a55"
      },
      "outputs": [
        {
          "output_type": "stream",
          "name": "stdout",
          "text": [
            "p-значение:  0.43425549655188256\n",
            "Не получилось отвергнуть нулевую гипотезу, нет оснований считать доли по  OffersScreenAppear в группах объединенной контрольной и экспериментальной разными\n"
          ]
        }
      ],
      "source": [
        "check_pooled('OffersScreenAppear')"
      ]
    },
    {
      "cell_type": "code",
      "execution_count": 46,
      "metadata": {
        "id": "rx1c4zIFmt9w",
        "colab": {
          "base_uri": "https://localhost:8080/"
        },
        "outputId": "9e35490d-8bfa-4d91-8760-d492e0f7182f"
      },
      "outputs": [
        {
          "output_type": "stream",
          "name": "stdout",
          "text": [
            "p-значение:  0.18175875284404386\n",
            "Не получилось отвергнуть нулевую гипотезу, нет оснований считать доли по  CartScreenAppear в группах объединенной контрольной и экспериментальной разными\n"
          ]
        }
      ],
      "source": [
        "check_pooled('CartScreenAppear')"
      ]
    },
    {
      "cell_type": "code",
      "execution_count": 47,
      "metadata": {
        "id": "LNjKf2ncmt9w",
        "colab": {
          "base_uri": "https://localhost:8080/"
        },
        "outputId": "0056c8aa-022c-426e-d86d-0d008062cd0c"
      },
      "outputs": [
        {
          "output_type": "stream",
          "name": "stdout",
          "text": [
            "p-значение:  0.6004294282308704\n",
            "Не получилось отвергнуть нулевую гипотезу, нет оснований считать доли по  PaymentScreenSuccessful в группах объединенной контрольной и экспериментальной разными\n"
          ]
        }
      ],
      "source": [
        "check_pooled('PaymentScreenSuccessful')"
      ]
    },
    {
      "cell_type": "markdown",
      "metadata": {
        "id": "ZaTXh5AZmt9w"
      },
      "source": [
        "**Вывод**: по результатам A/A/B-эксперимента не выявленно ни положительного, ни отрицательного влияния шрифтов."
      ]
    },
    {
      "cell_type": "markdown",
      "metadata": {
        "id": "a9wBXb4imt9x"
      },
      "source": [
        "* При проверке статистических гипотез выше был выбран уровень значимости в 0.05. Было сделано 12 проверок статистических гипотез. При уровне значимости 0.05 в 5% случаев т.е. в 0.6 гипотезах из 12 можно ошибочно отклонить нулевую гипотезу при условии, что она верна."
      ]
    },
    {
      "cell_type": "markdown",
      "metadata": {
        "id": "HCUM6AlYmt9x"
      },
      "source": [
        "## Выводы"
      ]
    },
    {
      "cell_type": "markdown",
      "metadata": {
        "id": "haVV6_ljmt9x"
      },
      "source": [
        "В процессе исследования данных мобильного приложения изучена общая информация о данных, осуществлена их подготовка и проверка. Изучена воронка событий и результаты A/A/B-эксперимента о смене шрифтов. Такие выводы получены:\n",
        "* Пользователи доходят до покупки по пути: появление главного экрана-> появление экрана предложений -> появление экрана корзины -> успешное прохождение оплаты.\n",
        "* До покупки доходит 48% пользователей.\n",
        "* На шаге \"появление главного экрана\" застревает 37% пользователей, на шаге \"появление экрана предложений\" - 11%, на шаге \"появление экрана корзины\" - 3%. Больше всего пользователей теряем на шаге между появлением главного экрана и появлением экрана предложений.\n",
        "* По результатам A/A/B-эксперимента не выявленно ни положительного, ни отрицательного влияния шрифтов. Т.е., их можно менять, можно оставлять - на продажах это не скажется. Исходя из изначальной цели теста – проверить не \"испугались\" ли пользователи новых шрифтов, можно признать его успешным."
      ]
    }
  ],
  "metadata": {
    "ExecuteTimeLog": [
      {
        "duration": 402,
        "start_time": "2023-11-08T06:21:00.729Z"
      },
      {
        "duration": 607,
        "start_time": "2023-11-08T06:22:27.872Z"
      },
      {
        "duration": 15,
        "start_time": "2023-11-08T06:23:06.899Z"
      },
      {
        "duration": 77,
        "start_time": "2023-11-08T06:24:09.074Z"
      },
      {
        "duration": 179,
        "start_time": "2023-11-08T06:24:24.986Z"
      },
      {
        "duration": 9,
        "start_time": "2023-11-08T06:24:27.094Z"
      },
      {
        "duration": 12,
        "start_time": "2023-11-08T06:25:33.587Z"
      },
      {
        "duration": 29,
        "start_time": "2023-11-08T06:31:36.046Z"
      },
      {
        "duration": 372,
        "start_time": "2023-11-08T06:37:58.858Z"
      },
      {
        "duration": 172,
        "start_time": "2023-11-08T06:37:59.231Z"
      },
      {
        "duration": 16,
        "start_time": "2023-11-08T06:37:59.406Z"
      },
      {
        "duration": 31,
        "start_time": "2023-11-08T06:37:59.423Z"
      },
      {
        "duration": 3,
        "start_time": "2023-11-08T06:44:38.553Z"
      },
      {
        "duration": 9,
        "start_time": "2023-11-08T06:44:42.992Z"
      },
      {
        "duration": 48,
        "start_time": "2023-11-08T06:47:31.204Z"
      },
      {
        "duration": 34,
        "start_time": "2023-11-08T06:47:35.527Z"
      },
      {
        "duration": 9,
        "start_time": "2023-11-08T06:47:39.527Z"
      },
      {
        "duration": 503,
        "start_time": "2023-11-10T12:37:23.753Z"
      },
      {
        "duration": 1021,
        "start_time": "2023-11-10T12:37:24.259Z"
      },
      {
        "duration": 17,
        "start_time": "2023-11-10T12:37:25.284Z"
      },
      {
        "duration": 40,
        "start_time": "2023-11-10T12:37:25.303Z"
      },
      {
        "duration": 2,
        "start_time": "2023-11-10T12:37:25.345Z"
      },
      {
        "duration": 63,
        "start_time": "2023-11-10T12:37:25.349Z"
      },
      {
        "duration": 12,
        "start_time": "2023-11-10T12:38:46.444Z"
      },
      {
        "duration": 56,
        "start_time": "2023-11-10T13:01:49.230Z"
      },
      {
        "duration": 10,
        "start_time": "2023-11-10T13:01:55.634Z"
      },
      {
        "duration": 74,
        "start_time": "2023-11-10T13:04:29.525Z"
      },
      {
        "duration": 74,
        "start_time": "2023-11-10T13:04:53.818Z"
      },
      {
        "duration": 13,
        "start_time": "2023-11-10T13:04:58.448Z"
      },
      {
        "duration": 108,
        "start_time": "2023-11-10T13:07:19.322Z"
      },
      {
        "duration": 80,
        "start_time": "2023-11-10T13:07:45.069Z"
      },
      {
        "duration": 80,
        "start_time": "2023-11-10T13:11:29.391Z"
      },
      {
        "duration": 468,
        "start_time": "2023-11-10T13:12:48.324Z"
      },
      {
        "duration": 194,
        "start_time": "2023-11-10T13:12:48.794Z"
      },
      {
        "duration": 16,
        "start_time": "2023-11-10T13:12:48.990Z"
      },
      {
        "duration": 42,
        "start_time": "2023-11-10T13:12:49.009Z"
      },
      {
        "duration": 3,
        "start_time": "2023-11-10T13:12:49.054Z"
      },
      {
        "duration": 55,
        "start_time": "2023-11-10T13:12:49.059Z"
      },
      {
        "duration": 100,
        "start_time": "2023-11-10T13:12:49.116Z"
      },
      {
        "duration": 97,
        "start_time": "2023-11-10T13:12:49.218Z"
      },
      {
        "duration": 118,
        "start_time": "2023-11-10T13:22:27.064Z"
      },
      {
        "duration": 69,
        "start_time": "2023-11-10T13:32:07.425Z"
      },
      {
        "duration": 68,
        "start_time": "2023-11-10T13:32:46.687Z"
      },
      {
        "duration": 91,
        "start_time": "2023-11-10T13:34:24.296Z"
      },
      {
        "duration": 90,
        "start_time": "2023-11-10T13:38:02.088Z"
      },
      {
        "duration": 91,
        "start_time": "2023-11-10T13:38:11.804Z"
      },
      {
        "duration": 435,
        "start_time": "2023-11-10T13:40:46.458Z"
      },
      {
        "duration": 201,
        "start_time": "2023-11-10T13:40:46.897Z"
      },
      {
        "duration": 16,
        "start_time": "2023-11-10T13:40:47.101Z"
      },
      {
        "duration": 40,
        "start_time": "2023-11-10T13:40:47.119Z"
      },
      {
        "duration": 3,
        "start_time": "2023-11-10T13:40:47.161Z"
      },
      {
        "duration": 57,
        "start_time": "2023-11-10T13:40:47.165Z"
      },
      {
        "duration": 82,
        "start_time": "2023-11-10T13:40:47.224Z"
      },
      {
        "duration": 101,
        "start_time": "2023-11-10T13:40:47.308Z"
      },
      {
        "duration": 104,
        "start_time": "2023-11-10T13:40:47.412Z"
      },
      {
        "duration": 72,
        "start_time": "2023-11-10T13:40:47.518Z"
      },
      {
        "duration": 80,
        "start_time": "2023-11-10T13:40:47.592Z"
      },
      {
        "duration": 6,
        "start_time": "2023-11-10T13:49:57.183Z"
      },
      {
        "duration": 69,
        "start_time": "2023-11-10T13:50:31.841Z"
      },
      {
        "duration": 24,
        "start_time": "2023-11-10T13:50:37.648Z"
      },
      {
        "duration": 20,
        "start_time": "2023-11-10T13:56:42.903Z"
      },
      {
        "duration": 5,
        "start_time": "2023-11-10T13:56:46.093Z"
      },
      {
        "duration": 20,
        "start_time": "2023-11-10T13:56:49.083Z"
      },
      {
        "duration": 28,
        "start_time": "2023-11-10T13:58:28.343Z"
      },
      {
        "duration": 9,
        "start_time": "2023-11-10T14:05:56.824Z"
      },
      {
        "duration": 7,
        "start_time": "2023-11-10T14:07:14.662Z"
      },
      {
        "duration": 8,
        "start_time": "2023-11-10T14:08:25.582Z"
      },
      {
        "duration": 4,
        "start_time": "2023-11-10T14:10:52.647Z"
      },
      {
        "duration": 5,
        "start_time": "2023-11-10T14:11:09.468Z"
      },
      {
        "duration": 417,
        "start_time": "2023-11-10T14:11:22.308Z"
      },
      {
        "duration": 194,
        "start_time": "2023-11-10T14:11:22.727Z"
      },
      {
        "duration": 23,
        "start_time": "2023-11-10T14:11:22.923Z"
      },
      {
        "duration": 25,
        "start_time": "2023-11-10T14:11:22.948Z"
      },
      {
        "duration": 4,
        "start_time": "2023-11-10T14:11:22.975Z"
      },
      {
        "duration": 66,
        "start_time": "2023-11-10T14:11:22.981Z"
      },
      {
        "duration": 76,
        "start_time": "2023-11-10T14:11:23.049Z"
      },
      {
        "duration": 111,
        "start_time": "2023-11-10T14:11:23.127Z"
      },
      {
        "duration": 105,
        "start_time": "2023-11-10T14:11:23.245Z"
      },
      {
        "duration": 61,
        "start_time": "2023-11-10T14:11:23.353Z"
      },
      {
        "duration": 79,
        "start_time": "2023-11-10T14:11:23.415Z"
      },
      {
        "duration": 27,
        "start_time": "2023-11-10T14:11:23.496Z"
      },
      {
        "duration": 9,
        "start_time": "2023-11-10T14:11:23.544Z"
      },
      {
        "duration": 14,
        "start_time": "2023-11-10T14:11:23.555Z"
      },
      {
        "duration": 48,
        "start_time": "2023-11-10T14:11:41.304Z"
      },
      {
        "duration": 26,
        "start_time": "2023-11-10T14:12:04.546Z"
      },
      {
        "duration": 24,
        "start_time": "2023-11-10T14:12:16.201Z"
      },
      {
        "duration": 69,
        "start_time": "2023-11-10T14:17:31.067Z"
      },
      {
        "duration": 8,
        "start_time": "2023-11-10T14:17:35.566Z"
      },
      {
        "duration": 20,
        "start_time": "2023-11-10T14:17:42.447Z"
      },
      {
        "duration": 5,
        "start_time": "2023-11-10T14:17:48.689Z"
      },
      {
        "duration": 19,
        "start_time": "2023-11-10T14:17:53.340Z"
      },
      {
        "duration": 52,
        "start_time": "2023-11-10T14:19:19.825Z"
      },
      {
        "duration": 77,
        "start_time": "2023-11-10T14:19:30.712Z"
      },
      {
        "duration": 87,
        "start_time": "2023-11-10T14:19:33.410Z"
      },
      {
        "duration": 91,
        "start_time": "2023-11-10T14:19:35.125Z"
      },
      {
        "duration": 444,
        "start_time": "2023-11-10T14:22:13.433Z"
      },
      {
        "duration": 221,
        "start_time": "2023-11-10T14:22:13.878Z"
      },
      {
        "duration": 22,
        "start_time": "2023-11-10T14:22:14.102Z"
      },
      {
        "duration": 47,
        "start_time": "2023-11-10T14:22:14.127Z"
      },
      {
        "duration": 5,
        "start_time": "2023-11-10T14:22:14.176Z"
      },
      {
        "duration": 26,
        "start_time": "2023-11-10T14:22:14.184Z"
      },
      {
        "duration": 113,
        "start_time": "2023-11-10T14:22:14.213Z"
      },
      {
        "duration": 127,
        "start_time": "2023-11-10T14:22:14.328Z"
      },
      {
        "duration": 107,
        "start_time": "2023-11-10T14:22:14.457Z"
      },
      {
        "duration": 65,
        "start_time": "2023-11-10T14:22:14.566Z"
      },
      {
        "duration": 71,
        "start_time": "2023-11-10T14:22:14.644Z"
      },
      {
        "duration": 44,
        "start_time": "2023-11-10T14:22:14.717Z"
      },
      {
        "duration": 24,
        "start_time": "2023-11-10T14:22:14.763Z"
      },
      {
        "duration": 23,
        "start_time": "2023-11-10T14:22:14.789Z"
      },
      {
        "duration": 20,
        "start_time": "2023-11-10T14:22:14.814Z"
      },
      {
        "duration": 52,
        "start_time": "2023-11-10T14:25:54.110Z"
      },
      {
        "duration": 697,
        "start_time": "2023-11-10T14:37:50.950Z"
      },
      {
        "duration": 39,
        "start_time": "2023-11-10T14:41:42.955Z"
      },
      {
        "duration": 110,
        "start_time": "2023-11-10T14:43:10.244Z"
      },
      {
        "duration": 683,
        "start_time": "2023-11-10T14:43:33.805Z"
      },
      {
        "duration": 301,
        "start_time": "2023-11-10T14:43:38.705Z"
      },
      {
        "duration": 3,
        "start_time": "2023-11-10T14:43:57.361Z"
      },
      {
        "duration": 245,
        "start_time": "2023-11-10T14:44:06.575Z"
      },
      {
        "duration": 3,
        "start_time": "2023-11-10T14:44:19.732Z"
      },
      {
        "duration": 286,
        "start_time": "2023-11-10T14:44:41.302Z"
      },
      {
        "duration": 378,
        "start_time": "2023-11-10T14:50:21.226Z"
      },
      {
        "duration": 32,
        "start_time": "2023-11-10T14:51:36.961Z"
      },
      {
        "duration": 34,
        "start_time": "2023-11-10T14:55:27.866Z"
      },
      {
        "duration": 271,
        "start_time": "2023-11-10T14:55:43.552Z"
      },
      {
        "duration": 243,
        "start_time": "2023-11-10T14:57:36.516Z"
      },
      {
        "duration": 1251,
        "start_time": "2023-11-10T14:58:20.694Z"
      },
      {
        "duration": 197,
        "start_time": "2023-11-10T14:58:21.948Z"
      },
      {
        "duration": 14,
        "start_time": "2023-11-10T14:58:22.147Z"
      },
      {
        "duration": 70,
        "start_time": "2023-11-10T14:58:22.164Z"
      },
      {
        "duration": 3,
        "start_time": "2023-11-10T14:58:22.236Z"
      },
      {
        "duration": 54,
        "start_time": "2023-11-10T14:58:22.241Z"
      },
      {
        "duration": 98,
        "start_time": "2023-11-10T14:58:22.297Z"
      },
      {
        "duration": 93,
        "start_time": "2023-11-10T14:58:22.397Z"
      },
      {
        "duration": 108,
        "start_time": "2023-11-10T14:58:22.492Z"
      },
      {
        "duration": 73,
        "start_time": "2023-11-10T14:58:22.603Z"
      },
      {
        "duration": 82,
        "start_time": "2023-11-10T14:58:22.677Z"
      },
      {
        "duration": 28,
        "start_time": "2023-11-10T14:58:22.761Z"
      },
      {
        "duration": 33,
        "start_time": "2023-11-10T14:58:22.790Z"
      },
      {
        "duration": 39,
        "start_time": "2023-11-10T14:58:22.824Z"
      },
      {
        "duration": 46,
        "start_time": "2023-11-10T14:58:22.865Z"
      },
      {
        "duration": 351,
        "start_time": "2023-11-10T14:58:22.913Z"
      },
      {
        "duration": 34,
        "start_time": "2023-11-10T14:58:23.266Z"
      },
      {
        "duration": 15,
        "start_time": "2023-11-10T15:26:06.238Z"
      },
      {
        "duration": 10,
        "start_time": "2023-11-10T15:26:44.073Z"
      },
      {
        "duration": 119,
        "start_time": "2023-11-10T15:33:32.484Z"
      },
      {
        "duration": 16,
        "start_time": "2023-11-10T15:33:48.748Z"
      },
      {
        "duration": 7,
        "start_time": "2023-11-10T15:35:20.715Z"
      },
      {
        "duration": 15,
        "start_time": "2023-11-10T15:36:01.039Z"
      },
      {
        "duration": 1244,
        "start_time": "2023-11-10T15:36:14.304Z"
      },
      {
        "duration": 194,
        "start_time": "2023-11-10T15:36:15.550Z"
      },
      {
        "duration": 15,
        "start_time": "2023-11-10T15:36:15.746Z"
      },
      {
        "duration": 40,
        "start_time": "2023-11-10T15:36:15.763Z"
      },
      {
        "duration": 8,
        "start_time": "2023-11-10T15:36:15.805Z"
      },
      {
        "duration": 53,
        "start_time": "2023-11-10T15:36:15.815Z"
      },
      {
        "duration": 112,
        "start_time": "2023-11-10T15:36:15.870Z"
      },
      {
        "duration": 102,
        "start_time": "2023-11-10T15:36:15.984Z"
      },
      {
        "duration": 111,
        "start_time": "2023-11-10T15:36:16.088Z"
      },
      {
        "duration": 70,
        "start_time": "2023-11-10T15:36:16.202Z"
      },
      {
        "duration": 82,
        "start_time": "2023-11-10T15:36:16.274Z"
      },
      {
        "duration": 16,
        "start_time": "2023-11-10T15:36:16.358Z"
      },
      {
        "duration": 56,
        "start_time": "2023-11-10T15:36:16.375Z"
      },
      {
        "duration": 40,
        "start_time": "2023-11-10T15:36:16.433Z"
      },
      {
        "duration": 54,
        "start_time": "2023-11-10T15:36:16.475Z"
      },
      {
        "duration": 48,
        "start_time": "2023-11-10T15:36:16.531Z"
      },
      {
        "duration": 323,
        "start_time": "2023-11-10T15:36:16.581Z"
      },
      {
        "duration": 44,
        "start_time": "2023-11-10T15:36:16.906Z"
      },
      {
        "duration": 61,
        "start_time": "2023-11-10T15:36:16.952Z"
      },
      {
        "duration": 43,
        "start_time": "2023-11-10T15:36:17.015Z"
      },
      {
        "duration": 5,
        "start_time": "2023-11-10T15:37:11.104Z"
      },
      {
        "duration": 6,
        "start_time": "2023-11-10T15:40:42.467Z"
      },
      {
        "duration": 1226,
        "start_time": "2023-11-10T15:42:15.588Z"
      },
      {
        "duration": 194,
        "start_time": "2023-11-10T15:42:16.816Z"
      },
      {
        "duration": 14,
        "start_time": "2023-11-10T15:42:17.012Z"
      },
      {
        "duration": 39,
        "start_time": "2023-11-10T15:42:17.028Z"
      },
      {
        "duration": 3,
        "start_time": "2023-11-10T15:42:17.069Z"
      },
      {
        "duration": 49,
        "start_time": "2023-11-10T15:42:17.074Z"
      },
      {
        "duration": 76,
        "start_time": "2023-11-10T15:42:17.125Z"
      },
      {
        "duration": 102,
        "start_time": "2023-11-10T15:42:17.203Z"
      },
      {
        "duration": 100,
        "start_time": "2023-11-10T15:42:17.307Z"
      },
      {
        "duration": 74,
        "start_time": "2023-11-10T15:42:17.410Z"
      },
      {
        "duration": 83,
        "start_time": "2023-11-10T15:42:17.485Z"
      },
      {
        "duration": 16,
        "start_time": "2023-11-10T15:42:17.569Z"
      },
      {
        "duration": 45,
        "start_time": "2023-11-10T15:42:17.587Z"
      },
      {
        "duration": 15,
        "start_time": "2023-11-10T15:42:17.635Z"
      },
      {
        "duration": 30,
        "start_time": "2023-11-10T15:42:17.652Z"
      },
      {
        "duration": 35,
        "start_time": "2023-11-10T15:42:17.684Z"
      },
      {
        "duration": 316,
        "start_time": "2023-11-10T15:42:17.721Z"
      },
      {
        "duration": 37,
        "start_time": "2023-11-10T15:42:18.038Z"
      },
      {
        "duration": 14,
        "start_time": "2023-11-10T15:42:18.077Z"
      },
      {
        "duration": 10,
        "start_time": "2023-11-10T15:42:18.093Z"
      },
      {
        "duration": 16,
        "start_time": "2023-11-10T15:42:18.104Z"
      },
      {
        "duration": 32,
        "start_time": "2023-11-10T15:44:28.703Z"
      },
      {
        "duration": 31,
        "start_time": "2023-11-10T15:44:35.626Z"
      },
      {
        "duration": 1300,
        "start_time": "2023-11-10T15:45:07.527Z"
      },
      {
        "duration": 194,
        "start_time": "2023-11-10T15:45:08.829Z"
      },
      {
        "duration": 24,
        "start_time": "2023-11-10T15:45:09.025Z"
      },
      {
        "duration": 25,
        "start_time": "2023-11-10T15:45:09.052Z"
      },
      {
        "duration": 3,
        "start_time": "2023-11-10T15:45:09.079Z"
      },
      {
        "duration": 26,
        "start_time": "2023-11-10T15:45:09.083Z"
      },
      {
        "duration": 101,
        "start_time": "2023-11-10T15:45:09.111Z"
      },
      {
        "duration": 106,
        "start_time": "2023-11-10T15:45:09.213Z"
      },
      {
        "duration": 113,
        "start_time": "2023-11-10T15:45:09.320Z"
      },
      {
        "duration": 68,
        "start_time": "2023-11-10T15:45:09.436Z"
      },
      {
        "duration": 88,
        "start_time": "2023-11-10T15:45:09.506Z"
      },
      {
        "duration": 17,
        "start_time": "2023-11-10T15:45:09.596Z"
      },
      {
        "duration": 45,
        "start_time": "2023-11-10T15:45:09.615Z"
      },
      {
        "duration": 14,
        "start_time": "2023-11-10T15:45:09.662Z"
      },
      {
        "duration": 26,
        "start_time": "2023-11-10T15:45:09.678Z"
      },
      {
        "duration": 51,
        "start_time": "2023-11-10T15:45:09.706Z"
      },
      {
        "duration": 337,
        "start_time": "2023-11-10T15:45:09.759Z"
      },
      {
        "duration": 49,
        "start_time": "2023-11-10T15:45:10.098Z"
      },
      {
        "duration": 16,
        "start_time": "2023-11-10T15:45:10.149Z"
      },
      {
        "duration": 16,
        "start_time": "2023-11-10T15:45:10.168Z"
      },
      {
        "duration": 9,
        "start_time": "2023-11-10T15:45:10.186Z"
      },
      {
        "duration": 28,
        "start_time": "2023-11-10T15:48:43.737Z"
      },
      {
        "duration": 26,
        "start_time": "2023-11-10T15:49:35.160Z"
      },
      {
        "duration": 33,
        "start_time": "2023-11-10T15:49:42.724Z"
      },
      {
        "duration": 182,
        "start_time": "2023-11-10T15:50:49.823Z"
      },
      {
        "duration": 172,
        "start_time": "2023-11-10T15:51:22.534Z"
      },
      {
        "duration": 166,
        "start_time": "2023-11-10T15:51:33.708Z"
      },
      {
        "duration": 175,
        "start_time": "2023-11-10T15:51:40.017Z"
      },
      {
        "duration": 163,
        "start_time": "2023-11-10T15:51:52.750Z"
      },
      {
        "duration": 164,
        "start_time": "2023-11-10T15:52:04.660Z"
      },
      {
        "duration": 165,
        "start_time": "2023-11-10T15:52:10.000Z"
      },
      {
        "duration": 161,
        "start_time": "2023-11-10T15:52:14.728Z"
      },
      {
        "duration": 237,
        "start_time": "2023-11-10T15:52:21.196Z"
      },
      {
        "duration": 4,
        "start_time": "2023-11-10T16:09:01.709Z"
      },
      {
        "duration": 12,
        "start_time": "2023-11-10T16:09:29.992Z"
      },
      {
        "duration": 27,
        "start_time": "2023-11-10T16:09:36.444Z"
      },
      {
        "duration": 38,
        "start_time": "2023-11-10T16:10:00.222Z"
      },
      {
        "duration": 36,
        "start_time": "2023-11-10T16:19:19.994Z"
      },
      {
        "duration": 140,
        "start_time": "2023-11-10T16:23:04.231Z"
      },
      {
        "duration": 6,
        "start_time": "2023-11-10T16:31:22.374Z"
      },
      {
        "duration": 64,
        "start_time": "2023-11-10T16:33:12.682Z"
      },
      {
        "duration": 67,
        "start_time": "2023-11-10T16:34:56.003Z"
      },
      {
        "duration": 9,
        "start_time": "2023-11-10T16:45:14.118Z"
      },
      {
        "duration": 11,
        "start_time": "2023-11-10T16:46:44.933Z"
      },
      {
        "duration": 11,
        "start_time": "2023-11-10T16:47:10.754Z"
      },
      {
        "duration": 44,
        "start_time": "2023-11-10T16:50:11.393Z"
      },
      {
        "duration": 31,
        "start_time": "2023-11-10T16:52:51.730Z"
      },
      {
        "duration": 49,
        "start_time": "2023-11-10T16:53:05.054Z"
      },
      {
        "duration": 42,
        "start_time": "2023-11-10T16:53:16.608Z"
      },
      {
        "duration": 38,
        "start_time": "2023-11-10T16:53:44.874Z"
      },
      {
        "duration": 36,
        "start_time": "2023-11-10T16:56:06.849Z"
      },
      {
        "duration": 58,
        "start_time": "2023-11-11T05:35:26.323Z"
      },
      {
        "duration": 1230,
        "start_time": "2023-11-11T05:35:38.923Z"
      },
      {
        "duration": 496,
        "start_time": "2023-11-11T05:35:40.155Z"
      },
      {
        "duration": 12,
        "start_time": "2023-11-11T05:35:40.652Z"
      },
      {
        "duration": 21,
        "start_time": "2023-11-11T05:35:40.667Z"
      },
      {
        "duration": 3,
        "start_time": "2023-11-11T05:35:40.690Z"
      },
      {
        "duration": 14,
        "start_time": "2023-11-11T05:35:40.695Z"
      },
      {
        "duration": 99,
        "start_time": "2023-11-11T05:35:40.710Z"
      },
      {
        "duration": 92,
        "start_time": "2023-11-11T05:35:40.811Z"
      },
      {
        "duration": 103,
        "start_time": "2023-11-11T05:35:40.904Z"
      },
      {
        "duration": 58,
        "start_time": "2023-11-11T05:35:41.009Z"
      },
      {
        "duration": 59,
        "start_time": "2023-11-11T05:35:41.069Z"
      },
      {
        "duration": 33,
        "start_time": "2023-11-11T05:35:41.130Z"
      },
      {
        "duration": 35,
        "start_time": "2023-11-11T05:35:41.165Z"
      },
      {
        "duration": 7,
        "start_time": "2023-11-11T05:35:41.202Z"
      },
      {
        "duration": 46,
        "start_time": "2023-11-11T05:35:41.210Z"
      },
      {
        "duration": 32,
        "start_time": "2023-11-11T05:35:41.258Z"
      },
      {
        "duration": 277,
        "start_time": "2023-11-11T05:35:41.292Z"
      },
      {
        "duration": 32,
        "start_time": "2023-11-11T05:35:41.571Z"
      },
      {
        "duration": 13,
        "start_time": "2023-11-11T05:35:41.605Z"
      },
      {
        "duration": 6,
        "start_time": "2023-11-11T05:35:41.620Z"
      },
      {
        "duration": 35,
        "start_time": "2023-11-11T05:35:41.628Z"
      },
      {
        "duration": 24,
        "start_time": "2023-11-11T05:35:41.665Z"
      },
      {
        "duration": 150,
        "start_time": "2023-11-11T05:35:41.691Z"
      },
      {
        "duration": 41,
        "start_time": "2023-11-11T05:35:41.842Z"
      },
      {
        "duration": 114,
        "start_time": "2023-11-11T05:43:55.873Z"
      },
      {
        "duration": 28,
        "start_time": "2023-11-11T05:44:03.343Z"
      },
      {
        "duration": 73,
        "start_time": "2023-11-11T06:14:19.080Z"
      },
      {
        "duration": 36,
        "start_time": "2023-11-11T06:14:38.713Z"
      },
      {
        "duration": 36,
        "start_time": "2023-11-11T06:15:22.136Z"
      },
      {
        "duration": 44,
        "start_time": "2023-11-11T06:18:35.838Z"
      },
      {
        "duration": 36,
        "start_time": "2023-11-11T06:22:14.876Z"
      },
      {
        "duration": 37,
        "start_time": "2023-11-11T06:23:27.874Z"
      },
      {
        "duration": 50,
        "start_time": "2023-11-11T06:23:36.254Z"
      },
      {
        "duration": 92,
        "start_time": "2023-11-11T06:27:11.592Z"
      },
      {
        "duration": 37,
        "start_time": "2023-11-11T06:27:19.092Z"
      },
      {
        "duration": 36,
        "start_time": "2023-11-11T06:27:42.554Z"
      },
      {
        "duration": 1164,
        "start_time": "2023-11-11T07:49:14.228Z"
      },
      {
        "duration": 173,
        "start_time": "2023-11-11T07:49:15.394Z"
      },
      {
        "duration": 11,
        "start_time": "2023-11-11T07:49:15.571Z"
      },
      {
        "duration": 20,
        "start_time": "2023-11-11T07:49:15.584Z"
      },
      {
        "duration": 2,
        "start_time": "2023-11-11T07:49:15.606Z"
      },
      {
        "duration": 13,
        "start_time": "2023-11-11T07:49:15.610Z"
      },
      {
        "duration": 93,
        "start_time": "2023-11-11T07:49:15.624Z"
      },
      {
        "duration": 90,
        "start_time": "2023-11-11T07:49:15.719Z"
      },
      {
        "duration": 93,
        "start_time": "2023-11-11T07:49:15.812Z"
      },
      {
        "duration": 55,
        "start_time": "2023-11-11T07:49:15.906Z"
      },
      {
        "duration": 57,
        "start_time": "2023-11-11T07:49:15.963Z"
      },
      {
        "duration": 30,
        "start_time": "2023-11-11T07:49:16.022Z"
      },
      {
        "duration": 25,
        "start_time": "2023-11-11T07:49:16.054Z"
      },
      {
        "duration": 11,
        "start_time": "2023-11-11T07:49:16.081Z"
      },
      {
        "duration": 23,
        "start_time": "2023-11-11T07:49:16.094Z"
      },
      {
        "duration": 48,
        "start_time": "2023-11-11T07:49:16.119Z"
      },
      {
        "duration": 260,
        "start_time": "2023-11-11T07:49:16.168Z"
      },
      {
        "duration": 34,
        "start_time": "2023-11-11T07:49:16.429Z"
      },
      {
        "duration": 12,
        "start_time": "2023-11-11T07:49:16.465Z"
      },
      {
        "duration": 5,
        "start_time": "2023-11-11T07:49:16.478Z"
      },
      {
        "duration": 5,
        "start_time": "2023-11-11T07:49:16.485Z"
      },
      {
        "duration": 28,
        "start_time": "2023-11-11T07:49:16.491Z"
      },
      {
        "duration": 163,
        "start_time": "2023-11-11T07:49:16.521Z"
      },
      {
        "duration": 38,
        "start_time": "2023-11-11T07:49:16.686Z"
      },
      {
        "duration": 61,
        "start_time": "2023-11-11T07:54:37.754Z"
      },
      {
        "duration": 1088,
        "start_time": "2023-11-11T13:04:54.916Z"
      },
      {
        "duration": 174,
        "start_time": "2023-11-11T13:04:56.005Z"
      },
      {
        "duration": 15,
        "start_time": "2023-11-11T13:04:56.181Z"
      },
      {
        "duration": 24,
        "start_time": "2023-11-11T13:04:56.199Z"
      },
      {
        "duration": 3,
        "start_time": "2023-11-11T13:04:56.224Z"
      },
      {
        "duration": 33,
        "start_time": "2023-11-11T13:04:56.228Z"
      },
      {
        "duration": 65,
        "start_time": "2023-11-11T13:04:56.262Z"
      },
      {
        "duration": 96,
        "start_time": "2023-11-11T13:04:56.328Z"
      },
      {
        "duration": 99,
        "start_time": "2023-11-11T13:04:56.426Z"
      },
      {
        "duration": 57,
        "start_time": "2023-11-11T13:04:56.527Z"
      },
      {
        "duration": 66,
        "start_time": "2023-11-11T13:04:56.586Z"
      },
      {
        "duration": 14,
        "start_time": "2023-11-11T13:04:56.654Z"
      },
      {
        "duration": 26,
        "start_time": "2023-11-11T13:04:56.669Z"
      },
      {
        "duration": 7,
        "start_time": "2023-11-11T13:04:56.696Z"
      },
      {
        "duration": 18,
        "start_time": "2023-11-11T13:04:56.705Z"
      },
      {
        "duration": 55,
        "start_time": "2023-11-11T13:04:56.724Z"
      },
      {
        "duration": 279,
        "start_time": "2023-11-11T13:04:56.780Z"
      },
      {
        "duration": 33,
        "start_time": "2023-11-11T13:04:57.061Z"
      },
      {
        "duration": 14,
        "start_time": "2023-11-11T13:04:57.095Z"
      },
      {
        "duration": 15,
        "start_time": "2023-11-11T13:04:57.111Z"
      },
      {
        "duration": 25,
        "start_time": "2023-11-11T13:04:57.128Z"
      },
      {
        "duration": 42,
        "start_time": "2023-11-11T13:04:57.154Z"
      },
      {
        "duration": 160,
        "start_time": "2023-11-11T13:04:57.198Z"
      },
      {
        "duration": 70,
        "start_time": "2023-11-11T13:04:57.360Z"
      },
      {
        "duration": 26,
        "start_time": "2023-11-11T13:04:57.432Z"
      },
      {
        "duration": 9,
        "start_time": "2023-11-11T13:05:33.628Z"
      },
      {
        "duration": 10,
        "start_time": "2023-11-11T13:05:52.023Z"
      },
      {
        "duration": 100,
        "start_time": "2023-11-11T13:06:07.321Z"
      },
      {
        "duration": 7,
        "start_time": "2023-11-11T13:06:40.267Z"
      },
      {
        "duration": 8,
        "start_time": "2023-11-11T13:17:52.226Z"
      },
      {
        "duration": 162,
        "start_time": "2023-11-11T13:18:56.820Z"
      },
      {
        "duration": 8,
        "start_time": "2023-11-11T13:19:03.661Z"
      },
      {
        "duration": 10,
        "start_time": "2023-11-11T13:19:16.504Z"
      },
      {
        "duration": 11,
        "start_time": "2023-11-11T13:21:37.916Z"
      },
      {
        "duration": 1524,
        "start_time": "2023-11-11T13:42:13.972Z"
      },
      {
        "duration": 1327,
        "start_time": "2023-11-11T13:42:31.242Z"
      },
      {
        "duration": 1568,
        "start_time": "2023-11-11T13:43:03.364Z"
      },
      {
        "duration": 1603,
        "start_time": "2023-11-11T13:43:51.168Z"
      },
      {
        "duration": 13,
        "start_time": "2023-11-11T13:44:11.234Z"
      },
      {
        "duration": 12,
        "start_time": "2023-11-11T13:44:22.025Z"
      },
      {
        "duration": 1293,
        "start_time": "2023-11-11T13:45:45.667Z"
      },
      {
        "duration": 23,
        "start_time": "2023-11-11T13:46:04.173Z"
      },
      {
        "duration": 1106,
        "start_time": "2023-11-11T13:46:33.405Z"
      },
      {
        "duration": 198,
        "start_time": "2023-11-11T13:46:34.512Z"
      },
      {
        "duration": 11,
        "start_time": "2023-11-11T13:46:34.711Z"
      },
      {
        "duration": 39,
        "start_time": "2023-11-11T13:46:34.724Z"
      },
      {
        "duration": 3,
        "start_time": "2023-11-11T13:46:34.765Z"
      },
      {
        "duration": 14,
        "start_time": "2023-11-11T13:46:34.770Z"
      },
      {
        "duration": 93,
        "start_time": "2023-11-11T13:46:34.785Z"
      },
      {
        "duration": 78,
        "start_time": "2023-11-11T13:46:34.880Z"
      },
      {
        "duration": 109,
        "start_time": "2023-11-11T13:46:34.959Z"
      },
      {
        "duration": 58,
        "start_time": "2023-11-11T13:46:35.072Z"
      },
      {
        "duration": 88,
        "start_time": "2023-11-11T13:46:35.132Z"
      },
      {
        "duration": 13,
        "start_time": "2023-11-11T13:46:35.221Z"
      },
      {
        "duration": 46,
        "start_time": "2023-11-11T13:46:35.236Z"
      },
      {
        "duration": 6,
        "start_time": "2023-11-11T13:46:35.283Z"
      },
      {
        "duration": 21,
        "start_time": "2023-11-11T13:46:35.291Z"
      },
      {
        "duration": 66,
        "start_time": "2023-11-11T13:46:35.314Z"
      },
      {
        "duration": 293,
        "start_time": "2023-11-11T13:46:35.382Z"
      },
      {
        "duration": 37,
        "start_time": "2023-11-11T13:46:35.677Z"
      },
      {
        "duration": 65,
        "start_time": "2023-11-11T13:46:35.716Z"
      },
      {
        "duration": 32,
        "start_time": "2023-11-11T13:46:35.783Z"
      },
      {
        "duration": 86,
        "start_time": "2023-11-11T13:46:35.816Z"
      },
      {
        "duration": 29,
        "start_time": "2023-11-11T13:46:35.903Z"
      },
      {
        "duration": 272,
        "start_time": "2023-11-11T13:46:35.933Z"
      },
      {
        "duration": 78,
        "start_time": "2023-11-11T13:46:36.206Z"
      },
      {
        "duration": 8,
        "start_time": "2023-11-11T13:46:36.286Z"
      },
      {
        "duration": 114,
        "start_time": "2023-11-11T13:47:09.251Z"
      },
      {
        "duration": 1413,
        "start_time": "2023-11-11T13:56:05.423Z"
      },
      {
        "duration": 1147,
        "start_time": "2023-11-11T13:59:34.358Z"
      },
      {
        "duration": 200,
        "start_time": "2023-11-11T13:59:35.507Z"
      },
      {
        "duration": 12,
        "start_time": "2023-11-11T13:59:35.708Z"
      },
      {
        "duration": 35,
        "start_time": "2023-11-11T13:59:35.722Z"
      },
      {
        "duration": 4,
        "start_time": "2023-11-11T13:59:35.759Z"
      },
      {
        "duration": 15,
        "start_time": "2023-11-11T13:59:35.766Z"
      },
      {
        "duration": 78,
        "start_time": "2023-11-11T13:59:35.782Z"
      },
      {
        "duration": 77,
        "start_time": "2023-11-11T13:59:35.862Z"
      },
      {
        "duration": 86,
        "start_time": "2023-11-11T13:59:35.941Z"
      },
      {
        "duration": 64,
        "start_time": "2023-11-11T13:59:36.029Z"
      },
      {
        "duration": 79,
        "start_time": "2023-11-11T13:59:36.095Z"
      },
      {
        "duration": 24,
        "start_time": "2023-11-11T13:59:36.176Z"
      },
      {
        "duration": 57,
        "start_time": "2023-11-11T13:59:36.202Z"
      },
      {
        "duration": 7,
        "start_time": "2023-11-11T13:59:36.268Z"
      },
      {
        "duration": 19,
        "start_time": "2023-11-11T13:59:36.276Z"
      },
      {
        "duration": 30,
        "start_time": "2023-11-11T13:59:36.297Z"
      },
      {
        "duration": 299,
        "start_time": "2023-11-11T13:59:36.329Z"
      },
      {
        "duration": 54,
        "start_time": "2023-11-11T13:59:36.632Z"
      },
      {
        "duration": 25,
        "start_time": "2023-11-11T13:59:36.688Z"
      },
      {
        "duration": 15,
        "start_time": "2023-11-11T13:59:36.715Z"
      },
      {
        "duration": 9,
        "start_time": "2023-11-11T13:59:36.731Z"
      },
      {
        "duration": 51,
        "start_time": "2023-11-11T13:59:36.756Z"
      },
      {
        "duration": 167,
        "start_time": "2023-11-11T13:59:36.809Z"
      },
      {
        "duration": 88,
        "start_time": "2023-11-11T13:59:36.978Z"
      },
      {
        "duration": 1428,
        "start_time": "2023-11-11T13:59:37.067Z"
      },
      {
        "duration": 4,
        "start_time": "2023-11-11T14:02:47.868Z"
      },
      {
        "duration": 8,
        "start_time": "2023-11-11T14:05:01.922Z"
      },
      {
        "duration": 6,
        "start_time": "2023-11-11T14:05:11.715Z"
      },
      {
        "duration": 52,
        "start_time": "2023-11-11T14:16:33.176Z"
      },
      {
        "duration": 1297,
        "start_time": "2023-11-11T14:20:21.211Z"
      },
      {
        "duration": 530,
        "start_time": "2023-11-11T14:20:22.510Z"
      },
      {
        "duration": 13,
        "start_time": "2023-11-11T14:20:23.042Z"
      },
      {
        "duration": 37,
        "start_time": "2023-11-11T14:20:23.057Z"
      },
      {
        "duration": 3,
        "start_time": "2023-11-11T14:20:23.095Z"
      },
      {
        "duration": 14,
        "start_time": "2023-11-11T14:20:23.099Z"
      },
      {
        "duration": 97,
        "start_time": "2023-11-11T14:20:23.114Z"
      },
      {
        "duration": 100,
        "start_time": "2023-11-11T14:20:23.213Z"
      },
      {
        "duration": 111,
        "start_time": "2023-11-11T14:20:23.315Z"
      },
      {
        "duration": 74,
        "start_time": "2023-11-11T14:20:23.428Z"
      },
      {
        "duration": 72,
        "start_time": "2023-11-11T14:20:23.504Z"
      },
      {
        "duration": 15,
        "start_time": "2023-11-11T14:20:23.581Z"
      },
      {
        "duration": 24,
        "start_time": "2023-11-11T14:20:23.597Z"
      },
      {
        "duration": 7,
        "start_time": "2023-11-11T14:20:23.622Z"
      },
      {
        "duration": 55,
        "start_time": "2023-11-11T14:20:23.630Z"
      },
      {
        "duration": 30,
        "start_time": "2023-11-11T14:20:23.687Z"
      },
      {
        "duration": 297,
        "start_time": "2023-11-11T14:20:23.719Z"
      },
      {
        "duration": 38,
        "start_time": "2023-11-11T14:20:24.017Z"
      },
      {
        "duration": 30,
        "start_time": "2023-11-11T14:20:24.057Z"
      },
      {
        "duration": 5,
        "start_time": "2023-11-11T14:20:24.089Z"
      },
      {
        "duration": 11,
        "start_time": "2023-11-11T14:20:24.096Z"
      },
      {
        "duration": 24,
        "start_time": "2023-11-11T14:20:24.109Z"
      },
      {
        "duration": 191,
        "start_time": "2023-11-11T14:20:24.134Z"
      },
      {
        "duration": 77,
        "start_time": "2023-11-11T14:20:24.328Z"
      },
      {
        "duration": 8,
        "start_time": "2023-11-11T14:20:24.407Z"
      },
      {
        "duration": 72,
        "start_time": "2023-11-11T14:45:49.666Z"
      },
      {
        "duration": 1447,
        "start_time": "2023-11-11T14:46:00.521Z"
      },
      {
        "duration": 772,
        "start_time": "2023-11-11T14:46:01.970Z"
      },
      {
        "duration": 13,
        "start_time": "2023-11-11T14:46:02.744Z"
      },
      {
        "duration": 21,
        "start_time": "2023-11-11T14:46:02.758Z"
      },
      {
        "duration": 3,
        "start_time": "2023-11-11T14:46:02.780Z"
      },
      {
        "duration": 25,
        "start_time": "2023-11-11T14:46:02.784Z"
      },
      {
        "duration": 80,
        "start_time": "2023-11-11T14:46:02.812Z"
      },
      {
        "duration": 94,
        "start_time": "2023-11-11T14:46:02.893Z"
      },
      {
        "duration": 119,
        "start_time": "2023-11-11T14:46:03.000Z"
      },
      {
        "duration": 52,
        "start_time": "2023-11-11T14:46:03.121Z"
      },
      {
        "duration": 75,
        "start_time": "2023-11-11T14:46:03.175Z"
      },
      {
        "duration": 14,
        "start_time": "2023-11-11T14:46:03.252Z"
      },
      {
        "duration": 42,
        "start_time": "2023-11-11T14:46:03.267Z"
      },
      {
        "duration": 8,
        "start_time": "2023-11-11T14:46:03.311Z"
      },
      {
        "duration": 21,
        "start_time": "2023-11-11T14:46:03.320Z"
      },
      {
        "duration": 32,
        "start_time": "2023-11-11T14:46:03.342Z"
      },
      {
        "duration": 312,
        "start_time": "2023-11-11T14:46:03.375Z"
      },
      {
        "duration": 51,
        "start_time": "2023-11-11T14:46:03.689Z"
      },
      {
        "duration": 14,
        "start_time": "2023-11-11T14:46:03.742Z"
      },
      {
        "duration": 14,
        "start_time": "2023-11-11T14:46:03.757Z"
      },
      {
        "duration": 7,
        "start_time": "2023-11-11T14:46:03.772Z"
      },
      {
        "duration": 48,
        "start_time": "2023-11-11T14:46:03.780Z"
      },
      {
        "duration": 152,
        "start_time": "2023-11-11T14:46:03.830Z"
      },
      {
        "duration": 77,
        "start_time": "2023-11-11T14:46:03.984Z"
      },
      {
        "duration": 1616,
        "start_time": "2023-11-11T14:46:04.062Z"
      },
      {
        "duration": 1743,
        "start_time": "2023-11-11T14:46:19.610Z"
      },
      {
        "duration": 8,
        "start_time": "2023-11-11T14:51:58.609Z"
      },
      {
        "duration": 7,
        "start_time": "2023-11-11T14:52:47.831Z"
      },
      {
        "duration": 1117,
        "start_time": "2023-11-11T14:53:07.259Z"
      },
      {
        "duration": 184,
        "start_time": "2023-11-11T14:53:08.378Z"
      },
      {
        "duration": 11,
        "start_time": "2023-11-11T14:53:08.564Z"
      },
      {
        "duration": 42,
        "start_time": "2023-11-11T14:53:08.577Z"
      },
      {
        "duration": 2,
        "start_time": "2023-11-11T14:53:08.620Z"
      },
      {
        "duration": 44,
        "start_time": "2023-11-11T14:53:08.624Z"
      },
      {
        "duration": 83,
        "start_time": "2023-11-11T14:53:08.670Z"
      },
      {
        "duration": 99,
        "start_time": "2023-11-11T14:53:08.754Z"
      },
      {
        "duration": 102,
        "start_time": "2023-11-11T14:53:08.854Z"
      },
      {
        "duration": 62,
        "start_time": "2023-11-11T14:53:08.958Z"
      },
      {
        "duration": 59,
        "start_time": "2023-11-11T14:53:09.022Z"
      },
      {
        "duration": 23,
        "start_time": "2023-11-11T14:53:09.083Z"
      },
      {
        "duration": 50,
        "start_time": "2023-11-11T14:53:09.108Z"
      },
      {
        "duration": 28,
        "start_time": "2023-11-11T14:53:09.159Z"
      },
      {
        "duration": 40,
        "start_time": "2023-11-11T14:53:09.189Z"
      },
      {
        "duration": 41,
        "start_time": "2023-11-11T14:53:09.230Z"
      },
      {
        "duration": 283,
        "start_time": "2023-11-11T14:53:09.272Z"
      },
      {
        "duration": 31,
        "start_time": "2023-11-11T14:53:09.557Z"
      },
      {
        "duration": 28,
        "start_time": "2023-11-11T14:53:09.589Z"
      },
      {
        "duration": 40,
        "start_time": "2023-11-11T14:53:09.618Z"
      },
      {
        "duration": 34,
        "start_time": "2023-11-11T14:53:09.660Z"
      },
      {
        "duration": 48,
        "start_time": "2023-11-11T14:53:09.696Z"
      },
      {
        "duration": 166,
        "start_time": "2023-11-11T14:53:09.745Z"
      },
      {
        "duration": 68,
        "start_time": "2023-11-11T14:53:09.913Z"
      },
      {
        "duration": 7,
        "start_time": "2023-11-11T14:53:09.982Z"
      },
      {
        "duration": 7,
        "start_time": "2023-11-11T14:53:18.138Z"
      },
      {
        "duration": 8,
        "start_time": "2023-11-11T14:53:27.811Z"
      },
      {
        "duration": 6,
        "start_time": "2023-11-11T14:53:44.619Z"
      },
      {
        "duration": 1294,
        "start_time": "2023-11-11T14:53:52.998Z"
      },
      {
        "duration": 181,
        "start_time": "2023-11-11T14:53:54.294Z"
      },
      {
        "duration": 13,
        "start_time": "2023-11-11T14:53:54.476Z"
      },
      {
        "duration": 23,
        "start_time": "2023-11-11T14:53:54.499Z"
      },
      {
        "duration": 3,
        "start_time": "2023-11-11T14:53:54.523Z"
      },
      {
        "duration": 19,
        "start_time": "2023-11-11T14:53:54.528Z"
      },
      {
        "duration": 94,
        "start_time": "2023-11-11T14:53:54.550Z"
      },
      {
        "duration": 98,
        "start_time": "2023-11-11T14:53:54.646Z"
      },
      {
        "duration": 99,
        "start_time": "2023-11-11T14:53:54.746Z"
      },
      {
        "duration": 71,
        "start_time": "2023-11-11T14:53:54.847Z"
      },
      {
        "duration": 62,
        "start_time": "2023-11-11T14:53:54.920Z"
      },
      {
        "duration": 24,
        "start_time": "2023-11-11T14:53:54.983Z"
      },
      {
        "duration": 26,
        "start_time": "2023-11-11T14:53:55.010Z"
      },
      {
        "duration": 9,
        "start_time": "2023-11-11T14:53:55.037Z"
      },
      {
        "duration": 40,
        "start_time": "2023-11-11T14:53:55.047Z"
      },
      {
        "duration": 43,
        "start_time": "2023-11-11T14:53:55.089Z"
      },
      {
        "duration": 323,
        "start_time": "2023-11-11T14:53:55.134Z"
      },
      {
        "duration": 33,
        "start_time": "2023-11-11T14:53:55.459Z"
      },
      {
        "duration": 22,
        "start_time": "2023-11-11T14:53:55.499Z"
      },
      {
        "duration": 6,
        "start_time": "2023-11-11T14:53:55.523Z"
      },
      {
        "duration": 7,
        "start_time": "2023-11-11T14:53:55.530Z"
      },
      {
        "duration": 25,
        "start_time": "2023-11-11T14:53:55.538Z"
      },
      {
        "duration": 184,
        "start_time": "2023-11-11T14:53:55.565Z"
      },
      {
        "duration": 76,
        "start_time": "2023-11-11T14:53:55.751Z"
      },
      {
        "duration": 5,
        "start_time": "2023-11-11T14:53:55.829Z"
      },
      {
        "duration": 5,
        "start_time": "2023-11-11T14:54:34.328Z"
      },
      {
        "duration": 6,
        "start_time": "2023-11-11T14:54:43.365Z"
      },
      {
        "duration": 109,
        "start_time": "2023-11-11T14:57:25.466Z"
      },
      {
        "duration": 11,
        "start_time": "2023-11-11T14:59:18.858Z"
      },
      {
        "duration": 56,
        "start_time": "2023-11-11T14:59:26.613Z"
      },
      {
        "duration": 1588,
        "start_time": "2023-11-11T14:59:54.295Z"
      },
      {
        "duration": 51,
        "start_time": "2023-11-11T15:00:25.017Z"
      },
      {
        "duration": 51,
        "start_time": "2023-11-11T15:02:49.243Z"
      },
      {
        "duration": 82,
        "start_time": "2023-11-11T15:03:12.509Z"
      },
      {
        "duration": 55,
        "start_time": "2023-11-11T15:03:50.384Z"
      },
      {
        "duration": 1622,
        "start_time": "2023-11-11T15:04:09.631Z"
      },
      {
        "duration": 51,
        "start_time": "2023-11-11T15:10:27.537Z"
      },
      {
        "duration": 52,
        "start_time": "2023-11-11T15:10:45.091Z"
      },
      {
        "duration": 51,
        "start_time": "2023-11-11T15:10:57.448Z"
      },
      {
        "duration": 53,
        "start_time": "2023-11-11T15:11:14.377Z"
      },
      {
        "duration": 53,
        "start_time": "2023-11-11T15:11:38.887Z"
      },
      {
        "duration": 1239,
        "start_time": "2023-11-11T15:11:52.117Z"
      },
      {
        "duration": 184,
        "start_time": "2023-11-11T15:11:53.358Z"
      },
      {
        "duration": 16,
        "start_time": "2023-11-11T15:11:53.543Z"
      },
      {
        "duration": 23,
        "start_time": "2023-11-11T15:11:53.561Z"
      },
      {
        "duration": 3,
        "start_time": "2023-11-11T15:11:53.599Z"
      },
      {
        "duration": 18,
        "start_time": "2023-11-11T15:11:53.604Z"
      },
      {
        "duration": 81,
        "start_time": "2023-11-11T15:11:53.624Z"
      },
      {
        "duration": 81,
        "start_time": "2023-11-11T15:11:53.706Z"
      },
      {
        "duration": 81,
        "start_time": "2023-11-11T15:11:53.798Z"
      },
      {
        "duration": 63,
        "start_time": "2023-11-11T15:11:53.881Z"
      },
      {
        "duration": 69,
        "start_time": "2023-11-11T15:11:53.946Z"
      },
      {
        "duration": 13,
        "start_time": "2023-11-11T15:11:54.017Z"
      },
      {
        "duration": 24,
        "start_time": "2023-11-11T15:11:54.031Z"
      },
      {
        "duration": 6,
        "start_time": "2023-11-11T15:11:54.057Z"
      },
      {
        "duration": 42,
        "start_time": "2023-11-11T15:11:54.064Z"
      },
      {
        "duration": 31,
        "start_time": "2023-11-11T15:11:54.108Z"
      },
      {
        "duration": 276,
        "start_time": "2023-11-11T15:11:54.140Z"
      },
      {
        "duration": 34,
        "start_time": "2023-11-11T15:11:54.418Z"
      },
      {
        "duration": 12,
        "start_time": "2023-11-11T15:11:54.453Z"
      },
      {
        "duration": 7,
        "start_time": "2023-11-11T15:11:54.467Z"
      },
      {
        "duration": 25,
        "start_time": "2023-11-11T15:11:54.476Z"
      },
      {
        "duration": 24,
        "start_time": "2023-11-11T15:11:54.502Z"
      },
      {
        "duration": 149,
        "start_time": "2023-11-11T15:11:54.528Z"
      },
      {
        "duration": 56,
        "start_time": "2023-11-11T15:11:54.678Z"
      },
      {
        "duration": 4,
        "start_time": "2023-11-11T15:19:08.572Z"
      },
      {
        "duration": 102,
        "start_time": "2023-11-11T15:19:59.056Z"
      },
      {
        "duration": 3,
        "start_time": "2023-11-11T15:20:06.367Z"
      },
      {
        "duration": 7,
        "start_time": "2023-11-11T15:20:57.707Z"
      },
      {
        "duration": 1689,
        "start_time": "2023-11-11T15:21:55.345Z"
      },
      {
        "duration": 6,
        "start_time": "2023-11-11T15:22:06.299Z"
      },
      {
        "duration": 92,
        "start_time": "2023-11-11T15:24:39.642Z"
      },
      {
        "duration": 4,
        "start_time": "2023-11-11T15:26:32.639Z"
      },
      {
        "duration": 45,
        "start_time": "2023-11-11T15:33:29.953Z"
      },
      {
        "duration": 34,
        "start_time": "2023-11-11T15:33:48.708Z"
      },
      {
        "duration": 1097,
        "start_time": "2023-11-11T15:35:49.821Z"
      },
      {
        "duration": 173,
        "start_time": "2023-11-11T15:35:50.920Z"
      },
      {
        "duration": 12,
        "start_time": "2023-11-11T15:35:51.095Z"
      },
      {
        "duration": 25,
        "start_time": "2023-11-11T15:35:51.108Z"
      },
      {
        "duration": 3,
        "start_time": "2023-11-11T15:35:51.134Z"
      },
      {
        "duration": 16,
        "start_time": "2023-11-11T15:35:51.138Z"
      },
      {
        "duration": 83,
        "start_time": "2023-11-11T15:35:51.155Z"
      },
      {
        "duration": 88,
        "start_time": "2023-11-11T15:35:51.239Z"
      },
      {
        "duration": 95,
        "start_time": "2023-11-11T15:35:51.328Z"
      },
      {
        "duration": 52,
        "start_time": "2023-11-11T15:35:51.426Z"
      },
      {
        "duration": 70,
        "start_time": "2023-11-11T15:35:51.480Z"
      },
      {
        "duration": 14,
        "start_time": "2023-11-11T15:35:51.552Z"
      },
      {
        "duration": 40,
        "start_time": "2023-11-11T15:35:51.567Z"
      },
      {
        "duration": 19,
        "start_time": "2023-11-11T15:35:51.608Z"
      },
      {
        "duration": 29,
        "start_time": "2023-11-11T15:35:51.628Z"
      },
      {
        "duration": 32,
        "start_time": "2023-11-11T15:35:51.658Z"
      },
      {
        "duration": 269,
        "start_time": "2023-11-11T15:35:51.691Z"
      },
      {
        "duration": 42,
        "start_time": "2023-11-11T15:35:51.961Z"
      },
      {
        "duration": 13,
        "start_time": "2023-11-11T15:35:52.005Z"
      },
      {
        "duration": 13,
        "start_time": "2023-11-11T15:35:52.020Z"
      },
      {
        "duration": 38,
        "start_time": "2023-11-11T15:35:52.034Z"
      },
      {
        "duration": 44,
        "start_time": "2023-11-11T15:35:52.073Z"
      },
      {
        "duration": 159,
        "start_time": "2023-11-11T15:35:52.118Z"
      },
      {
        "duration": 62,
        "start_time": "2023-11-11T15:35:52.278Z"
      },
      {
        "duration": 5,
        "start_time": "2023-11-11T15:35:52.342Z"
      },
      {
        "duration": 23,
        "start_time": "2023-11-11T15:35:52.349Z"
      },
      {
        "duration": 37,
        "start_time": "2023-11-11T15:35:52.374Z"
      },
      {
        "duration": 1106,
        "start_time": "2023-11-11T15:39:46.634Z"
      },
      {
        "duration": 174,
        "start_time": "2023-11-11T15:39:47.741Z"
      },
      {
        "duration": 11,
        "start_time": "2023-11-11T15:39:47.917Z"
      },
      {
        "duration": 21,
        "start_time": "2023-11-11T15:39:47.930Z"
      },
      {
        "duration": 3,
        "start_time": "2023-11-11T15:39:47.952Z"
      },
      {
        "duration": 16,
        "start_time": "2023-11-11T15:39:47.956Z"
      },
      {
        "duration": 108,
        "start_time": "2023-11-11T15:39:47.974Z"
      },
      {
        "duration": 106,
        "start_time": "2023-11-11T15:39:48.084Z"
      },
      {
        "duration": 113,
        "start_time": "2023-11-11T15:39:48.192Z"
      },
      {
        "duration": 53,
        "start_time": "2023-11-11T15:39:48.307Z"
      },
      {
        "duration": 80,
        "start_time": "2023-11-11T15:39:48.362Z"
      },
      {
        "duration": 17,
        "start_time": "2023-11-11T15:39:48.444Z"
      },
      {
        "duration": 50,
        "start_time": "2023-11-11T15:39:48.463Z"
      },
      {
        "duration": 10,
        "start_time": "2023-11-11T15:39:48.514Z"
      },
      {
        "duration": 18,
        "start_time": "2023-11-11T15:39:48.526Z"
      },
      {
        "duration": 32,
        "start_time": "2023-11-11T15:39:48.545Z"
      },
      {
        "duration": 264,
        "start_time": "2023-11-11T15:39:48.599Z"
      },
      {
        "duration": 41,
        "start_time": "2023-11-11T15:39:48.865Z"
      },
      {
        "duration": 14,
        "start_time": "2023-11-11T15:39:48.907Z"
      },
      {
        "duration": 9,
        "start_time": "2023-11-11T15:39:48.923Z"
      },
      {
        "duration": 11,
        "start_time": "2023-11-11T15:39:48.933Z"
      },
      {
        "duration": 26,
        "start_time": "2023-11-11T15:39:48.945Z"
      },
      {
        "duration": 157,
        "start_time": "2023-11-11T15:39:48.972Z"
      },
      {
        "duration": 59,
        "start_time": "2023-11-11T15:39:49.131Z"
      },
      {
        "duration": 5,
        "start_time": "2023-11-11T15:39:49.199Z"
      },
      {
        "duration": 7,
        "start_time": "2023-11-11T15:39:49.205Z"
      },
      {
        "duration": 59,
        "start_time": "2023-11-11T15:39:49.213Z"
      },
      {
        "duration": 31,
        "start_time": "2023-11-11T15:53:43.806Z"
      },
      {
        "duration": 1257,
        "start_time": "2023-11-11T15:55:03.704Z"
      },
      {
        "duration": 1102,
        "start_time": "2023-11-11T15:55:50.299Z"
      },
      {
        "duration": 1274,
        "start_time": "2023-11-11T16:00:00.303Z"
      },
      {
        "duration": 10,
        "start_time": "2023-11-11T16:00:47.434Z"
      },
      {
        "duration": 8,
        "start_time": "2023-11-11T16:02:32.285Z"
      },
      {
        "duration": 26,
        "start_time": "2023-11-11T16:03:07.807Z"
      },
      {
        "duration": 33,
        "start_time": "2023-11-11T16:04:24.809Z"
      },
      {
        "duration": 51,
        "start_time": "2023-11-11T16:10:17.397Z"
      },
      {
        "duration": 3,
        "start_time": "2023-11-11T16:10:50.392Z"
      },
      {
        "duration": 307,
        "start_time": "2023-11-11T16:11:21.330Z"
      },
      {
        "duration": 566,
        "start_time": "2023-11-11T16:17:59.190Z"
      },
      {
        "duration": 610,
        "start_time": "2023-11-11T16:20:16.009Z"
      },
      {
        "duration": 330,
        "start_time": "2023-11-11T16:27:02.618Z"
      },
      {
        "duration": 323,
        "start_time": "2023-11-11T16:28:53.944Z"
      },
      {
        "duration": 361,
        "start_time": "2023-11-11T16:33:14.299Z"
      },
      {
        "duration": 350,
        "start_time": "2023-11-11T16:33:21.682Z"
      },
      {
        "duration": 382,
        "start_time": "2023-11-11T16:35:52.143Z"
      },
      {
        "duration": 342,
        "start_time": "2023-11-11T16:36:20.368Z"
      },
      {
        "duration": 588,
        "start_time": "2023-11-11T16:37:54.476Z"
      },
      {
        "duration": 529,
        "start_time": "2023-11-11T16:38:34.743Z"
      },
      {
        "duration": 545,
        "start_time": "2023-11-11T16:38:55.078Z"
      },
      {
        "duration": 537,
        "start_time": "2023-11-11T16:39:19.210Z"
      },
      {
        "duration": 529,
        "start_time": "2023-11-11T16:39:53.160Z"
      },
      {
        "duration": 665,
        "start_time": "2023-11-11T16:40:00.814Z"
      },
      {
        "duration": 570,
        "start_time": "2023-11-11T16:40:10.882Z"
      },
      {
        "duration": 3,
        "start_time": "2023-11-11T17:27:25.661Z"
      },
      {
        "duration": 1136,
        "start_time": "2023-11-11T17:27:38.461Z"
      },
      {
        "duration": 179,
        "start_time": "2023-11-11T17:27:39.599Z"
      },
      {
        "duration": 12,
        "start_time": "2023-11-11T17:27:39.779Z"
      },
      {
        "duration": 25,
        "start_time": "2023-11-11T17:27:39.793Z"
      },
      {
        "duration": 3,
        "start_time": "2023-11-11T17:27:39.820Z"
      },
      {
        "duration": 23,
        "start_time": "2023-11-11T17:27:39.824Z"
      },
      {
        "duration": 80,
        "start_time": "2023-11-11T17:27:39.848Z"
      },
      {
        "duration": 90,
        "start_time": "2023-11-11T17:27:39.929Z"
      },
      {
        "duration": 97,
        "start_time": "2023-11-11T17:27:40.020Z"
      },
      {
        "duration": 54,
        "start_time": "2023-11-11T17:27:40.119Z"
      },
      {
        "duration": 77,
        "start_time": "2023-11-11T17:27:40.175Z"
      },
      {
        "duration": 14,
        "start_time": "2023-11-11T17:27:40.253Z"
      },
      {
        "duration": 43,
        "start_time": "2023-11-11T17:27:40.268Z"
      },
      {
        "duration": 5,
        "start_time": "2023-11-11T17:27:40.312Z"
      },
      {
        "duration": 32,
        "start_time": "2023-11-11T17:27:40.319Z"
      },
      {
        "duration": 33,
        "start_time": "2023-11-11T17:27:40.352Z"
      },
      {
        "duration": 276,
        "start_time": "2023-11-11T17:27:40.386Z"
      },
      {
        "duration": 39,
        "start_time": "2023-11-11T17:27:40.664Z"
      },
      {
        "duration": 14,
        "start_time": "2023-11-11T17:27:40.704Z"
      },
      {
        "duration": 7,
        "start_time": "2023-11-11T17:27:40.719Z"
      },
      {
        "duration": 7,
        "start_time": "2023-11-11T17:27:40.727Z"
      },
      {
        "duration": 26,
        "start_time": "2023-11-11T17:27:40.735Z"
      },
      {
        "duration": 161,
        "start_time": "2023-11-11T17:27:40.762Z"
      },
      {
        "duration": 57,
        "start_time": "2023-11-11T17:27:40.925Z"
      },
      {
        "duration": 18,
        "start_time": "2023-11-11T17:27:40.983Z"
      },
      {
        "duration": 8,
        "start_time": "2023-11-11T17:27:41.003Z"
      },
      {
        "duration": 35,
        "start_time": "2023-11-11T17:27:41.013Z"
      },
      {
        "duration": 363,
        "start_time": "2023-11-11T17:32:52.071Z"
      },
      {
        "duration": 177,
        "start_time": "2023-11-11T17:35:27.618Z"
      },
      {
        "duration": 19,
        "start_time": "2023-11-11T17:35:52.376Z"
      },
      {
        "duration": 16,
        "start_time": "2023-11-11T17:36:01.855Z"
      },
      {
        "duration": 28,
        "start_time": "2023-11-11T17:36:41.015Z"
      },
      {
        "duration": 29,
        "start_time": "2023-11-11T17:36:49.166Z"
      },
      {
        "duration": 45,
        "start_time": "2023-11-11T17:39:08.364Z"
      },
      {
        "duration": 46,
        "start_time": "2023-11-11T17:40:23.433Z"
      },
      {
        "duration": 57,
        "start_time": "2023-11-11T17:41:21.830Z"
      },
      {
        "duration": 54,
        "start_time": "2023-11-11T17:43:20.514Z"
      },
      {
        "duration": 8,
        "start_time": "2023-11-11T17:46:43.705Z"
      },
      {
        "duration": 6,
        "start_time": "2023-11-11T17:48:42.822Z"
      },
      {
        "duration": 43,
        "start_time": "2023-11-11T17:49:13.017Z"
      },
      {
        "duration": 37,
        "start_time": "2023-11-11T17:50:53.740Z"
      },
      {
        "duration": 38,
        "start_time": "2023-11-11T17:51:04.719Z"
      },
      {
        "duration": 37,
        "start_time": "2023-11-11T17:51:10.731Z"
      },
      {
        "duration": 1206,
        "start_time": "2023-11-11T17:54:00.210Z"
      },
      {
        "duration": 187,
        "start_time": "2023-11-11T17:54:01.418Z"
      },
      {
        "duration": 17,
        "start_time": "2023-11-11T17:54:01.607Z"
      },
      {
        "duration": 38,
        "start_time": "2023-11-11T17:54:01.627Z"
      },
      {
        "duration": 10,
        "start_time": "2023-11-11T17:54:01.667Z"
      },
      {
        "duration": 47,
        "start_time": "2023-11-11T17:54:01.679Z"
      },
      {
        "duration": 113,
        "start_time": "2023-11-11T17:54:01.727Z"
      },
      {
        "duration": 170,
        "start_time": "2023-11-11T17:54:01.841Z"
      },
      {
        "duration": 98,
        "start_time": "2023-11-11T17:54:02.014Z"
      },
      {
        "duration": 63,
        "start_time": "2023-11-11T17:54:02.115Z"
      },
      {
        "duration": 95,
        "start_time": "2023-11-11T17:54:02.179Z"
      },
      {
        "duration": 24,
        "start_time": "2023-11-11T17:54:02.276Z"
      },
      {
        "duration": 36,
        "start_time": "2023-11-11T17:54:02.302Z"
      },
      {
        "duration": 62,
        "start_time": "2023-11-11T17:54:02.340Z"
      },
      {
        "duration": 47,
        "start_time": "2023-11-11T17:54:02.403Z"
      },
      {
        "duration": 44,
        "start_time": "2023-11-11T17:54:02.452Z"
      },
      {
        "duration": 293,
        "start_time": "2023-11-11T17:54:02.498Z"
      },
      {
        "duration": 44,
        "start_time": "2023-11-11T17:54:02.793Z"
      },
      {
        "duration": 44,
        "start_time": "2023-11-11T17:54:02.838Z"
      },
      {
        "duration": 31,
        "start_time": "2023-11-11T17:54:02.884Z"
      },
      {
        "duration": 26,
        "start_time": "2023-11-11T17:54:02.917Z"
      },
      {
        "duration": 28,
        "start_time": "2023-11-11T17:54:02.944Z"
      },
      {
        "duration": 163,
        "start_time": "2023-11-11T17:54:02.973Z"
      },
      {
        "duration": 64,
        "start_time": "2023-11-11T17:54:03.137Z"
      },
      {
        "duration": 9,
        "start_time": "2023-11-11T17:54:03.203Z"
      },
      {
        "duration": 40,
        "start_time": "2023-11-11T17:54:03.214Z"
      },
      {
        "duration": 61,
        "start_time": "2023-11-11T17:54:03.256Z"
      },
      {
        "duration": 6,
        "start_time": "2023-11-11T17:54:03.320Z"
      },
      {
        "duration": 89,
        "start_time": "2023-11-11T17:54:03.327Z"
      },
      {
        "duration": 40,
        "start_time": "2023-11-11T17:54:03.418Z"
      },
      {
        "duration": 62,
        "start_time": "2023-11-11T17:54:03.460Z"
      },
      {
        "duration": 43,
        "start_time": "2023-11-11T17:54:03.524Z"
      },
      {
        "duration": 6,
        "start_time": "2023-11-11T17:56:42.010Z"
      },
      {
        "duration": 43,
        "start_time": "2023-11-12T04:44:59.178Z"
      },
      {
        "duration": 1254,
        "start_time": "2023-11-12T04:45:09.410Z"
      },
      {
        "duration": 514,
        "start_time": "2023-11-12T04:45:10.666Z"
      },
      {
        "duration": 13,
        "start_time": "2023-11-12T04:45:11.181Z"
      },
      {
        "duration": 21,
        "start_time": "2023-11-12T04:45:11.197Z"
      },
      {
        "duration": 3,
        "start_time": "2023-11-12T04:45:11.219Z"
      },
      {
        "duration": 13,
        "start_time": "2023-11-12T04:45:11.224Z"
      },
      {
        "duration": 79,
        "start_time": "2023-11-12T04:45:11.238Z"
      },
      {
        "duration": 101,
        "start_time": "2023-11-12T04:45:11.318Z"
      },
      {
        "duration": 103,
        "start_time": "2023-11-12T04:45:11.420Z"
      },
      {
        "duration": 69,
        "start_time": "2023-11-12T04:45:11.526Z"
      },
      {
        "duration": 80,
        "start_time": "2023-11-12T04:45:11.597Z"
      },
      {
        "duration": 23,
        "start_time": "2023-11-12T04:45:11.679Z"
      },
      {
        "duration": 49,
        "start_time": "2023-11-12T04:45:11.703Z"
      },
      {
        "duration": 7,
        "start_time": "2023-11-12T04:45:11.753Z"
      },
      {
        "duration": 23,
        "start_time": "2023-11-12T04:45:11.763Z"
      },
      {
        "duration": 31,
        "start_time": "2023-11-12T04:45:11.787Z"
      },
      {
        "duration": 295,
        "start_time": "2023-11-12T04:45:11.819Z"
      },
      {
        "duration": 42,
        "start_time": "2023-11-12T04:45:12.115Z"
      },
      {
        "duration": 23,
        "start_time": "2023-11-12T04:45:12.159Z"
      },
      {
        "duration": 7,
        "start_time": "2023-11-12T04:45:12.184Z"
      },
      {
        "duration": 9,
        "start_time": "2023-11-12T04:45:12.193Z"
      },
      {
        "duration": 25,
        "start_time": "2023-11-12T04:45:12.204Z"
      },
      {
        "duration": 207,
        "start_time": "2023-11-12T04:45:12.255Z"
      },
      {
        "duration": 58,
        "start_time": "2023-11-12T04:45:12.464Z"
      },
      {
        "duration": 5,
        "start_time": "2023-11-12T04:45:12.524Z"
      },
      {
        "duration": 4,
        "start_time": "2023-11-12T04:45:12.530Z"
      },
      {
        "duration": 41,
        "start_time": "2023-11-12T04:45:12.553Z"
      },
      {
        "duration": 5,
        "start_time": "2023-11-12T04:45:12.597Z"
      },
      {
        "duration": 79,
        "start_time": "2023-11-12T04:45:12.604Z"
      },
      {
        "duration": 125,
        "start_time": "2023-11-12T04:45:12.685Z"
      },
      {
        "duration": 0,
        "start_time": "2023-11-12T04:45:12.812Z"
      },
      {
        "duration": 0,
        "start_time": "2023-11-12T04:45:12.813Z"
      },
      {
        "duration": 37,
        "start_time": "2023-11-12T04:45:23.470Z"
      },
      {
        "duration": 53,
        "start_time": "2023-11-12T04:45:32.853Z"
      },
      {
        "duration": 58,
        "start_time": "2023-11-12T04:45:45.677Z"
      },
      {
        "duration": 5,
        "start_time": "2023-11-12T04:48:56.938Z"
      },
      {
        "duration": 50,
        "start_time": "2023-11-12T04:48:59.774Z"
      },
      {
        "duration": 52,
        "start_time": "2023-11-12T04:49:05.147Z"
      },
      {
        "duration": 35,
        "start_time": "2023-11-12T04:49:07.755Z"
      },
      {
        "duration": 42,
        "start_time": "2023-11-12T04:49:09.797Z"
      },
      {
        "duration": 60,
        "start_time": "2023-11-12T04:53:01.613Z"
      },
      {
        "duration": 64,
        "start_time": "2023-11-12T04:53:03.713Z"
      },
      {
        "duration": 54,
        "start_time": "2023-11-12T04:53:05.999Z"
      },
      {
        "duration": 45,
        "start_time": "2023-11-12T04:53:08.186Z"
      },
      {
        "duration": 48,
        "start_time": "2023-11-12T04:53:09.985Z"
      },
      {
        "duration": 42,
        "start_time": "2023-11-12T04:53:11.893Z"
      },
      {
        "duration": 45,
        "start_time": "2023-11-12T04:53:13.686Z"
      },
      {
        "duration": 53,
        "start_time": "2023-11-12T04:57:58.231Z"
      },
      {
        "duration": 1076,
        "start_time": "2023-11-12T04:58:07.588Z"
      },
      {
        "duration": 166,
        "start_time": "2023-11-12T04:58:08.666Z"
      },
      {
        "duration": 11,
        "start_time": "2023-11-12T04:58:08.834Z"
      },
      {
        "duration": 22,
        "start_time": "2023-11-12T04:58:08.852Z"
      },
      {
        "duration": 3,
        "start_time": "2023-11-12T04:58:08.875Z"
      },
      {
        "duration": 15,
        "start_time": "2023-11-12T04:58:08.880Z"
      },
      {
        "duration": 89,
        "start_time": "2023-11-12T04:58:08.897Z"
      },
      {
        "duration": 85,
        "start_time": "2023-11-12T04:58:08.987Z"
      },
      {
        "duration": 98,
        "start_time": "2023-11-12T04:58:09.074Z"
      },
      {
        "duration": 48,
        "start_time": "2023-11-12T04:58:09.174Z"
      },
      {
        "duration": 70,
        "start_time": "2023-11-12T04:58:09.223Z"
      },
      {
        "duration": 12,
        "start_time": "2023-11-12T04:58:09.295Z"
      },
      {
        "duration": 23,
        "start_time": "2023-11-12T04:58:09.308Z"
      },
      {
        "duration": 24,
        "start_time": "2023-11-12T04:58:09.332Z"
      },
      {
        "duration": 17,
        "start_time": "2023-11-12T04:58:09.357Z"
      },
      {
        "duration": 38,
        "start_time": "2023-11-12T04:58:09.375Z"
      },
      {
        "duration": 284,
        "start_time": "2023-11-12T04:58:09.415Z"
      },
      {
        "duration": 35,
        "start_time": "2023-11-12T04:58:09.703Z"
      },
      {
        "duration": 33,
        "start_time": "2023-11-12T04:58:09.739Z"
      },
      {
        "duration": 48,
        "start_time": "2023-11-12T04:58:09.774Z"
      },
      {
        "duration": 6,
        "start_time": "2023-11-12T04:58:09.824Z"
      },
      {
        "duration": 29,
        "start_time": "2023-11-12T04:58:09.831Z"
      },
      {
        "duration": 139,
        "start_time": "2023-11-12T04:58:09.862Z"
      },
      {
        "duration": 67,
        "start_time": "2023-11-12T04:58:10.003Z"
      },
      {
        "duration": 5,
        "start_time": "2023-11-12T04:58:10.072Z"
      },
      {
        "duration": 29,
        "start_time": "2023-11-12T04:58:10.078Z"
      },
      {
        "duration": 38,
        "start_time": "2023-11-12T04:58:10.108Z"
      },
      {
        "duration": 5,
        "start_time": "2023-11-12T04:58:10.149Z"
      },
      {
        "duration": 46,
        "start_time": "2023-11-12T04:58:10.156Z"
      },
      {
        "duration": 37,
        "start_time": "2023-11-12T04:58:10.203Z"
      },
      {
        "duration": 40,
        "start_time": "2023-11-12T04:58:10.252Z"
      },
      {
        "duration": 57,
        "start_time": "2023-11-12T04:58:10.294Z"
      },
      {
        "duration": 42,
        "start_time": "2023-11-12T04:58:10.353Z"
      },
      {
        "duration": 56,
        "start_time": "2023-11-12T04:58:10.396Z"
      },
      {
        "duration": 38,
        "start_time": "2023-11-12T04:58:10.453Z"
      },
      {
        "duration": 39,
        "start_time": "2023-11-12T04:58:10.493Z"
      },
      {
        "duration": 42,
        "start_time": "2023-11-12T04:58:10.551Z"
      },
      {
        "duration": 39,
        "start_time": "2023-11-12T04:58:10.595Z"
      },
      {
        "duration": 37,
        "start_time": "2023-11-12T04:58:10.652Z"
      },
      {
        "duration": 36,
        "start_time": "2023-11-12T04:58:10.691Z"
      },
      {
        "duration": 8,
        "start_time": "2023-11-12T05:13:16.190Z"
      },
      {
        "duration": 46,
        "start_time": "2023-11-12T05:13:42.354Z"
      },
      {
        "duration": 46,
        "start_time": "2023-11-12T05:13:44.419Z"
      },
      {
        "duration": 54,
        "start_time": "2023-11-12T05:13:45.902Z"
      },
      {
        "duration": 55,
        "start_time": "2023-11-12T05:13:48.128Z"
      },
      {
        "duration": 42,
        "start_time": "2023-11-12T05:14:01.970Z"
      },
      {
        "duration": 39,
        "start_time": "2023-11-12T05:14:16.706Z"
      },
      {
        "duration": 43,
        "start_time": "2023-11-12T05:14:31.606Z"
      },
      {
        "duration": 1222,
        "start_time": "2023-11-12T05:14:59.936Z"
      },
      {
        "duration": 181,
        "start_time": "2023-11-12T05:15:01.160Z"
      },
      {
        "duration": 14,
        "start_time": "2023-11-12T05:15:01.342Z"
      },
      {
        "duration": 36,
        "start_time": "2023-11-12T05:15:01.358Z"
      },
      {
        "duration": 18,
        "start_time": "2023-11-12T05:15:01.395Z"
      },
      {
        "duration": 97,
        "start_time": "2023-11-12T05:15:01.414Z"
      },
      {
        "duration": 82,
        "start_time": "2023-11-12T05:15:01.513Z"
      },
      {
        "duration": 79,
        "start_time": "2023-11-12T05:15:01.596Z"
      },
      {
        "duration": 94,
        "start_time": "2023-11-12T05:15:01.677Z"
      },
      {
        "duration": 52,
        "start_time": "2023-11-12T05:15:01.773Z"
      },
      {
        "duration": 71,
        "start_time": "2023-11-12T05:15:01.826Z"
      },
      {
        "duration": 14,
        "start_time": "2023-11-12T05:15:01.898Z"
      },
      {
        "duration": 94,
        "start_time": "2023-11-12T05:15:01.914Z"
      },
      {
        "duration": 52,
        "start_time": "2023-11-12T05:15:02.010Z"
      },
      {
        "duration": 30,
        "start_time": "2023-11-12T05:15:02.063Z"
      },
      {
        "duration": 35,
        "start_time": "2023-11-12T05:15:02.094Z"
      },
      {
        "duration": 270,
        "start_time": "2023-11-12T05:15:02.130Z"
      },
      {
        "duration": 31,
        "start_time": "2023-11-12T05:15:02.401Z"
      },
      {
        "duration": 224,
        "start_time": "2023-11-12T05:15:02.433Z"
      },
      {
        "duration": 177,
        "start_time": "2023-11-12T05:15:02.658Z"
      },
      {
        "duration": 49,
        "start_time": "2023-11-12T05:15:02.836Z"
      },
      {
        "duration": 50,
        "start_time": "2023-11-12T05:15:02.887Z"
      },
      {
        "duration": 156,
        "start_time": "2023-11-12T05:15:02.939Z"
      },
      {
        "duration": 61,
        "start_time": "2023-11-12T05:15:03.097Z"
      },
      {
        "duration": 5,
        "start_time": "2023-11-12T05:15:03.159Z"
      },
      {
        "duration": 15,
        "start_time": "2023-11-12T05:15:03.165Z"
      },
      {
        "duration": 36,
        "start_time": "2023-11-12T05:15:03.181Z"
      },
      {
        "duration": 5,
        "start_time": "2023-11-12T05:15:03.220Z"
      },
      {
        "duration": 66,
        "start_time": "2023-11-12T05:15:03.226Z"
      },
      {
        "duration": 34,
        "start_time": "2023-11-12T05:15:03.294Z"
      },
      {
        "duration": 48,
        "start_time": "2023-11-12T05:15:03.329Z"
      },
      {
        "duration": 37,
        "start_time": "2023-11-12T05:15:03.378Z"
      },
      {
        "duration": 61,
        "start_time": "2023-11-12T05:15:03.417Z"
      },
      {
        "duration": 35,
        "start_time": "2023-11-12T05:15:03.480Z"
      },
      {
        "duration": 55,
        "start_time": "2023-11-12T05:15:03.517Z"
      },
      {
        "duration": 37,
        "start_time": "2023-11-12T05:15:03.573Z"
      },
      {
        "duration": 57,
        "start_time": "2023-11-12T05:15:03.611Z"
      },
      {
        "duration": 36,
        "start_time": "2023-11-12T05:15:03.669Z"
      },
      {
        "duration": 52,
        "start_time": "2023-11-12T05:15:03.707Z"
      },
      {
        "duration": 38,
        "start_time": "2023-11-12T05:15:03.760Z"
      },
      {
        "duration": 5,
        "start_time": "2023-11-12T05:15:03.799Z"
      },
      {
        "duration": 66,
        "start_time": "2023-11-12T05:15:03.806Z"
      },
      {
        "duration": 37,
        "start_time": "2023-11-12T05:15:03.874Z"
      },
      {
        "duration": 60,
        "start_time": "2023-11-12T05:15:03.912Z"
      },
      {
        "duration": 37,
        "start_time": "2023-11-12T05:15:03.974Z"
      },
      {
        "duration": 1318,
        "start_time": "2023-11-12T06:07:16.712Z"
      },
      {
        "duration": 197,
        "start_time": "2023-11-12T06:07:18.033Z"
      },
      {
        "duration": 20,
        "start_time": "2023-11-12T06:07:18.232Z"
      },
      {
        "duration": 38,
        "start_time": "2023-11-12T06:07:18.255Z"
      },
      {
        "duration": 3,
        "start_time": "2023-11-12T06:07:18.295Z"
      },
      {
        "duration": 29,
        "start_time": "2023-11-12T06:07:18.300Z"
      },
      {
        "duration": 87,
        "start_time": "2023-11-12T06:07:18.330Z"
      },
      {
        "duration": 110,
        "start_time": "2023-11-12T06:07:18.420Z"
      },
      {
        "duration": 146,
        "start_time": "2023-11-12T06:07:18.532Z"
      },
      {
        "duration": 55,
        "start_time": "2023-11-12T06:07:18.681Z"
      },
      {
        "duration": 91,
        "start_time": "2023-11-12T06:07:18.737Z"
      },
      {
        "duration": 40,
        "start_time": "2023-11-12T06:07:18.829Z"
      },
      {
        "duration": 43,
        "start_time": "2023-11-12T06:07:18.871Z"
      },
      {
        "duration": 9,
        "start_time": "2023-11-12T06:07:18.916Z"
      },
      {
        "duration": 45,
        "start_time": "2023-11-12T06:07:18.926Z"
      },
      {
        "duration": 34,
        "start_time": "2023-11-12T06:07:18.976Z"
      },
      {
        "duration": 298,
        "start_time": "2023-11-12T06:07:19.012Z"
      },
      {
        "duration": 64,
        "start_time": "2023-11-12T06:07:19.312Z"
      },
      {
        "duration": 20,
        "start_time": "2023-11-12T06:07:19.378Z"
      },
      {
        "duration": 13,
        "start_time": "2023-11-12T06:07:19.400Z"
      },
      {
        "duration": 9,
        "start_time": "2023-11-12T06:07:19.415Z"
      },
      {
        "duration": 40,
        "start_time": "2023-11-12T06:07:19.425Z"
      },
      {
        "duration": 164,
        "start_time": "2023-11-12T06:07:19.469Z"
      },
      {
        "duration": 75,
        "start_time": "2023-11-12T06:07:19.634Z"
      },
      {
        "duration": 6,
        "start_time": "2023-11-12T06:07:19.711Z"
      },
      {
        "duration": 6,
        "start_time": "2023-11-12T06:07:19.719Z"
      },
      {
        "duration": 60,
        "start_time": "2023-11-12T06:07:19.727Z"
      },
      {
        "duration": 6,
        "start_time": "2023-11-12T06:07:19.790Z"
      },
      {
        "duration": 75,
        "start_time": "2023-11-12T06:07:19.798Z"
      },
      {
        "duration": 39,
        "start_time": "2023-11-12T06:07:19.875Z"
      },
      {
        "duration": 55,
        "start_time": "2023-11-12T06:07:19.916Z"
      },
      {
        "duration": 54,
        "start_time": "2023-11-12T06:07:19.973Z"
      },
      {
        "duration": 74,
        "start_time": "2023-11-12T06:07:20.030Z"
      },
      {
        "duration": 67,
        "start_time": "2023-11-12T06:07:20.106Z"
      },
      {
        "duration": 46,
        "start_time": "2023-11-12T06:07:20.175Z"
      },
      {
        "duration": 53,
        "start_time": "2023-11-12T06:07:20.223Z"
      },
      {
        "duration": 52,
        "start_time": "2023-11-12T06:07:20.277Z"
      },
      {
        "duration": 68,
        "start_time": "2023-11-12T06:07:20.330Z"
      },
      {
        "duration": 40,
        "start_time": "2023-11-12T06:07:20.400Z"
      },
      {
        "duration": 56,
        "start_time": "2023-11-12T06:07:20.461Z"
      },
      {
        "duration": 7,
        "start_time": "2023-11-12T06:07:20.519Z"
      },
      {
        "duration": 85,
        "start_time": "2023-11-12T06:07:20.528Z"
      },
      {
        "duration": 63,
        "start_time": "2023-11-12T06:07:20.615Z"
      },
      {
        "duration": 40,
        "start_time": "2023-11-12T06:07:20.680Z"
      },
      {
        "duration": 68,
        "start_time": "2023-11-12T06:07:20.721Z"
      },
      {
        "duration": 1192,
        "start_time": "2023-11-12T06:36:18.326Z"
      },
      {
        "duration": 191,
        "start_time": "2023-11-12T06:36:19.519Z"
      },
      {
        "duration": 10,
        "start_time": "2023-11-12T06:36:19.712Z"
      },
      {
        "duration": 40,
        "start_time": "2023-11-12T06:36:19.724Z"
      },
      {
        "duration": 4,
        "start_time": "2023-11-12T06:36:19.766Z"
      },
      {
        "duration": 14,
        "start_time": "2023-11-12T06:36:19.772Z"
      },
      {
        "duration": 83,
        "start_time": "2023-11-12T06:36:19.788Z"
      },
      {
        "duration": 90,
        "start_time": "2023-11-12T06:36:19.872Z"
      },
      {
        "duration": 99,
        "start_time": "2023-11-12T06:36:19.963Z"
      },
      {
        "duration": 52,
        "start_time": "2023-11-12T06:36:20.066Z"
      },
      {
        "duration": 79,
        "start_time": "2023-11-12T06:36:20.120Z"
      },
      {
        "duration": 13,
        "start_time": "2023-11-12T06:36:20.201Z"
      },
      {
        "duration": 40,
        "start_time": "2023-11-12T06:36:20.215Z"
      },
      {
        "duration": 8,
        "start_time": "2023-11-12T06:36:20.257Z"
      },
      {
        "duration": 19,
        "start_time": "2023-11-12T06:36:20.267Z"
      },
      {
        "duration": 32,
        "start_time": "2023-11-12T06:36:20.287Z"
      },
      {
        "duration": 302,
        "start_time": "2023-11-12T06:36:20.320Z"
      },
      {
        "duration": 40,
        "start_time": "2023-11-12T06:36:20.624Z"
      },
      {
        "duration": 14,
        "start_time": "2023-11-12T06:36:20.666Z"
      },
      {
        "duration": 12,
        "start_time": "2023-11-12T06:36:20.681Z"
      },
      {
        "duration": 5,
        "start_time": "2023-11-12T06:36:20.695Z"
      },
      {
        "duration": 33,
        "start_time": "2023-11-12T06:36:20.702Z"
      },
      {
        "duration": 161,
        "start_time": "2023-11-12T06:36:20.754Z"
      },
      {
        "duration": 77,
        "start_time": "2023-11-12T06:36:20.917Z"
      },
      {
        "duration": 6,
        "start_time": "2023-11-12T06:36:20.996Z"
      },
      {
        "duration": 38,
        "start_time": "2023-11-12T06:36:21.004Z"
      },
      {
        "duration": 71,
        "start_time": "2023-11-12T06:36:21.044Z"
      },
      {
        "duration": 6,
        "start_time": "2023-11-12T06:36:21.119Z"
      },
      {
        "duration": 63,
        "start_time": "2023-11-12T06:36:21.126Z"
      },
      {
        "duration": 45,
        "start_time": "2023-11-12T06:36:21.191Z"
      },
      {
        "duration": 45,
        "start_time": "2023-11-12T06:36:21.238Z"
      },
      {
        "duration": 36,
        "start_time": "2023-11-12T06:36:21.285Z"
      },
      {
        "duration": 75,
        "start_time": "2023-11-12T06:36:21.323Z"
      },
      {
        "duration": 38,
        "start_time": "2023-11-12T06:36:21.399Z"
      },
      {
        "duration": 56,
        "start_time": "2023-11-12T06:36:21.438Z"
      },
      {
        "duration": 39,
        "start_time": "2023-11-12T06:36:21.496Z"
      },
      {
        "duration": 71,
        "start_time": "2023-11-12T06:36:21.537Z"
      },
      {
        "duration": 56,
        "start_time": "2023-11-12T06:36:21.610Z"
      },
      {
        "duration": 40,
        "start_time": "2023-11-12T06:36:21.668Z"
      },
      {
        "duration": 59,
        "start_time": "2023-11-12T06:36:21.710Z"
      },
      {
        "duration": 9,
        "start_time": "2023-11-12T06:36:21.771Z"
      },
      {
        "duration": 52,
        "start_time": "2023-11-12T06:36:21.782Z"
      },
      {
        "duration": 71,
        "start_time": "2023-11-12T06:36:21.836Z"
      },
      {
        "duration": 63,
        "start_time": "2023-11-12T06:36:21.909Z"
      },
      {
        "duration": 49,
        "start_time": "2023-11-12T06:36:21.974Z"
      },
      {
        "duration": 1249,
        "start_time": "2023-11-12T09:05:01.398Z"
      },
      {
        "duration": 164,
        "start_time": "2023-11-12T09:05:02.649Z"
      },
      {
        "duration": 12,
        "start_time": "2023-11-12T09:05:02.815Z"
      },
      {
        "duration": 34,
        "start_time": "2023-11-12T09:05:02.829Z"
      },
      {
        "duration": 2,
        "start_time": "2023-11-12T09:05:02.865Z"
      },
      {
        "duration": 12,
        "start_time": "2023-11-12T09:05:02.869Z"
      },
      {
        "duration": 78,
        "start_time": "2023-11-12T09:05:02.882Z"
      },
      {
        "duration": 82,
        "start_time": "2023-11-12T09:05:02.962Z"
      },
      {
        "duration": 86,
        "start_time": "2023-11-12T09:05:03.045Z"
      },
      {
        "duration": 61,
        "start_time": "2023-11-12T09:05:03.134Z"
      },
      {
        "duration": 73,
        "start_time": "2023-11-12T09:05:03.197Z"
      },
      {
        "duration": 16,
        "start_time": "2023-11-12T09:05:03.271Z"
      },
      {
        "duration": 30,
        "start_time": "2023-11-12T09:05:03.288Z"
      },
      {
        "duration": 9,
        "start_time": "2023-11-12T09:05:03.319Z"
      },
      {
        "duration": 34,
        "start_time": "2023-11-12T09:05:03.329Z"
      },
      {
        "duration": 33,
        "start_time": "2023-11-12T09:05:03.364Z"
      },
      {
        "duration": 270,
        "start_time": "2023-11-12T09:05:03.399Z"
      },
      {
        "duration": 30,
        "start_time": "2023-11-12T09:05:03.671Z"
      },
      {
        "duration": 19,
        "start_time": "2023-11-12T09:05:03.703Z"
      },
      {
        "duration": 6,
        "start_time": "2023-11-12T09:05:03.724Z"
      },
      {
        "duration": 24,
        "start_time": "2023-11-12T09:05:03.732Z"
      },
      {
        "duration": 32,
        "start_time": "2023-11-12T09:05:03.758Z"
      },
      {
        "duration": 151,
        "start_time": "2023-11-12T09:05:03.792Z"
      },
      {
        "duration": 59,
        "start_time": "2023-11-12T09:05:03.945Z"
      },
      {
        "duration": 7,
        "start_time": "2023-11-12T09:05:04.006Z"
      },
      {
        "duration": 38,
        "start_time": "2023-11-12T09:05:04.015Z"
      },
      {
        "duration": 43,
        "start_time": "2023-11-12T09:05:04.055Z"
      },
      {
        "duration": 6,
        "start_time": "2023-11-12T09:05:04.101Z"
      },
      {
        "duration": 86,
        "start_time": "2023-11-12T09:05:04.108Z"
      },
      {
        "duration": 33,
        "start_time": "2023-11-12T09:05:04.195Z"
      },
      {
        "duration": 60,
        "start_time": "2023-11-12T09:05:04.230Z"
      },
      {
        "duration": 34,
        "start_time": "2023-11-12T09:05:04.291Z"
      },
      {
        "duration": 55,
        "start_time": "2023-11-12T09:05:04.327Z"
      },
      {
        "duration": 33,
        "start_time": "2023-11-12T09:05:04.383Z"
      },
      {
        "duration": 50,
        "start_time": "2023-11-12T09:05:04.418Z"
      },
      {
        "duration": 32,
        "start_time": "2023-11-12T09:05:04.470Z"
      },
      {
        "duration": 57,
        "start_time": "2023-11-12T09:05:04.503Z"
      },
      {
        "duration": 34,
        "start_time": "2023-11-12T09:05:04.561Z"
      },
      {
        "duration": 55,
        "start_time": "2023-11-12T09:05:04.597Z"
      },
      {
        "duration": 34,
        "start_time": "2023-11-12T09:05:04.653Z"
      },
      {
        "duration": 5,
        "start_time": "2023-11-12T09:05:04.688Z"
      },
      {
        "duration": 62,
        "start_time": "2023-11-12T09:05:04.695Z"
      },
      {
        "duration": 35,
        "start_time": "2023-11-12T09:05:04.759Z"
      },
      {
        "duration": 58,
        "start_time": "2023-11-12T09:05:04.796Z"
      },
      {
        "duration": 35,
        "start_time": "2023-11-12T09:05:04.856Z"
      },
      {
        "duration": 1121,
        "start_time": "2023-11-12T14:12:06.968Z"
      },
      {
        "duration": 484,
        "start_time": "2023-11-12T14:12:08.090Z"
      },
      {
        "duration": 11,
        "start_time": "2023-11-12T14:12:08.576Z"
      },
      {
        "duration": 23,
        "start_time": "2023-11-12T14:12:08.589Z"
      },
      {
        "duration": 2,
        "start_time": "2023-11-12T14:12:08.614Z"
      },
      {
        "duration": 12,
        "start_time": "2023-11-12T14:12:08.618Z"
      },
      {
        "duration": 68,
        "start_time": "2023-11-12T14:12:08.631Z"
      },
      {
        "duration": 85,
        "start_time": "2023-11-12T14:12:08.700Z"
      },
      {
        "duration": 92,
        "start_time": "2023-11-12T14:12:08.786Z"
      },
      {
        "duration": 51,
        "start_time": "2023-11-12T14:12:08.879Z"
      },
      {
        "duration": 69,
        "start_time": "2023-11-12T14:12:08.931Z"
      },
      {
        "duration": 14,
        "start_time": "2023-11-12T14:12:09.001Z"
      },
      {
        "duration": 38,
        "start_time": "2023-11-12T14:12:09.016Z"
      },
      {
        "duration": 5,
        "start_time": "2023-11-12T14:12:09.057Z"
      },
      {
        "duration": 18,
        "start_time": "2023-11-12T14:12:09.063Z"
      },
      {
        "duration": 30,
        "start_time": "2023-11-12T14:12:09.082Z"
      },
      {
        "duration": 273,
        "start_time": "2023-11-12T14:12:09.113Z"
      },
      {
        "duration": 31,
        "start_time": "2023-11-12T14:12:09.388Z"
      },
      {
        "duration": 13,
        "start_time": "2023-11-12T14:12:09.420Z"
      },
      {
        "duration": 6,
        "start_time": "2023-11-12T14:12:09.452Z"
      },
      {
        "duration": 6,
        "start_time": "2023-11-12T14:12:09.459Z"
      },
      {
        "duration": 24,
        "start_time": "2023-11-12T14:12:09.467Z"
      },
      {
        "duration": 152,
        "start_time": "2023-11-12T14:12:09.493Z"
      },
      {
        "duration": 56,
        "start_time": "2023-11-12T14:12:09.647Z"
      },
      {
        "duration": 5,
        "start_time": "2023-11-12T14:12:09.704Z"
      },
      {
        "duration": 4,
        "start_time": "2023-11-12T14:12:09.711Z"
      },
      {
        "duration": 54,
        "start_time": "2023-11-12T14:12:09.716Z"
      },
      {
        "duration": 5,
        "start_time": "2023-11-12T14:12:09.772Z"
      },
      {
        "duration": 49,
        "start_time": "2023-11-12T14:12:09.779Z"
      },
      {
        "duration": 61,
        "start_time": "2023-11-12T14:12:09.829Z"
      },
      {
        "duration": 34,
        "start_time": "2023-11-12T14:12:09.891Z"
      },
      {
        "duration": 50,
        "start_time": "2023-11-12T14:12:09.926Z"
      },
      {
        "duration": 42,
        "start_time": "2023-11-12T14:12:09.977Z"
      },
      {
        "duration": 56,
        "start_time": "2023-11-12T14:12:10.020Z"
      },
      {
        "duration": 36,
        "start_time": "2023-11-12T14:12:10.078Z"
      },
      {
        "duration": 58,
        "start_time": "2023-11-12T14:12:10.116Z"
      },
      {
        "duration": 46,
        "start_time": "2023-11-12T14:12:10.175Z"
      },
      {
        "duration": 52,
        "start_time": "2023-11-12T14:12:10.222Z"
      },
      {
        "duration": 35,
        "start_time": "2023-11-12T14:12:10.276Z"
      },
      {
        "duration": 53,
        "start_time": "2023-11-12T14:12:10.313Z"
      },
      {
        "duration": 5,
        "start_time": "2023-11-12T14:12:10.369Z"
      },
      {
        "duration": 54,
        "start_time": "2023-11-12T14:12:10.376Z"
      },
      {
        "duration": 52,
        "start_time": "2023-11-12T14:12:10.432Z"
      },
      {
        "duration": 37,
        "start_time": "2023-11-12T14:12:10.486Z"
      },
      {
        "duration": 56,
        "start_time": "2023-11-12T14:12:10.524Z"
      },
      {
        "duration": 29,
        "start_time": "2023-11-12T14:17:17.703Z"
      },
      {
        "duration": 59,
        "start_time": "2023-11-12T14:28:29.211Z"
      },
      {
        "duration": 1231,
        "start_time": "2023-11-12T14:34:38.572Z"
      },
      {
        "duration": 185,
        "start_time": "2023-11-12T14:34:39.805Z"
      },
      {
        "duration": 11,
        "start_time": "2023-11-12T14:34:39.992Z"
      },
      {
        "duration": 32,
        "start_time": "2023-11-12T14:34:40.004Z"
      },
      {
        "duration": 2,
        "start_time": "2023-11-12T14:34:40.038Z"
      },
      {
        "duration": 21,
        "start_time": "2023-11-12T14:34:40.042Z"
      },
      {
        "duration": 68,
        "start_time": "2023-11-12T14:34:40.065Z"
      },
      {
        "duration": 93,
        "start_time": "2023-11-12T14:34:40.134Z"
      },
      {
        "duration": 101,
        "start_time": "2023-11-12T14:34:40.229Z"
      },
      {
        "duration": 62,
        "start_time": "2023-11-12T14:34:40.332Z"
      },
      {
        "duration": 62,
        "start_time": "2023-11-12T14:34:40.396Z"
      },
      {
        "duration": 18,
        "start_time": "2023-11-12T14:34:40.460Z"
      },
      {
        "duration": 24,
        "start_time": "2023-11-12T14:34:40.480Z"
      },
      {
        "duration": 7,
        "start_time": "2023-11-12T14:34:40.505Z"
      },
      {
        "duration": 40,
        "start_time": "2023-11-12T14:34:40.514Z"
      },
      {
        "duration": 38,
        "start_time": "2023-11-12T14:34:40.556Z"
      },
      {
        "duration": 289,
        "start_time": "2023-11-12T14:34:40.595Z"
      },
      {
        "duration": 29,
        "start_time": "2023-11-12T14:34:40.885Z"
      },
      {
        "duration": 13,
        "start_time": "2023-11-12T14:34:40.915Z"
      },
      {
        "duration": 8,
        "start_time": "2023-11-12T14:34:40.930Z"
      },
      {
        "duration": 22,
        "start_time": "2023-11-12T14:34:40.940Z"
      },
      {
        "duration": 73,
        "start_time": "2023-11-12T14:34:40.963Z"
      },
      {
        "duration": 161,
        "start_time": "2023-11-12T14:34:41.037Z"
      },
      {
        "duration": 57,
        "start_time": "2023-11-12T14:34:41.200Z"
      },
      {
        "duration": 9,
        "start_time": "2023-11-12T14:34:41.258Z"
      },
      {
        "duration": 8,
        "start_time": "2023-11-12T14:34:41.268Z"
      },
      {
        "duration": 40,
        "start_time": "2023-11-12T14:34:41.277Z"
      },
      {
        "duration": 6,
        "start_time": "2023-11-12T14:34:41.321Z"
      },
      {
        "duration": 66,
        "start_time": "2023-11-12T14:34:41.328Z"
      },
      {
        "duration": 41,
        "start_time": "2023-11-12T14:34:41.395Z"
      },
      {
        "duration": 53,
        "start_time": "2023-11-12T14:34:41.437Z"
      },
      {
        "duration": 35,
        "start_time": "2023-11-12T14:34:41.491Z"
      },
      {
        "duration": 68,
        "start_time": "2023-11-12T14:34:41.527Z"
      },
      {
        "duration": 39,
        "start_time": "2023-11-12T14:34:41.597Z"
      },
      {
        "duration": 58,
        "start_time": "2023-11-12T14:34:41.637Z"
      },
      {
        "duration": 39,
        "start_time": "2023-11-12T14:34:41.697Z"
      },
      {
        "duration": 62,
        "start_time": "2023-11-12T14:34:41.738Z"
      },
      {
        "duration": 37,
        "start_time": "2023-11-12T14:34:41.802Z"
      },
      {
        "duration": 53,
        "start_time": "2023-11-12T14:34:41.841Z"
      },
      {
        "duration": 35,
        "start_time": "2023-11-12T14:34:41.895Z"
      },
      {
        "duration": 5,
        "start_time": "2023-11-12T14:34:41.931Z"
      },
      {
        "duration": 58,
        "start_time": "2023-11-12T14:34:41.953Z"
      },
      {
        "duration": 62,
        "start_time": "2023-11-12T14:34:42.013Z"
      },
      {
        "duration": 42,
        "start_time": "2023-11-12T14:34:42.077Z"
      },
      {
        "duration": 62,
        "start_time": "2023-11-12T14:34:42.121Z"
      },
      {
        "duration": 1120,
        "start_time": "2023-11-12T14:35:27.547Z"
      },
      {
        "duration": 170,
        "start_time": "2023-11-12T14:35:28.669Z"
      },
      {
        "duration": 21,
        "start_time": "2023-11-12T14:35:28.841Z"
      },
      {
        "duration": 23,
        "start_time": "2023-11-12T14:35:28.863Z"
      },
      {
        "duration": 2,
        "start_time": "2023-11-12T14:35:28.888Z"
      },
      {
        "duration": 14,
        "start_time": "2023-11-12T14:35:28.892Z"
      },
      {
        "duration": 89,
        "start_time": "2023-11-12T14:35:28.907Z"
      },
      {
        "duration": 81,
        "start_time": "2023-11-12T14:35:28.997Z"
      },
      {
        "duration": 96,
        "start_time": "2023-11-12T14:35:29.079Z"
      },
      {
        "duration": 48,
        "start_time": "2023-11-12T14:35:29.176Z"
      },
      {
        "duration": 77,
        "start_time": "2023-11-12T14:35:29.225Z"
      },
      {
        "duration": 12,
        "start_time": "2023-11-12T14:35:29.303Z"
      },
      {
        "duration": 38,
        "start_time": "2023-11-12T14:35:29.316Z"
      },
      {
        "duration": 7,
        "start_time": "2023-11-12T14:35:29.359Z"
      },
      {
        "duration": 28,
        "start_time": "2023-11-12T14:35:29.368Z"
      },
      {
        "duration": 31,
        "start_time": "2023-11-12T14:35:29.398Z"
      },
      {
        "duration": 295,
        "start_time": "2023-11-12T14:35:29.430Z"
      },
      {
        "duration": 40,
        "start_time": "2023-11-12T14:35:29.727Z"
      },
      {
        "duration": 12,
        "start_time": "2023-11-12T14:35:29.771Z"
      },
      {
        "duration": 12,
        "start_time": "2023-11-12T14:35:29.785Z"
      },
      {
        "duration": 6,
        "start_time": "2023-11-12T14:35:29.798Z"
      },
      {
        "duration": 23,
        "start_time": "2023-11-12T14:35:29.805Z"
      },
      {
        "duration": 165,
        "start_time": "2023-11-12T14:35:29.829Z"
      },
      {
        "duration": 60,
        "start_time": "2023-11-12T14:35:29.995Z"
      },
      {
        "duration": 10,
        "start_time": "2023-11-12T14:35:30.057Z"
      },
      {
        "duration": 16,
        "start_time": "2023-11-12T14:35:30.069Z"
      },
      {
        "duration": 76,
        "start_time": "2023-11-12T14:35:30.087Z"
      },
      {
        "duration": 6,
        "start_time": "2023-11-12T14:35:30.164Z"
      },
      {
        "duration": 76,
        "start_time": "2023-11-12T14:35:30.171Z"
      },
      {
        "duration": 43,
        "start_time": "2023-11-12T14:35:30.248Z"
      },
      {
        "duration": 38,
        "start_time": "2023-11-12T14:35:30.293Z"
      },
      {
        "duration": 54,
        "start_time": "2023-11-12T14:35:30.332Z"
      },
      {
        "duration": 41,
        "start_time": "2023-11-12T14:35:30.387Z"
      },
      {
        "duration": 61,
        "start_time": "2023-11-12T14:35:30.429Z"
      },
      {
        "duration": 39,
        "start_time": "2023-11-12T14:35:30.492Z"
      },
      {
        "duration": 55,
        "start_time": "2023-11-12T14:35:30.532Z"
      },
      {
        "duration": 45,
        "start_time": "2023-11-12T14:35:30.589Z"
      },
      {
        "duration": 65,
        "start_time": "2023-11-12T14:35:30.635Z"
      },
      {
        "duration": 50,
        "start_time": "2023-11-12T14:35:30.702Z"
      },
      {
        "duration": 39,
        "start_time": "2023-11-12T14:35:30.754Z"
      },
      {
        "duration": 6,
        "start_time": "2023-11-12T14:35:30.797Z"
      },
      {
        "duration": 104,
        "start_time": "2023-11-12T14:35:30.804Z"
      },
      {
        "duration": 49,
        "start_time": "2023-11-12T14:35:30.910Z"
      },
      {
        "duration": 44,
        "start_time": "2023-11-12T14:35:30.960Z"
      },
      {
        "duration": 62,
        "start_time": "2023-11-12T14:35:31.006Z"
      },
      {
        "duration": 60,
        "start_time": "2023-11-13T16:14:07.993Z"
      },
      {
        "duration": 1470,
        "start_time": "2023-11-13T16:14:21.490Z"
      },
      {
        "duration": 523,
        "start_time": "2023-11-13T16:14:22.962Z"
      },
      {
        "duration": 12,
        "start_time": "2023-11-13T16:14:23.487Z"
      },
      {
        "duration": 29,
        "start_time": "2023-11-13T16:14:23.501Z"
      },
      {
        "duration": 3,
        "start_time": "2023-11-13T16:14:23.532Z"
      },
      {
        "duration": 19,
        "start_time": "2023-11-13T16:14:23.536Z"
      },
      {
        "duration": 94,
        "start_time": "2023-11-13T16:14:23.557Z"
      },
      {
        "duration": 108,
        "start_time": "2023-11-13T16:14:23.653Z"
      },
      {
        "duration": 117,
        "start_time": "2023-11-13T16:14:23.763Z"
      },
      {
        "duration": 115,
        "start_time": "2023-11-13T16:14:23.883Z"
      },
      {
        "duration": 0,
        "start_time": "2023-11-13T16:14:24.000Z"
      },
      {
        "duration": 0,
        "start_time": "2023-11-13T16:14:24.002Z"
      },
      {
        "duration": 0,
        "start_time": "2023-11-13T16:14:24.011Z"
      },
      {
        "duration": 0,
        "start_time": "2023-11-13T16:14:24.012Z"
      },
      {
        "duration": 0,
        "start_time": "2023-11-13T16:14:24.014Z"
      },
      {
        "duration": 0,
        "start_time": "2023-11-13T16:14:24.015Z"
      },
      {
        "duration": 0,
        "start_time": "2023-11-13T16:14:24.017Z"
      },
      {
        "duration": 0,
        "start_time": "2023-11-13T16:14:24.018Z"
      },
      {
        "duration": 0,
        "start_time": "2023-11-13T16:14:24.019Z"
      },
      {
        "duration": 0,
        "start_time": "2023-11-13T16:14:24.021Z"
      },
      {
        "duration": 0,
        "start_time": "2023-11-13T16:14:24.023Z"
      },
      {
        "duration": 0,
        "start_time": "2023-11-13T16:14:24.024Z"
      },
      {
        "duration": 0,
        "start_time": "2023-11-13T16:14:24.025Z"
      },
      {
        "duration": 0,
        "start_time": "2023-11-13T16:14:24.027Z"
      },
      {
        "duration": 0,
        "start_time": "2023-11-13T16:14:24.028Z"
      },
      {
        "duration": 0,
        "start_time": "2023-11-13T16:14:24.029Z"
      },
      {
        "duration": 1,
        "start_time": "2023-11-13T16:14:24.030Z"
      },
      {
        "duration": 0,
        "start_time": "2023-11-13T16:14:24.032Z"
      },
      {
        "duration": 0,
        "start_time": "2023-11-13T16:14:24.034Z"
      },
      {
        "duration": 0,
        "start_time": "2023-11-13T16:14:24.035Z"
      },
      {
        "duration": 0,
        "start_time": "2023-11-13T16:14:24.036Z"
      },
      {
        "duration": 0,
        "start_time": "2023-11-13T16:14:24.037Z"
      },
      {
        "duration": 0,
        "start_time": "2023-11-13T16:14:24.038Z"
      },
      {
        "duration": 0,
        "start_time": "2023-11-13T16:14:24.039Z"
      },
      {
        "duration": 1,
        "start_time": "2023-11-13T16:14:24.040Z"
      },
      {
        "duration": 1,
        "start_time": "2023-11-13T16:14:24.041Z"
      },
      {
        "duration": 0,
        "start_time": "2023-11-13T16:14:24.043Z"
      },
      {
        "duration": 0,
        "start_time": "2023-11-13T16:14:24.044Z"
      },
      {
        "duration": 0,
        "start_time": "2023-11-13T16:14:24.045Z"
      },
      {
        "duration": 0,
        "start_time": "2023-11-13T16:14:24.046Z"
      },
      {
        "duration": 0,
        "start_time": "2023-11-13T16:14:24.047Z"
      },
      {
        "duration": 0,
        "start_time": "2023-11-13T16:14:24.048Z"
      },
      {
        "duration": 0,
        "start_time": "2023-11-13T16:14:24.049Z"
      },
      {
        "duration": 0,
        "start_time": "2023-11-13T16:14:24.112Z"
      },
      {
        "duration": 0,
        "start_time": "2023-11-13T16:14:24.114Z"
      },
      {
        "duration": 0,
        "start_time": "2023-11-13T16:14:24.115Z"
      },
      {
        "duration": 1243,
        "start_time": "2023-11-13T16:15:05.454Z"
      },
      {
        "duration": 194,
        "start_time": "2023-11-13T16:15:06.698Z"
      },
      {
        "duration": 13,
        "start_time": "2023-11-13T16:15:06.894Z"
      },
      {
        "duration": 33,
        "start_time": "2023-11-13T16:15:06.911Z"
      },
      {
        "duration": 3,
        "start_time": "2023-11-13T16:15:06.945Z"
      },
      {
        "duration": 14,
        "start_time": "2023-11-13T16:15:06.950Z"
      },
      {
        "duration": 93,
        "start_time": "2023-11-13T16:15:06.965Z"
      },
      {
        "duration": 120,
        "start_time": "2023-11-13T16:15:07.060Z"
      },
      {
        "duration": 109,
        "start_time": "2023-11-13T16:15:07.182Z"
      },
      {
        "duration": 103,
        "start_time": "2023-11-13T16:15:07.294Z"
      },
      {
        "duration": 61,
        "start_time": "2023-11-13T16:15:07.399Z"
      },
      {
        "duration": 65,
        "start_time": "2023-11-13T16:15:07.462Z"
      },
      {
        "duration": 17,
        "start_time": "2023-11-13T16:15:07.529Z"
      },
      {
        "duration": 31,
        "start_time": "2023-11-13T16:15:07.548Z"
      },
      {
        "duration": 8,
        "start_time": "2023-11-13T16:15:07.581Z"
      },
      {
        "duration": 52,
        "start_time": "2023-11-13T16:15:07.591Z"
      },
      {
        "duration": 36,
        "start_time": "2023-11-13T16:15:07.644Z"
      },
      {
        "duration": 323,
        "start_time": "2023-11-13T16:15:07.682Z"
      },
      {
        "duration": 41,
        "start_time": "2023-11-13T16:15:08.006Z"
      },
      {
        "duration": 96,
        "start_time": "2023-11-13T16:15:08.049Z"
      },
      {
        "duration": 6,
        "start_time": "2023-11-13T16:15:08.147Z"
      },
      {
        "duration": 10,
        "start_time": "2023-11-13T16:15:08.154Z"
      },
      {
        "duration": 26,
        "start_time": "2023-11-13T16:15:08.166Z"
      },
      {
        "duration": 166,
        "start_time": "2023-11-13T16:15:08.193Z"
      },
      {
        "duration": 71,
        "start_time": "2023-11-13T16:15:08.360Z"
      },
      {
        "duration": 6,
        "start_time": "2023-11-13T16:15:08.433Z"
      },
      {
        "duration": 4,
        "start_time": "2023-11-13T16:15:08.441Z"
      },
      {
        "duration": 43,
        "start_time": "2023-11-13T16:15:08.448Z"
      },
      {
        "duration": 23,
        "start_time": "2023-11-13T16:15:08.493Z"
      },
      {
        "duration": 70,
        "start_time": "2023-11-13T16:15:08.518Z"
      },
      {
        "duration": 65,
        "start_time": "2023-11-13T16:15:08.590Z"
      },
      {
        "duration": 56,
        "start_time": "2023-11-13T16:15:08.656Z"
      },
      {
        "duration": 43,
        "start_time": "2023-11-13T16:15:08.715Z"
      },
      {
        "duration": 69,
        "start_time": "2023-11-13T16:15:08.759Z"
      },
      {
        "duration": 49,
        "start_time": "2023-11-13T16:15:08.830Z"
      },
      {
        "duration": 65,
        "start_time": "2023-11-13T16:15:08.881Z"
      },
      {
        "duration": 45,
        "start_time": "2023-11-13T16:15:08.948Z"
      },
      {
        "duration": 66,
        "start_time": "2023-11-13T16:15:08.995Z"
      },
      {
        "duration": 65,
        "start_time": "2023-11-13T16:15:09.063Z"
      },
      {
        "duration": 45,
        "start_time": "2023-11-13T16:15:09.129Z"
      },
      {
        "duration": 61,
        "start_time": "2023-11-13T16:15:09.176Z"
      },
      {
        "duration": 9,
        "start_time": "2023-11-13T16:15:09.239Z"
      },
      {
        "duration": 95,
        "start_time": "2023-11-13T16:15:09.250Z"
      },
      {
        "duration": 53,
        "start_time": "2023-11-13T16:15:09.347Z"
      },
      {
        "duration": 55,
        "start_time": "2023-11-13T16:15:09.411Z"
      },
      {
        "duration": 59,
        "start_time": "2023-11-13T16:15:09.467Z"
      },
      {
        "duration": 39,
        "start_time": "2023-11-13T16:28:10.764Z"
      },
      {
        "duration": 44,
        "start_time": "2023-11-13T16:29:01.948Z"
      },
      {
        "duration": 39,
        "start_time": "2023-11-13T16:32:50.521Z"
      },
      {
        "duration": 39,
        "start_time": "2023-11-13T16:33:13.846Z"
      },
      {
        "duration": 1308,
        "start_time": "2023-11-13T16:38:28.847Z"
      },
      {
        "duration": 513,
        "start_time": "2023-11-13T16:38:30.157Z"
      },
      {
        "duration": 13,
        "start_time": "2023-11-13T16:38:30.671Z"
      },
      {
        "duration": 47,
        "start_time": "2023-11-13T16:38:30.686Z"
      },
      {
        "duration": 10,
        "start_time": "2023-11-13T16:38:30.735Z"
      },
      {
        "duration": 39,
        "start_time": "2023-11-13T16:38:30.747Z"
      },
      {
        "duration": 83,
        "start_time": "2023-11-13T16:38:30.788Z"
      },
      {
        "duration": 93,
        "start_time": "2023-11-13T16:38:30.873Z"
      },
      {
        "duration": 109,
        "start_time": "2023-11-13T16:38:30.967Z"
      },
      {
        "duration": 105,
        "start_time": "2023-11-13T16:38:31.078Z"
      },
      {
        "duration": 61,
        "start_time": "2023-11-13T16:38:31.185Z"
      },
      {
        "duration": 63,
        "start_time": "2023-11-13T16:38:31.248Z"
      },
      {
        "duration": 36,
        "start_time": "2023-11-13T16:38:31.313Z"
      },
      {
        "duration": 50,
        "start_time": "2023-11-13T16:38:31.350Z"
      },
      {
        "duration": 37,
        "start_time": "2023-11-13T16:38:31.402Z"
      },
      {
        "duration": 42,
        "start_time": "2023-11-13T16:38:31.441Z"
      },
      {
        "duration": 55,
        "start_time": "2023-11-13T16:38:31.485Z"
      },
      {
        "duration": 310,
        "start_time": "2023-11-13T16:38:31.542Z"
      },
      {
        "duration": 33,
        "start_time": "2023-11-13T16:38:31.854Z"
      },
      {
        "duration": 28,
        "start_time": "2023-11-13T16:38:31.889Z"
      },
      {
        "duration": 17,
        "start_time": "2023-11-13T16:38:31.919Z"
      },
      {
        "duration": 26,
        "start_time": "2023-11-13T16:38:31.938Z"
      },
      {
        "duration": 38,
        "start_time": "2023-11-13T16:38:31.966Z"
      },
      {
        "duration": 181,
        "start_time": "2023-11-13T16:38:32.006Z"
      },
      {
        "duration": 71,
        "start_time": "2023-11-13T16:38:32.188Z"
      },
      {
        "duration": 5,
        "start_time": "2023-11-13T16:38:32.260Z"
      },
      {
        "duration": 6,
        "start_time": "2023-11-13T16:38:32.267Z"
      },
      {
        "duration": 52,
        "start_time": "2023-11-13T16:38:32.276Z"
      },
      {
        "duration": 6,
        "start_time": "2023-11-13T16:38:32.330Z"
      },
      {
        "duration": 64,
        "start_time": "2023-11-13T16:38:32.337Z"
      },
      {
        "duration": 45,
        "start_time": "2023-11-13T16:38:32.411Z"
      },
      {
        "duration": 59,
        "start_time": "2023-11-13T16:38:32.458Z"
      },
      {
        "duration": 43,
        "start_time": "2023-11-13T16:38:32.519Z"
      },
      {
        "duration": 70,
        "start_time": "2023-11-13T16:38:32.564Z"
      },
      {
        "duration": 46,
        "start_time": "2023-11-13T16:38:32.636Z"
      },
      {
        "duration": 67,
        "start_time": "2023-11-13T16:38:32.684Z"
      },
      {
        "duration": 42,
        "start_time": "2023-11-13T16:38:32.752Z"
      },
      {
        "duration": 63,
        "start_time": "2023-11-13T16:38:32.796Z"
      },
      {
        "duration": 54,
        "start_time": "2023-11-13T16:38:32.860Z"
      },
      {
        "duration": 48,
        "start_time": "2023-11-13T16:38:32.916Z"
      },
      {
        "duration": 59,
        "start_time": "2023-11-13T16:38:32.965Z"
      },
      {
        "duration": 6,
        "start_time": "2023-11-13T16:38:33.026Z"
      },
      {
        "duration": 54,
        "start_time": "2023-11-13T16:38:33.034Z"
      },
      {
        "duration": 59,
        "start_time": "2023-11-13T16:38:33.090Z"
      },
      {
        "duration": 65,
        "start_time": "2023-11-13T16:38:33.151Z"
      },
      {
        "duration": 48,
        "start_time": "2023-11-13T16:38:33.218Z"
      },
      {
        "duration": 38,
        "start_time": "2023-11-13T16:42:41.768Z"
      },
      {
        "duration": 25,
        "start_time": "2023-11-13T16:43:01.048Z"
      },
      {
        "duration": 25,
        "start_time": "2023-11-13T16:43:41.120Z"
      },
      {
        "duration": 26,
        "start_time": "2023-11-13T16:45:36.822Z"
      },
      {
        "duration": 6,
        "start_time": "2023-11-13T16:46:47.988Z"
      },
      {
        "duration": 6,
        "start_time": "2023-11-13T16:47:11.169Z"
      },
      {
        "duration": 6,
        "start_time": "2023-11-13T16:47:18.817Z"
      },
      {
        "duration": 6,
        "start_time": "2023-11-13T16:47:26.654Z"
      },
      {
        "duration": 1251,
        "start_time": "2023-11-13T16:49:05.780Z"
      },
      {
        "duration": 235,
        "start_time": "2023-11-13T16:49:07.033Z"
      },
      {
        "duration": 14,
        "start_time": "2023-11-13T16:49:07.270Z"
      },
      {
        "duration": 42,
        "start_time": "2023-11-13T16:49:07.287Z"
      },
      {
        "duration": 3,
        "start_time": "2023-11-13T16:49:07.331Z"
      },
      {
        "duration": 25,
        "start_time": "2023-11-13T16:49:07.336Z"
      },
      {
        "duration": 99,
        "start_time": "2023-11-13T16:49:07.362Z"
      },
      {
        "duration": 126,
        "start_time": "2023-11-13T16:49:07.463Z"
      },
      {
        "duration": 141,
        "start_time": "2023-11-13T16:49:07.591Z"
      },
      {
        "duration": 119,
        "start_time": "2023-11-13T16:49:07.735Z"
      },
      {
        "duration": 63,
        "start_time": "2023-11-13T16:49:07.855Z"
      },
      {
        "duration": 45,
        "start_time": "2023-11-13T16:49:07.920Z"
      },
      {
        "duration": 16,
        "start_time": "2023-11-13T16:49:07.967Z"
      },
      {
        "duration": 61,
        "start_time": "2023-11-13T16:49:07.985Z"
      },
      {
        "duration": 20,
        "start_time": "2023-11-13T16:49:08.048Z"
      },
      {
        "duration": 34,
        "start_time": "2023-11-13T16:49:08.069Z"
      },
      {
        "duration": 37,
        "start_time": "2023-11-13T16:49:08.105Z"
      },
      {
        "duration": 307,
        "start_time": "2023-11-13T16:49:08.144Z"
      },
      {
        "duration": 38,
        "start_time": "2023-11-13T16:49:08.453Z"
      },
      {
        "duration": 49,
        "start_time": "2023-11-13T16:49:08.493Z"
      },
      {
        "duration": 9,
        "start_time": "2023-11-13T16:49:08.544Z"
      },
      {
        "duration": 9,
        "start_time": "2023-11-13T16:49:08.555Z"
      },
      {
        "duration": 58,
        "start_time": "2023-11-13T16:49:08.565Z"
      },
      {
        "duration": 175,
        "start_time": "2023-11-13T16:49:08.625Z"
      },
      {
        "duration": 71,
        "start_time": "2023-11-13T16:49:08.801Z"
      },
      {
        "duration": 6,
        "start_time": "2023-11-13T16:49:08.873Z"
      },
      {
        "duration": 6,
        "start_time": "2023-11-13T16:49:08.880Z"
      },
      {
        "duration": 35,
        "start_time": "2023-11-13T16:49:08.911Z"
      },
      {
        "duration": 7,
        "start_time": "2023-11-13T16:49:08.947Z"
      },
      {
        "duration": 71,
        "start_time": "2023-11-13T16:49:08.956Z"
      },
      {
        "duration": 48,
        "start_time": "2023-11-13T16:49:09.028Z"
      },
      {
        "duration": 65,
        "start_time": "2023-11-13T16:49:09.078Z"
      },
      {
        "duration": 69,
        "start_time": "2023-11-13T16:49:09.146Z"
      },
      {
        "duration": 77,
        "start_time": "2023-11-13T16:49:09.217Z"
      },
      {
        "duration": 75,
        "start_time": "2023-11-13T16:49:09.297Z"
      },
      {
        "duration": 64,
        "start_time": "2023-11-13T16:49:09.375Z"
      },
      {
        "duration": 47,
        "start_time": "2023-11-13T16:49:09.440Z"
      },
      {
        "duration": 69,
        "start_time": "2023-11-13T16:49:09.488Z"
      },
      {
        "duration": 61,
        "start_time": "2023-11-13T16:49:09.558Z"
      },
      {
        "duration": 54,
        "start_time": "2023-11-13T16:49:09.621Z"
      },
      {
        "duration": 74,
        "start_time": "2023-11-13T16:49:09.677Z"
      },
      {
        "duration": 8,
        "start_time": "2023-11-13T16:49:09.752Z"
      },
      {
        "duration": 458,
        "start_time": "2023-11-13T16:49:09.762Z"
      },
      {
        "duration": 48,
        "start_time": "2023-11-13T16:49:10.222Z"
      },
      {
        "duration": 65,
        "start_time": "2023-11-13T16:49:10.272Z"
      },
      {
        "duration": 50,
        "start_time": "2023-11-13T16:49:10.339Z"
      },
      {
        "duration": 1146,
        "start_time": "2023-11-14T12:04:17.803Z"
      },
      {
        "duration": 180,
        "start_time": "2023-11-14T12:04:18.951Z"
      },
      {
        "duration": 12,
        "start_time": "2023-11-14T12:04:19.133Z"
      },
      {
        "duration": 31,
        "start_time": "2023-11-14T12:04:19.146Z"
      },
      {
        "duration": 3,
        "start_time": "2023-11-14T12:04:19.179Z"
      },
      {
        "duration": 26,
        "start_time": "2023-11-14T12:04:19.184Z"
      },
      {
        "duration": 69,
        "start_time": "2023-11-14T12:04:19.212Z"
      },
      {
        "duration": 90,
        "start_time": "2023-11-14T12:04:19.282Z"
      },
      {
        "duration": 101,
        "start_time": "2023-11-14T12:04:19.374Z"
      },
      {
        "duration": 94,
        "start_time": "2023-11-14T12:04:19.476Z"
      },
      {
        "duration": 53,
        "start_time": "2023-11-14T12:04:19.572Z"
      },
      {
        "duration": 38,
        "start_time": "2023-11-14T12:04:19.627Z"
      },
      {
        "duration": 13,
        "start_time": "2023-11-14T12:04:19.666Z"
      },
      {
        "duration": 40,
        "start_time": "2023-11-14T12:04:19.699Z"
      },
      {
        "duration": 24,
        "start_time": "2023-11-14T12:04:19.741Z"
      },
      {
        "duration": 27,
        "start_time": "2023-11-14T12:04:19.766Z"
      },
      {
        "duration": 35,
        "start_time": "2023-11-14T12:04:19.795Z"
      },
      {
        "duration": 276,
        "start_time": "2023-11-14T12:04:19.831Z"
      },
      {
        "duration": 32,
        "start_time": "2023-11-14T12:04:20.109Z"
      },
      {
        "duration": 24,
        "start_time": "2023-11-14T12:04:20.143Z"
      },
      {
        "duration": 33,
        "start_time": "2023-11-14T12:04:20.168Z"
      },
      {
        "duration": 21,
        "start_time": "2023-11-14T12:04:20.203Z"
      },
      {
        "duration": 40,
        "start_time": "2023-11-14T12:04:20.225Z"
      },
      {
        "duration": 141,
        "start_time": "2023-11-14T12:04:20.267Z"
      },
      {
        "duration": 54,
        "start_time": "2023-11-14T12:04:20.410Z"
      },
      {
        "duration": 4,
        "start_time": "2023-11-14T12:04:20.466Z"
      },
      {
        "duration": 13,
        "start_time": "2023-11-14T12:04:20.473Z"
      },
      {
        "duration": 34,
        "start_time": "2023-11-14T12:04:20.500Z"
      },
      {
        "duration": 6,
        "start_time": "2023-11-14T12:04:20.536Z"
      },
      {
        "duration": 69,
        "start_time": "2023-11-14T12:04:20.544Z"
      },
      {
        "duration": 46,
        "start_time": "2023-11-14T12:04:20.615Z"
      },
      {
        "duration": 65,
        "start_time": "2023-11-14T12:04:20.663Z"
      },
      {
        "duration": 45,
        "start_time": "2023-11-14T12:04:20.730Z"
      },
      {
        "duration": 63,
        "start_time": "2023-11-14T12:04:20.777Z"
      },
      {
        "duration": 58,
        "start_time": "2023-11-14T12:04:20.841Z"
      },
      {
        "duration": 45,
        "start_time": "2023-11-14T12:04:20.901Z"
      },
      {
        "duration": 60,
        "start_time": "2023-11-14T12:04:20.948Z"
      },
      {
        "duration": 46,
        "start_time": "2023-11-14T12:04:21.010Z"
      },
      {
        "duration": 57,
        "start_time": "2023-11-14T12:04:21.058Z"
      },
      {
        "duration": 44,
        "start_time": "2023-11-14T12:04:21.117Z"
      },
      {
        "duration": 65,
        "start_time": "2023-11-14T12:04:21.164Z"
      },
      {
        "duration": 5,
        "start_time": "2023-11-14T12:04:21.231Z"
      },
      {
        "duration": 62,
        "start_time": "2023-11-14T12:04:21.238Z"
      },
      {
        "duration": 49,
        "start_time": "2023-11-14T12:04:21.301Z"
      },
      {
        "duration": 63,
        "start_time": "2023-11-14T12:04:21.352Z"
      },
      {
        "duration": 47,
        "start_time": "2023-11-14T12:04:21.416Z"
      },
      {
        "duration": 6,
        "start_time": "2023-11-14T12:07:06.566Z"
      },
      {
        "duration": 6,
        "start_time": "2023-11-14T12:07:17.021Z"
      },
      {
        "duration": 1230,
        "start_time": "2023-11-14T12:08:33.435Z"
      },
      {
        "duration": 179,
        "start_time": "2023-11-14T12:08:34.667Z"
      },
      {
        "duration": 14,
        "start_time": "2023-11-14T12:08:34.848Z"
      },
      {
        "duration": 35,
        "start_time": "2023-11-14T12:08:34.864Z"
      },
      {
        "duration": 3,
        "start_time": "2023-11-14T12:08:34.902Z"
      },
      {
        "duration": 27,
        "start_time": "2023-11-14T12:08:34.907Z"
      },
      {
        "duration": 75,
        "start_time": "2023-11-14T12:08:34.935Z"
      },
      {
        "duration": 90,
        "start_time": "2023-11-14T12:08:35.012Z"
      },
      {
        "duration": 116,
        "start_time": "2023-11-14T12:08:35.104Z"
      },
      {
        "duration": 110,
        "start_time": "2023-11-14T12:08:35.222Z"
      },
      {
        "duration": 51,
        "start_time": "2023-11-14T12:08:35.334Z"
      },
      {
        "duration": 49,
        "start_time": "2023-11-14T12:08:35.386Z"
      },
      {
        "duration": 13,
        "start_time": "2023-11-14T12:08:35.437Z"
      },
      {
        "duration": 47,
        "start_time": "2023-11-14T12:08:35.453Z"
      },
      {
        "duration": 45,
        "start_time": "2023-11-14T12:08:35.501Z"
      },
      {
        "duration": 23,
        "start_time": "2023-11-14T12:08:35.548Z"
      },
      {
        "duration": 36,
        "start_time": "2023-11-14T12:08:35.572Z"
      },
      {
        "duration": 290,
        "start_time": "2023-11-14T12:08:35.609Z"
      },
      {
        "duration": 31,
        "start_time": "2023-11-14T12:08:35.901Z"
      },
      {
        "duration": 31,
        "start_time": "2023-11-14T12:08:35.934Z"
      },
      {
        "duration": 6,
        "start_time": "2023-11-14T12:08:35.967Z"
      },
      {
        "duration": 26,
        "start_time": "2023-11-14T12:08:35.975Z"
      },
      {
        "duration": 34,
        "start_time": "2023-11-14T12:08:36.002Z"
      },
      {
        "duration": 153,
        "start_time": "2023-11-14T12:08:36.037Z"
      },
      {
        "duration": 68,
        "start_time": "2023-11-14T12:08:36.191Z"
      },
      {
        "duration": 5,
        "start_time": "2023-11-14T12:08:36.261Z"
      },
      {
        "duration": 31,
        "start_time": "2023-11-14T12:08:36.268Z"
      },
      {
        "duration": 34,
        "start_time": "2023-11-14T12:08:36.301Z"
      },
      {
        "duration": 6,
        "start_time": "2023-11-14T12:08:36.337Z"
      },
      {
        "duration": 75,
        "start_time": "2023-11-14T12:08:36.344Z"
      },
      {
        "duration": 42,
        "start_time": "2023-11-14T12:08:36.421Z"
      },
      {
        "duration": 56,
        "start_time": "2023-11-14T12:08:36.465Z"
      },
      {
        "duration": 41,
        "start_time": "2023-11-14T12:08:36.522Z"
      },
      {
        "duration": 69,
        "start_time": "2023-11-14T12:08:36.565Z"
      },
      {
        "duration": 43,
        "start_time": "2023-11-14T12:08:36.635Z"
      },
      {
        "duration": 57,
        "start_time": "2023-11-14T12:08:36.679Z"
      },
      {
        "duration": 40,
        "start_time": "2023-11-14T12:08:36.738Z"
      },
      {
        "duration": 66,
        "start_time": "2023-11-14T12:08:36.779Z"
      },
      {
        "duration": 55,
        "start_time": "2023-11-14T12:08:36.847Z"
      },
      {
        "duration": 44,
        "start_time": "2023-11-14T12:08:36.904Z"
      },
      {
        "duration": 62,
        "start_time": "2023-11-14T12:08:36.952Z"
      },
      {
        "duration": 6,
        "start_time": "2023-11-14T12:08:37.015Z"
      },
      {
        "duration": 68,
        "start_time": "2023-11-14T12:08:37.022Z"
      },
      {
        "duration": 51,
        "start_time": "2023-11-14T12:08:37.092Z"
      },
      {
        "duration": 57,
        "start_time": "2023-11-14T12:08:37.144Z"
      },
      {
        "duration": 46,
        "start_time": "2023-11-14T12:08:37.203Z"
      }
    ],
    "kernelspec": {
      "display_name": "Python 3 (ipykernel)",
      "language": "python",
      "name": "python3"
    },
    "language_info": {
      "codemirror_mode": {
        "name": "ipython",
        "version": 3
      },
      "file_extension": ".py",
      "mimetype": "text/x-python",
      "name": "python",
      "nbconvert_exporter": "python",
      "pygments_lexer": "ipython3",
      "version": "3.9.5"
    },
    "toc": {
      "base_numbering": 1,
      "nav_menu": {},
      "number_sections": true,
      "sideBar": true,
      "skip_h1_title": true,
      "title_cell": "Table of Contents",
      "title_sidebar": "Contents",
      "toc_cell": false,
      "toc_position": {},
      "toc_section_display": true,
      "toc_window_display": false
    },
    "colab": {
      "provenance": []
    }
  },
  "nbformat": 4,
  "nbformat_minor": 0
}